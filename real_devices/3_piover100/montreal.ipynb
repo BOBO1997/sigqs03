{
 "cells": [
  {
   "cell_type": "code",
   "execution_count": 1,
   "metadata": {},
   "outputs": [],
   "source": [
    "import sys\n",
    "sys.path.append('../../libmitigation')"
   ]
  },
  {
   "cell_type": "code",
   "execution_count": 2,
   "metadata": {},
   "outputs": [
    {
     "name": "stderr",
     "output_type": "stream",
     "text": [
      "/Users/yangbo/.pyenv/versions/anaconda3-5.1.0/lib/python3.6/site-packages/qiskit/__init__.py:67: DeprecationWarning: Using Qiskit with Python 3.6 is deprecated as of the 0.17.0 release. Support for running Qiskit with Python 3.6 will be removed in a future release.\n",
      "  \"future release.\", DeprecationWarning)\n"
     ]
    }
   ],
   "source": [
    "#Preparing qiskit environment\n",
    "from qiskit import ClassicalRegister, QuantumRegister, QuantumCircuit\n",
    "from qiskit import execute\n",
    "from qiskit import IBMQ\n",
    "from qiskit import Aer\n",
    "from scipy import optimize\n",
    "import sys, time\n",
    "import mpmath as mp\n",
    "import numpy as np\n",
    "import matplotlib.pyplot as plt"
   ]
  },
  {
   "cell_type": "code",
   "execution_count": 3,
   "metadata": {},
   "outputs": [],
   "source": [
    "from qiskit.providers.aer.noise import NoiseModel\n",
    "from qiskit.providers.aer.noise import QuantumError, ReadoutError\n",
    "from qiskit.providers.aer.noise import depolarizing_error\n",
    "import qiskit.ignis.mitigation as mit\n",
    "from qiskit.ignis.mitigation.measurement import tensored_meas_cal, TensoredMeasFitter\n",
    "from qiskit.result import Result\n",
    "import importlib\n",
    "from inv_sgs import InvSGS\n",
    "from inv_s_sgs import InvSSGS\n",
    "from inv_lm_sgs import InvLMSGS\n",
    "from inv_s_lm_sgs import InvSLMSGS\n",
    "from inv_s_lm0_sgs import InvSLM0SGS\n",
    "from inv_s_lmk_sgs import InvSLMkSGS\n",
    "from mooney_etal import MooneyEtal\n",
    "from sgs_algorithm import sgs_algorithm\n",
    "from lib_grover import *\n",
    "from qiskit.compiler import transpile"
   ]
  },
  {
   "cell_type": "code",
   "execution_count": 4,
   "metadata": {},
   "outputs": [],
   "source": [
    "# import lib_grover\n",
    "# importlib.reload(lib_grover)\n",
    "# from lib_grover import *"
   ]
  },
  {
   "cell_type": "markdown",
   "metadata": {},
   "source": [
    "### Approximating the integral\n",
    "\n",
    "It is easy to see that as we use large $n$ (i.e., more qubits) and thus larger $b_{\\mbox{max}}$, we can approximate the integral better as illustrated below. "
   ]
  },
  {
   "cell_type": "code",
   "execution_count": 5,
   "metadata": {},
   "outputs": [
    {
     "name": "stdout",
     "output_type": "stream",
     "text": [
      "Analytical Result: 0.00032892188007938847\n",
      "Discretized Result: 0.0003276376184271807\n"
     ]
    }
   ],
   "source": [
    "import math\n",
    "\n",
    "b_max = math.pi / 100  # upper limit of integral # 5\n",
    "nbit = 3  # change this value to get discretized result closer to analytical results # 3\n",
    "\n",
    "analyticResult = (b_max / 2.0 - math.sin(2 * b_max) / 4.0 ) / b_max  # the target integral can be analytically solved\n",
    "print(\"Analytical Result:\", analyticResult)\n",
    "\n",
    "ndiv = 2 ** nbit  #number of discretization \n",
    "discretizedResult = 0.0\n",
    "for i in range(ndiv):\n",
    "    discretizedResult += math.sin(b_max / ndiv * (i + 0.5))**2\n",
    "discretizedResult = discretizedResult / ndiv\n",
    "print(\"Discretized Result:\", discretizedResult)"
   ]
  },
  {
   "cell_type": "markdown",
   "metadata": {},
   "source": [
    "For example, quantum circuit with two Grover operators is shown below."
   ]
  },
  {
   "cell_type": "code",
   "execution_count": 6,
   "metadata": {
    "scrolled": true
   },
   "outputs": [
    {
     "name": "stderr",
     "output_type": "stream",
     "text": [
      "/Users/yangbo/.pyenv/versions/anaconda3-5.1.0/lib/python3.6/site-packages/qiskit/visualization/matplotlib.py:291: DeprecationWarning: style option/s (usepiformat, cregbundle, compress) is/are not supported\n",
      "  set_style(current_style, style)\n"
     ]
    },
    {
     "data": {
      "image/png": "[encoded data removed]",
      "text/plain": [
       "<Figure size 1604.58x325.08 with 1 Axes>"
      ]
     },
     "execution_count": 6,
     "metadata": {},
     "output_type": "execute_result"
    }
   ],
   "source": [
    "qc_list = create_grover_circuit([1], nbit, b_max, barrier=False)\n",
    "my_style = {'usepiformat': True, 'cregbundle': True,'compress': True }\n",
    "qc_list[0].draw(output=\"mpl\", style=my_style, plot_barriers=False )"
   ]
  },
  {
   "cell_type": "markdown",
   "metadata": {},
   "source": [
    "## Testing the algorithm with simulators\n",
    "\n",
    "Let us run the algorithm with simulators"
   ]
  },
  {
   "cell_type": "code",
   "execution_count": 7,
   "metadata": {},
   "outputs": [],
   "source": [
    "#setting the number of shots and Grover operators.\n",
    "\n",
    "# number_grover_list = [0, 1, 2, 4, 8, 16, 32] # , 64, 128, 256]  # list of number of Grover operators\n",
    "number_grover_list = [i for i in range(100)]\n",
    "shots = 100\n",
    "shots_list = [shots] * len(number_grover_list) # list of number of shots\n",
    "if len(shots_list) != len(number_grover_list):\n",
    "    raise Exception(\n",
    "        'The length of shots_list should be equal to the length of number_grover_list.'\n",
    "    )\n",
    "\n",
    "backend = Aer.get_backend('qasm_simulator')"
   ]
  },
  {
   "cell_type": "code",
   "execution_count": 8,
   "metadata": {},
   "outputs": [],
   "source": [
    "qc_list = create_grover_circuit(number_grover_list, nbit, b_max, barrier=False)  # list of Grover circuits"
   ]
  },
  {
   "cell_type": "markdown",
   "metadata": {},
   "source": [
    "## real device"
   ]
  },
  {
   "cell_type": "code",
   "execution_count": 9,
   "metadata": {},
   "outputs": [
    {
     "name": "stdout",
     "output_type": "stream",
     "text": [
      "<AccountProvider for IBMQ(hub='ibm-q-utokyo', group='internal', project='hirashi-jst')>\n"
     ]
    }
   ],
   "source": [
    "IBMQ.load_account()\n",
    "provider = IBMQ.get_provider(hub='ibm-q-utokyo', group='internal', project='hirashi-jst')\n",
    "print(provider)"
   ]
  },
  {
   "cell_type": "code",
   "execution_count": 10,
   "metadata": {},
   "outputs": [
    {
     "name": "stderr",
     "output_type": "stream",
     "text": [
      "/Users/yangbo/.pyenv/versions/anaconda3-5.1.0/lib/python3.6/site-packages/ipykernel_launcher.py:1: DeprecationWarning: The `backends` provider attribute is deprecated. Please use `provider.backend` (singular) instead. You can continue to use `provider.backends()` to retrieve all backends.\n",
      "  \"\"\"Entry point for launching an IPython kernel.\n"
     ]
    }
   ],
   "source": [
    "device = provider.backends.ibmq_montreal"
   ]
  },
  {
   "cell_type": "code",
   "execution_count": 11,
   "metadata": {},
   "outputs": [],
   "source": [
    "initial_layout = [10,13,15,12]"
   ]
  },
  {
   "cell_type": "code",
   "execution_count": 12,
   "metadata": {},
   "outputs": [],
   "source": [
    "optim1_qc_list = [transpile(qc,\n",
    "                           basis_gates=['u1','u2','u3','cx'], \n",
    "                           coupling_map=[[0,3],[1,3],[2,3]], \n",
    "                           optimization_level=1) for qc in qc_list]"
   ]
  },
  {
   "cell_type": "code",
   "execution_count": 13,
   "metadata": {},
   "outputs": [],
   "source": [
    "optim2_qc_list = [transpile(qc,\n",
    "                           basis_gates=['u1','u2','u3','cx'], \n",
    "                           coupling_map=[[0,3],[1,3],[2,3]], \n",
    "                           optimization_level=2) for qc in qc_list]"
   ]
  },
  {
   "cell_type": "code",
   "execution_count": 14,
   "metadata": {},
   "outputs": [],
   "source": [
    "optim3_qc_list = [transpile(qc,\n",
    "                           basis_gates=['u1','u2','u3','cx'], \n",
    "                           coupling_map=[[0,3],[1,3],[2,3]], \n",
    "                           optimization_level=3) for qc in qc_list]"
   ]
  },
  {
   "cell_type": "code",
   "execution_count": 15,
   "metadata": {},
   "outputs": [
    {
     "name": "stdout",
     "output_type": "stream",
     "text": [
      "99 OrderedDict([('u2', 53), ('cx', 50), ('u3', 24), ('u1', 4), ('measure', 4), ('barrier', 1)])\n",
      "69 OrderedDict([('cx', 35), ('u2', 23), ('u3', 19), ('u1', 9), ('measure', 4), ('barrier', 1)])\n",
      "74 OrderedDict([('cx', 36), ('u2', 31), ('u3', 19), ('u1', 19), ('measure', 4), ('barrier', 1)])\n"
     ]
    }
   ],
   "source": [
    "print(optim1_qc_list[1].depth(), optim1_qc_list[1].count_ops())\n",
    "print(optim2_qc_list[1].depth(), optim2_qc_list[1].count_ops())\n",
    "print(optim3_qc_list[1].depth(), optim3_qc_list[1].count_ops())"
   ]
  },
  {
   "cell_type": "code",
   "execution_count": 12,
   "metadata": {},
   "outputs": [],
   "source": [
    "qr = QuantumRegister(nbit+1)\n",
    "mit_pattern = [[i] for i in range(nbit+1)]\n",
    "meas_calibs, state_labels = tensored_meas_cal(mit_pattern=mit_pattern, qr=qr, circlabel='mcal')"
   ]
  },
  {
   "cell_type": "code",
   "execution_count": 14,
   "metadata": {},
   "outputs": [],
   "source": [
    "import pickle\n",
    "with open(\"optim1_qc_list_0to99.pkl\", \"rb\") as f:\n",
    "    optim1_qc_list = pickle.load(f)\n",
    "with open(\"optim2_qc_list_0to99.pkl\", \"rb\") as f:\n",
    "    optim2_qc_list = pickle.load(f)\n",
    "with open(\"optim3_qc_list_0to99.pkl\", \"rb\") as f:\n",
    "    optim3_qc_list = pickle.load(f)"
   ]
  },
  {
   "cell_type": "code",
   "execution_count": 18,
   "metadata": {},
   "outputs": [
    {
     "name": "stderr",
     "output_type": "stream",
     "text": [
      "Process Process-23:\n",
      "Process Process-22:\n",
      "Traceback (most recent call last):\n",
      "Traceback (most recent call last):\n",
      "  File \"/Users/yangbo/.pyenv/versions/anaconda3-5.1.0/lib/python3.6/multiprocessing/process.py\", line 258, in _bootstrap\n",
      "    self.run()\n",
      "  File \"/Users/yangbo/.pyenv/versions/anaconda3-5.1.0/lib/python3.6/multiprocessing/process.py\", line 258, in _bootstrap\n",
      "    self.run()\n",
      "  File \"/Users/yangbo/.pyenv/versions/anaconda3-5.1.0/lib/python3.6/multiprocessing/process.py\", line 93, in run\n",
      "    self._target(*self._args, **self._kwargs)\n",
      "  File \"/Users/yangbo/.pyenv/versions/anaconda3-5.1.0/lib/python3.6/multiprocessing/process.py\", line 93, in run\n",
      "    self._target(*self._args, **self._kwargs)\n",
      "  File \"/Users/yangbo/.pyenv/versions/anaconda3-5.1.0/lib/python3.6/concurrent/futures/process.py\", line 181, in _process_worker\n",
      "    result=r))\n",
      "  File \"/Users/yangbo/.pyenv/versions/anaconda3-5.1.0/lib/python3.6/concurrent/futures/process.py\", line 181, in _process_worker\n",
      "    result=r))\n",
      "  File \"/Users/yangbo/.pyenv/versions/anaconda3-5.1.0/lib/python3.6/multiprocessing/queues.py\", line 347, in put\n",
      "    self._writer.send_bytes(obj)\n",
      "  File \"/Users/yangbo/.pyenv/versions/anaconda3-5.1.0/lib/python3.6/multiprocessing/queues.py\", line 346, in put\n",
      "    with self._wlock:\n",
      "  File \"/Users/yangbo/.pyenv/versions/anaconda3-5.1.0/lib/python3.6/multiprocessing/connection.py\", line 200, in send_bytes\n",
      "    self._send_bytes(m[offset:offset + size])\n",
      "  File \"/Users/yangbo/.pyenv/versions/anaconda3-5.1.0/lib/python3.6/multiprocessing/synchronize.py\", line 95, in __enter__\n",
      "    return self._semlock.__enter__()\n",
      "  File \"/Users/yangbo/.pyenv/versions/anaconda3-5.1.0/lib/python3.6/multiprocessing/connection.py\", line 398, in _send_bytes\n",
      "    self._send(buf)\n",
      "KeyboardInterrupt\n",
      "  File \"/Users/yangbo/.pyenv/versions/anaconda3-5.1.0/lib/python3.6/multiprocessing/connection.py\", line 368, in _send\n",
      "    n = write(self._handle, buf)\n"
     ]
    },
    {
     "ename": "QiskitError",
     "evalue": "'Keyboard interrupt in parallel_map.'",
     "output_type": "error",
     "traceback": [
      "\u001b[0;31m---------------------------------------------------------------------------\u001b[0m",
      "\u001b[0;31mKeyboardInterrupt\u001b[0m                         Traceback (most recent call last)",
      "\u001b[0;32m~/.pyenv/versions/anaconda3-5.1.0/lib/python3.6/site-packages/qiskit/tools/parallel.py\u001b[0m in \u001b[0;36mparallel_map\u001b[0;34m(task, values, task_args, task_kwargs, num_processes)\u001b[0m\n\u001b[1;32m    144\u001b[0m         \u001b[0;32mand\u001b[0m \u001b[0mos\u001b[0m\u001b[0;34m.\u001b[0m\u001b[0mgetenv\u001b[0m\u001b[0;34m(\u001b[0m\u001b[0;34m\"QISKIT_IN_PARALLEL\"\u001b[0m\u001b[0;34m)\u001b[0m \u001b[0;34m==\u001b[0m \u001b[0;34m\"FALSE\"\u001b[0m\u001b[0;34m\u001b[0m\u001b[0;34m\u001b[0m\u001b[0m\n\u001b[0;32m--> 145\u001b[0;31m         \u001b[0;32mand\u001b[0m \u001b[0mCONFIG\u001b[0m\u001b[0;34m.\u001b[0m\u001b[0mget\u001b[0m\u001b[0;34m(\u001b[0m\u001b[0;34m\"parallel_enabled\"\u001b[0m\u001b[0;34m,\u001b[0m \u001b[0mPARALLEL_DEFAULT\u001b[0m\u001b[0;34m)\u001b[0m\u001b[0;34m\u001b[0m\u001b[0;34m\u001b[0m\u001b[0m\n\u001b[0m\u001b[1;32m    146\u001b[0m     ):\n",
      "\u001b[0;32m~/.pyenv/versions/anaconda3-5.1.0/lib/python3.6/concurrent/futures/_base.py\u001b[0m in \u001b[0;36m__exit__\u001b[0;34m(self, exc_type, exc_val, exc_tb)\u001b[0m\n\u001b[1;32m    610\u001b[0m     \u001b[0;32mdef\u001b[0m \u001b[0m__exit__\u001b[0m\u001b[0;34m(\u001b[0m\u001b[0mself\u001b[0m\u001b[0;34m,\u001b[0m \u001b[0mexc_type\u001b[0m\u001b[0;34m,\u001b[0m \u001b[0mexc_val\u001b[0m\u001b[0;34m,\u001b[0m \u001b[0mexc_tb\u001b[0m\u001b[0;34m)\u001b[0m\u001b[0;34m:\u001b[0m\u001b[0;34m\u001b[0m\u001b[0;34m\u001b[0m\u001b[0m\n\u001b[0;32m--> 611\u001b[0;31m         \u001b[0mself\u001b[0m\u001b[0;34m.\u001b[0m\u001b[0mshutdown\u001b[0m\u001b[0;34m(\u001b[0m\u001b[0mwait\u001b[0m\u001b[0;34m=\u001b[0m\u001b[0;32mTrue\u001b[0m\u001b[0;34m)\u001b[0m\u001b[0;34m\u001b[0m\u001b[0;34m\u001b[0m\u001b[0m\n\u001b[0m\u001b[1;32m    612\u001b[0m         \u001b[0;32mreturn\u001b[0m \u001b[0;32mFalse\u001b[0m\u001b[0;34m\u001b[0m\u001b[0;34m\u001b[0m\u001b[0m\n",
      "\u001b[0;32m~/.pyenv/versions/anaconda3-5.1.0/lib/python3.6/concurrent/futures/process.py\u001b[0m in \u001b[0;36mshutdown\u001b[0;34m(self, wait)\u001b[0m\n\u001b[1;32m    505\u001b[0m             \u001b[0;32mif\u001b[0m \u001b[0mwait\u001b[0m\u001b[0;34m:\u001b[0m\u001b[0;34m\u001b[0m\u001b[0;34m\u001b[0m\u001b[0m\n\u001b[0;32m--> 506\u001b[0;31m                 \u001b[0mself\u001b[0m\u001b[0;34m.\u001b[0m\u001b[0m_queue_management_thread\u001b[0m\u001b[0;34m.\u001b[0m\u001b[0mjoin\u001b[0m\u001b[0;34m(\u001b[0m\u001b[0;34m)\u001b[0m\u001b[0;34m\u001b[0m\u001b[0;34m\u001b[0m\u001b[0m\n\u001b[0m\u001b[1;32m    507\u001b[0m         \u001b[0;31m# To reduce the risk of opening too many files, remove references to\u001b[0m\u001b[0;34m\u001b[0m\u001b[0;34m\u001b[0m\u001b[0;34m\u001b[0m\u001b[0m\n",
      "\u001b[0;32m~/.pyenv/versions/anaconda3-5.1.0/lib/python3.6/threading.py\u001b[0m in \u001b[0;36mjoin\u001b[0;34m(self, timeout)\u001b[0m\n\u001b[1;32m   1055\u001b[0m         \u001b[0;32mif\u001b[0m \u001b[0mtimeout\u001b[0m \u001b[0;32mis\u001b[0m \u001b[0;32mNone\u001b[0m\u001b[0;34m:\u001b[0m\u001b[0;34m\u001b[0m\u001b[0;34m\u001b[0m\u001b[0m\n\u001b[0;32m-> 1056\u001b[0;31m             \u001b[0mself\u001b[0m\u001b[0;34m.\u001b[0m\u001b[0m_wait_for_tstate_lock\u001b[0m\u001b[0;34m(\u001b[0m\u001b[0;34m)\u001b[0m\u001b[0;34m\u001b[0m\u001b[0;34m\u001b[0m\u001b[0m\n\u001b[0m\u001b[1;32m   1057\u001b[0m         \u001b[0;32melse\u001b[0m\u001b[0;34m:\u001b[0m\u001b[0;34m\u001b[0m\u001b[0;34m\u001b[0m\u001b[0m\n",
      "\u001b[0;32m~/.pyenv/versions/anaconda3-5.1.0/lib/python3.6/threading.py\u001b[0m in \u001b[0;36m_wait_for_tstate_lock\u001b[0;34m(self, block, timeout)\u001b[0m\n\u001b[1;32m   1071\u001b[0m             \u001b[0;32massert\u001b[0m \u001b[0mself\u001b[0m\u001b[0;34m.\u001b[0m\u001b[0m_is_stopped\u001b[0m\u001b[0;34m\u001b[0m\u001b[0;34m\u001b[0m\u001b[0m\n\u001b[0;32m-> 1072\u001b[0;31m         \u001b[0;32melif\u001b[0m \u001b[0mlock\u001b[0m\u001b[0;34m.\u001b[0m\u001b[0macquire\u001b[0m\u001b[0;34m(\u001b[0m\u001b[0mblock\u001b[0m\u001b[0;34m,\u001b[0m \u001b[0mtimeout\u001b[0m\u001b[0;34m)\u001b[0m\u001b[0;34m:\u001b[0m\u001b[0;34m\u001b[0m\u001b[0;34m\u001b[0m\u001b[0m\n\u001b[0m\u001b[1;32m   1073\u001b[0m             \u001b[0mlock\u001b[0m\u001b[0;34m.\u001b[0m\u001b[0mrelease\u001b[0m\u001b[0;34m(\u001b[0m\u001b[0;34m)\u001b[0m\u001b[0;34m\u001b[0m\u001b[0;34m\u001b[0m\u001b[0m\n",
      "\u001b[0;31mKeyboardInterrupt\u001b[0m: ",
      "\nThe above exception was the direct cause of the following exception:\n",
      "\u001b[0;31mQiskitError\u001b[0m                               Traceback (most recent call last)",
      "\u001b[0;32m<ipython-input-18-c4c6d5562344>\u001b[0m in \u001b[0;36m<module>\u001b[0;34m\u001b[0m\n\u001b[0;32m----> 1\u001b[0;31m \u001b[0mjob\u001b[0m \u001b[0;34m=\u001b[0m \u001b[0mexecute\u001b[0m\u001b[0;34m(\u001b[0m\u001b[0moptim3_qc_list\u001b[0m\u001b[0;34m[\u001b[0m\u001b[0;34m:\u001b[0m\u001b[0;36m50\u001b[0m\u001b[0;34m]\u001b[0m \u001b[0;34m+\u001b[0m \u001b[0mmeas_calibs\u001b[0m\u001b[0;34m,\u001b[0m \u001b[0mbackend\u001b[0m\u001b[0;34m=\u001b[0m\u001b[0mprovider\u001b[0m\u001b[0;34m.\u001b[0m\u001b[0mget_backend\u001b[0m\u001b[0;34m(\u001b[0m\u001b[0;34m\"ibmq_montreal\"\u001b[0m\u001b[0;34m)\u001b[0m\u001b[0;34m,\u001b[0m \u001b[0mshots\u001b[0m\u001b[0;34m=\u001b[0m\u001b[0mshots\u001b[0m\u001b[0;34m,\u001b[0m \u001b[0minitial_layout\u001b[0m\u001b[0;34m=\u001b[0m\u001b[0minitial_layout\u001b[0m\u001b[0;34m)\u001b[0m\u001b[0;34m\u001b[0m\u001b[0;34m\u001b[0m\u001b[0m\n\u001b[0m\u001b[1;32m      2\u001b[0m \u001b[0mprint\u001b[0m\u001b[0;34m(\u001b[0m\u001b[0mjob\u001b[0m\u001b[0;34m.\u001b[0m\u001b[0mjob_id\u001b[0m\u001b[0;34m(\u001b[0m\u001b[0;34m)\u001b[0m\u001b[0;34m)\u001b[0m\u001b[0;34m\u001b[0m\u001b[0;34m\u001b[0m\u001b[0m\n",
      "\u001b[0;32m~/.pyenv/versions/anaconda3-5.1.0/lib/python3.6/site-packages/qiskit/execute_function.py\u001b[0m in \u001b[0;36mexecute\u001b[0;34m(experiments, backend, basis_gates, coupling_map, backend_properties, initial_layout, seed_transpiler, optimization_level, pass_manager, qobj_id, qobj_header, shots, memory, max_credits, seed_simulator, default_qubit_los, default_meas_los, schedule_los, meas_level, meas_return, memory_slots, memory_slot_size, rep_time, rep_delay, parameter_binds, schedule_circuit, inst_map, meas_map, scheduling_method, init_qubits, **run_config)\u001b[0m\n\u001b[1;32m    257\u001b[0m         \u001b[0mQiskitError\u001b[0m\u001b[0;34m:\u001b[0m \u001b[0;32mif\u001b[0m \u001b[0mthe\u001b[0m \u001b[0mexecution\u001b[0m \u001b[0mcannot\u001b[0m \u001b[0mbe\u001b[0m \u001b[0minterpreted\u001b[0m \u001b[0;32mas\u001b[0m \u001b[0meither\u001b[0m \u001b[0mcircuits\u001b[0m \u001b[0;32mor\u001b[0m \u001b[0mschedules\u001b[0m\u001b[0;34m\u001b[0m\u001b[0;34m\u001b[0m\u001b[0m\n\u001b[1;32m    258\u001b[0m \u001b[0;34m\u001b[0m\u001b[0m\n\u001b[0;32m--> 259\u001b[0;31m     \u001b[0mExample\u001b[0m\u001b[0;34m:\u001b[0m\u001b[0;34m\u001b[0m\u001b[0;34m\u001b[0m\u001b[0m\n\u001b[0m\u001b[1;32m    260\u001b[0m         \u001b[0mConstruct\u001b[0m \u001b[0ma\u001b[0m \u001b[0;36m5\u001b[0m\u001b[0;34m-\u001b[0m\u001b[0mqubit\u001b[0m \u001b[0mGHZ\u001b[0m \u001b[0mcircuit\u001b[0m \u001b[0;32mand\u001b[0m \u001b[0mexecute\u001b[0m \u001b[0;36m4321\u001b[0m \u001b[0mshots\u001b[0m \u001b[0mon\u001b[0m \u001b[0ma\u001b[0m \u001b[0mbackend\u001b[0m\u001b[0;34m.\u001b[0m\u001b[0;34m\u001b[0m\u001b[0;34m\u001b[0m\u001b[0m\n\u001b[1;32m    261\u001b[0m \u001b[0;34m\u001b[0m\u001b[0m\n",
      "\u001b[0;32m~/.pyenv/versions/anaconda3-5.1.0/lib/python3.6/site-packages/qiskit/compiler/transpiler.py\u001b[0m in \u001b[0;36mtranspile\u001b[0;34m(circuits, backend, basis_gates, coupling_map, backend_properties, initial_layout, layout_method, routing_method, translation_method, scheduling_method, instruction_durations, dt, approximation_degree, seed_transpiler, optimization_level, pass_manager, callback, output_name)\u001b[0m\n\u001b[1;32m    243\u001b[0m             \u001b[0mapproximation_degree\u001b[0m\u001b[0;34m=\u001b[0m\u001b[0mapproximation_degree\u001b[0m\u001b[0;34m,\u001b[0m\u001b[0;34m\u001b[0m\u001b[0;34m\u001b[0m\u001b[0m\n\u001b[1;32m    244\u001b[0m             \u001b[0mbackend\u001b[0m\u001b[0;34m=\u001b[0m\u001b[0mbackend\u001b[0m\u001b[0;34m,\u001b[0m\u001b[0;34m\u001b[0m\u001b[0;34m\u001b[0m\u001b[0m\n\u001b[0;32m--> 245\u001b[0;31m         )\n\u001b[0m\u001b[1;32m    246\u001b[0m \u001b[0;34m\u001b[0m\u001b[0m\n\u001b[1;32m    247\u001b[0m         warnings.warn(\n",
      "\u001b[0;32m~/.pyenv/versions/anaconda3-5.1.0/lib/python3.6/site-packages/qiskit/tools/parallel.py\u001b[0m in \u001b[0;36mparallel_map\u001b[0;34m(task, values, task_args, task_kwargs, num_processes)\u001b[0m\n\u001b[1;32m    152\u001b[0m                 \u001b[0mfuture\u001b[0m \u001b[0;34m=\u001b[0m \u001b[0mexecutor\u001b[0m\u001b[0;34m.\u001b[0m\u001b[0mmap\u001b[0m\u001b[0;34m(\u001b[0m\u001b[0m_task_wrapper\u001b[0m\u001b[0;34m,\u001b[0m \u001b[0mparam\u001b[0m\u001b[0;34m)\u001b[0m\u001b[0;34m\u001b[0m\u001b[0;34m\u001b[0m\u001b[0m\n\u001b[1;32m    153\u001b[0m \u001b[0;34m\u001b[0m\u001b[0m\n\u001b[0;32m--> 154\u001b[0;31m             \u001b[0mresults\u001b[0m \u001b[0;34m=\u001b[0m \u001b[0mlist\u001b[0m\u001b[0;34m(\u001b[0m\u001b[0mfuture\u001b[0m\u001b[0;34m)\u001b[0m\u001b[0;34m\u001b[0m\u001b[0;34m\u001b[0m\u001b[0m\n\u001b[0m\u001b[1;32m    155\u001b[0m             \u001b[0mPublisher\u001b[0m\u001b[0;34m(\u001b[0m\u001b[0;34m)\u001b[0m\u001b[0;34m.\u001b[0m\u001b[0mpublish\u001b[0m\u001b[0;34m(\u001b[0m\u001b[0;34m\"terra.parallel.done\"\u001b[0m\u001b[0;34m,\u001b[0m \u001b[0mlen\u001b[0m\u001b[0;34m(\u001b[0m\u001b[0mresults\u001b[0m\u001b[0;34m)\u001b[0m\u001b[0;34m)\u001b[0m\u001b[0;34m\u001b[0m\u001b[0;34m\u001b[0m\u001b[0m\n\u001b[1;32m    156\u001b[0m \u001b[0;34m\u001b[0m\u001b[0m\n",
      "\u001b[0;31mQiskitError\u001b[0m: 'Keyboard interrupt in parallel_map.'"
     ]
    },
    {
     "name": "stderr",
     "output_type": "stream",
     "text": [
      "KeyboardInterrupt\n"
     ]
    }
   ],
   "source": [
    "job = execute(optim3_qc_list[:50] + meas_calibs, backend=provider.get_backend(\"ibmq_montreal\"), shots=shots, initial_layout=initial_layout)\n",
    "print(job.job_id())"
   ]
  },
  {
   "cell_type": "code",
   "execution_count": 18,
   "metadata": {
    "scrolled": true
   },
   "outputs": [
    {
     "name": "stdout",
     "output_type": "stream",
     "text": [
      "[88, 22, 10, 11, 3, 5, 6, 3, 2, 0, 4, 2, 6, 4, 2, 4, 6, 3, 3, 6]\n"
     ]
    }
   ],
   "source": [
    "counts_list_real = job.result().get_counts()[:-2]\n",
    "hit_list_real = make_hit_list(counts_list_real)\n",
    "print(hit_list_real)"
   ]
  },
  {
   "cell_type": "code",
   "execution_count": 19,
   "metadata": {},
   "outputs": [],
   "source": [
    "cal_results = Result(backend_name=job.result().backend_name,\n",
    "                     backend_version=job.result().backend_version,\n",
    "                     qobj_id=job.result().qobj_id,\n",
    "                     job_id=job.result().job_id,\n",
    "                     success=job.result().success,\n",
    "                     results=job.result().results[-2:])\n",
    "meas_fitter = TensoredMeasFitter(cal_results, mit_pattern=mit_pattern)"
   ]
  },
  {
   "cell_type": "markdown",
   "metadata": {},
   "source": [
    "## Mitigation"
   ]
  },
  {
   "cell_type": "code",
   "execution_count": 20,
   "metadata": {},
   "outputs": [
    {
     "name": "stdout",
     "output_type": "stream",
     "text": [
      "Restriction to labels of y + Lagrange Multiplier + SGS algorithm\n",
      "sum of mitigated probability vector x_s: 1.0222277794102006\n",
      "sum of mitigated probability vector x_hat_s: 1.0074689250305635\n",
      "0.0006961822509765625 s\n",
      "number of positive values:  3\n",
      "main process: Done!\n",
      "Restriction to labels of y + Lagrange Multiplier + SGS algorithm\n",
      "sum of mitigated probability vector x_s: 1.0051632020838694\n",
      "sum of mitigated probability vector x_hat_s: 0.9914646363223989\n",
      "0.0028340816497802734 s\n",
      "number of positive values:  15\n",
      "accumulator is positive, we might even ignoring the necessal positive values.\n",
      "main process: Done!\n",
      "Restriction to labels of y + Lagrange Multiplier + SGS algorithm\n",
      "sum of mitigated probability vector x_s: 0.9999999999999991\n",
      "sum of mitigated probability vector x_hat_s: 0.9961478397762489\n",
      "0.002711057662963867 s\n",
      "number of positive values:  16\n",
      "accumulator is positive, we might even ignoring the necessal positive values.\n",
      "main process: Done!\n",
      "Restriction to labels of y + Lagrange Multiplier + SGS algorithm\n",
      "sum of mitigated probability vector x_s: 0.999999999999999\n",
      "sum of mitigated probability vector x_hat_s: 0.9947448051629209\n",
      "0.002897024154663086 s\n",
      "number of positive values:  16\n",
      "accumulator is positive, we might even ignoring the necessal positive values.\n",
      "main process: Done!\n",
      "Restriction to labels of y + Lagrange Multiplier + SGS algorithm\n",
      "sum of mitigated probability vector x_s: 0.9999999999999991\n",
      "sum of mitigated probability vector x_hat_s: 0.9993259913357971\n",
      "0.0029511451721191406 s\n",
      "number of positive values:  16\n",
      "accumulator is positive, we might even ignoring the necessal positive values.\n",
      "main process: Done!\n",
      "Restriction to labels of y + Lagrange Multiplier + SGS algorithm\n",
      "sum of mitigated probability vector x_s: 0.9999999999999989\n",
      "sum of mitigated probability vector x_hat_s: 1.005996816059099\n",
      "0.002792835235595703 s\n",
      "number of positive values:  16\n",
      "main process: Done!\n",
      "Restriction to labels of y + Lagrange Multiplier + SGS algorithm\n",
      "sum of mitigated probability vector x_s: 0.999999999999999\n",
      "sum of mitigated probability vector x_hat_s: 1.0000940146954684\n",
      "0.002900838851928711 s\n",
      "number of positive values:  16\n",
      "main process: Done!\n",
      "Restriction to labels of y + Lagrange Multiplier + SGS algorithm\n",
      "sum of mitigated probability vector x_s: 0.999999999999999\n",
      "sum of mitigated probability vector x_hat_s: 1.0093063298017948\n",
      "0.002421140670776367 s\n",
      "number of positive values:  16\n",
      "main process: Done!\n",
      "Restriction to labels of y + Lagrange Multiplier + SGS algorithm\n",
      "sum of mitigated probability vector x_s: 0.999999999999999\n",
      "sum of mitigated probability vector x_hat_s: 1.0070528386252786\n",
      "0.0026998519897460938 s\n",
      "number of positive values:  16\n",
      "main process: Done!\n",
      "Restriction to labels of y + Lagrange Multiplier + SGS algorithm\n",
      "sum of mitigated probability vector x_s: 1.00920056783534\n",
      "sum of mitigated probability vector x_hat_s: 1.0212804166428857\n",
      "0.0023207664489746094 s\n",
      "number of positive values:  15\n",
      "main process: Done!\n",
      "Restriction to labels of y + Lagrange Multiplier + SGS algorithm\n",
      "sum of mitigated probability vector x_s: 0.999999999999999\n",
      "sum of mitigated probability vector x_hat_s: 1.013299844469762\n",
      "0.0024261474609375 s\n",
      "number of positive values:  16\n",
      "main process: Done!\n",
      "Restriction to labels of y + Lagrange Multiplier + SGS algorithm\n",
      "sum of mitigated probability vector x_s: 0.9999999999999991\n",
      "sum of mitigated probability vector x_hat_s: 1.0078297117755868\n",
      "0.002794981002807617 s\n",
      "number of positive values:  16\n",
      "main process: Done!\n",
      "Restriction to labels of y + Lagrange Multiplier + SGS algorithm\n",
      "sum of mitigated probability vector x_s: 0.9999999999999991\n",
      "sum of mitigated probability vector x_hat_s: 1.0115813194283125\n",
      "0.003123044967651367 s\n",
      "number of positive values:  15\n",
      "main process: Done!\n",
      "Restriction to labels of y + Lagrange Multiplier + SGS algorithm\n",
      "sum of mitigated probability vector x_s: 0.9999999999999989\n",
      "sum of mitigated probability vector x_hat_s: 1.0126656873996058\n",
      "0.002640247344970703 s\n",
      "number of positive values:  16\n",
      "main process: Done!\n",
      "Restriction to labels of y + Lagrange Multiplier + SGS algorithm\n",
      "sum of mitigated probability vector x_s: 0.9999999999999992\n",
      "sum of mitigated probability vector x_hat_s: 1.0183831938834276\n",
      "0.0031578540802001953 s\n",
      "number of positive values:  16\n",
      "main process: Done!\n",
      "Restriction to labels of y + Lagrange Multiplier + SGS algorithm\n",
      "sum of mitigated probability vector x_s: 0.999999999999999\n",
      "sum of mitigated probability vector x_hat_s: 1.0067605954754826\n",
      "0.0030851364135742188 s\n",
      "number of positive values:  16\n",
      "main process: Done!\n",
      "Restriction to labels of y + Lagrange Multiplier + SGS algorithm\n",
      "sum of mitigated probability vector x_s: 0.9999999999999992\n",
      "sum of mitigated probability vector x_hat_s: 1.013836100871485\n",
      "0.002780914306640625 s\n",
      "number of positive values:  16\n",
      "main process: Done!\n",
      "Restriction to labels of y + Lagrange Multiplier + SGS algorithm\n",
      "sum of mitigated probability vector x_s: 0.9999999999999992\n",
      "sum of mitigated probability vector x_hat_s: 1.0107021937694196\n",
      "0.0032019615173339844 s\n",
      "number of positive values:  16\n",
      "main process: Done!\n",
      "Restriction to labels of y + Lagrange Multiplier + SGS algorithm\n",
      "sum of mitigated probability vector x_s: 1.0125052464498516\n",
      "sum of mitigated probability vector x_hat_s: 1.023126854259444\n",
      "0.0022780895233154297 s\n",
      "number of positive values:  15\n",
      "main process: Done!\n",
      "Restriction to labels of y + Lagrange Multiplier + SGS algorithm\n",
      "sum of mitigated probability vector x_s: 0.9999999999999991\n",
      "sum of mitigated probability vector x_hat_s: 1.0120457749632492\n",
      "0.002924680709838867 s\n",
      "number of positive values:  16\n",
      "main process: Done!\n",
      "[100.0, 24.883001948458883, 10.966872066264845, 11.990241875660145, 2.1633662693501305, 5.530159361104527, 6.099815900034277, 2.8357714353979158, 1.632213281490992, 0, 3.951480170646321, 1.683098974328082, 6.813860611562271, 4.1929772805914896, 1.6964030133183043, 3.752845305163508, 6.804012531666942, 2.742842859989127, 2.6125746786383415, 6.778293450974355]\n"
     ]
    }
   ],
   "source": [
    "meas_filter = InvSLM0SGS(nbit+1, meas_fitter.cal_matrices, mit_pattern)\n",
    "x_tilde_S_lm_0_list = []\n",
    "for counts in counts_list_real:\n",
    "    x_tilde = meas_filter.apply(counts)\n",
    "    x_tilde_S_lm_0_list.append(x_tilde)\n",
    "mit_hit_S_lm_0_list = make_hit_list(x_tilde_S_lm_0_list)\n",
    "print(mit_hit_S_lm_0_list)"
   ]
  },
  {
   "cell_type": "code",
   "execution_count": 21,
   "metadata": {},
   "outputs": [
    {
     "name": "stdout",
     "output_type": "stream",
     "text": [
      "The heuristcs by Mooney et al. + SGS algorithm\n",
      "{0: 1.0644931723974806, 4: -0.04394488184274927, 8: -0.019983847783376238}\n",
      "sum of counts: 1.0005644427713551\n",
      "0.0003631114959716797 s\n",
      "number of positive values:  1\n",
      "main process: Done!\n",
      "The heuristcs by Mooney et al. + SGS algorithm\n",
      "{0: 0.24904439724112756, 1: 0.12333145558136903, 2: 0.08692755294620594, 3: 0.030237961052744587, 4: 0.08244104402297378, 5: 0.05844181672186422, 6: 0.02509573142166687, 7: 0.030008711688271877, 8: 0.14098819983426306, 9: 0.06892028086621224, 10: 0.013400768498218233, 12: 0.025553779456423148, 13: 0.03488089682524012, 15: 0.03174922970701293}\n",
      "sum of counts: 1.0010218258635937\n",
      "0.0004296302795410156 s\n",
      "number of positive values:  14\n",
      "main process: Done!\n",
      "The heuristcs by Mooney et al. + SGS algorithm\n",
      "{0: 0.10962678151875642, 1: 0.18514499027347692, 2: 0.08593743513280615, 3: 0.03898676134991053, 4: 0.04513539335325815, 5: 0.06609306652368449, 6: 0.04680183792753163, 7: 0.04025126201046273, 8: 0.05493405822791901, 9: 0.06594001594710015, 10: 0.05635436308291962, 11: 0.026605006231816525, 12: 0.059195253774335474, 13: 0.02217786306188113, 14: 0.057478794508246306, 15: 0.039337117075893824}\n",
      "sum of counts: 0.999999999999999\n",
      "0.0005230903625488281 s\n",
      "number of positive values:  16\n",
      "accumulator is positive, we might even ignoring the necessal positive values.\n",
      "main process: Done!\n",
      "The heuristcs by Mooney et al. + SGS algorithm\n",
      "{0: 0.11984520452883025, 1: 0.07547916638714859, 2: 0.05185163591243125, 3: 0.07509762172413421, 4: 0.103550755112966, 5: 0.06322379670938442, 6: 0.023142303669680467, 7: 0.049607268764412966, 8: 0.05291554394103262, 9: 0.06249386319028963, 10: 0.03202800373171415, 11: 0.07146543117265412, 12: 0.07803008425859921, 13: 0.011471895150099182, 14: 0.09533749977258058, 15: 0.03445992597404135}\n",
      "sum of counts: 0.999999999999999\n",
      "0.000446319580078125 s\n",
      "number of positive values:  16\n",
      "accumulator is positive, we might even ignoring the necessal positive values.\n",
      "main process: Done!\n",
      "The heuristcs by Mooney et al. + SGS algorithm\n",
      "{0: 0.02162632464297622, 1: 0.07736046340016867, 2: 0.07271208951337318, 3: 0.050244281729668154, 4: 0.11353233888859338, 5: 0.06142967418027353, 6: 0.06943725112510223, 7: 0.061747464160293655, 8: 0.07516585806069292, 9: 0.04780005250137729, 10: 0.07876740758890055, 11: 0.05867646373931326, 12: 0.029339629752194715, 13: 0.04797246269743417, 14: 0.06519229630445512, 15: 0.06899594171518215}\n",
      "sum of counts: 0.9999999999999993\n",
      "0.0004773139953613281 s\n",
      "number of positive values:  16\n",
      "accumulator is positive, we might even ignoring the necessal positive values.\n",
      "main process: Done!\n",
      "The heuristcs by Mooney et al. + SGS algorithm\n",
      "{0: 0.05536688199911527, 1: 0.04424268730063049, 2: 0.061378029796252606, 3: 0.049190854307834916, 4: 0.023185687200109384, 5: 0.12532243144176397, 6: 0.07366838166014633, 7: 0.08449897887841622, 8: 0.01991648248920309, 9: 0.13383962437842511, 10: 0.0492694729076666, 11: 0.05738420211498921, 12: 0.09868261161266677, 13: 0.035526067804889545, 14: 0.020594308004942708, 15: 0.0679332981029469}\n",
      "sum of counts: 0.999999999999999\n",
      "0.0004737377166748047 s\n",
      "number of positive values:  16\n",
      "accumulator is positive, we might even ignoring the necessal positive values.\n",
      "main process: Done!\n",
      "The heuristcs by Mooney et al. + SGS algorithm\n",
      "{0: 0.060999182554819245, 1: 0.12458281811293294, 2: 0.06016379671078938, 3: 0.02272743461088321, 4: 0.06143917135209023, 5: 0.08113821637353152, 6: 0.06088215379559874, 7: 0.10110093435452273, 8: 0.07115338726256452, 9: 0.04356782613881587, 10: 0.10665270563677512, 11: 0.051329319560654604, 12: 0.04500959797389916, 13: 0.05850155280866558, 14: 0.01823608718769, 15: 0.03251581556576623}\n",
      "sum of counts: 0.9999999999999989\n",
      "0.0004680156707763672 s\n",
      "number of positive values:  16\n",
      "accumulator is positive, we might even ignoring the necessal positive values.\n",
      "main process: Done!\n",
      "The heuristcs by Mooney et al. + SGS algorithm\n",
      "{0: 0.02845903399854041, 1: 0.06742474984049031, 2: 0.06356541391337071, 3: 0.08271868063490836, 4: 0.042054375944843875, 5: 0.013110143239408014, 6: 0.03550301327981383, 7: 0.11660279139581514, 8: 0.05006278178484589, 9: 0.07079085099225418, 10: 0.057670199047936584, 11: 0.04989652508177082, 12: 0.04787954214359452, 13: 0.07197109937561003, 14: 0.056248938856126016, 15: 0.14604186047067047}\n",
      "sum of counts: 0.999999999999999\n",
      "0.00045490264892578125 s\n",
      "number of positive values:  16\n",
      "accumulator is positive, we might even ignoring the necessal positive values.\n",
      "main process: Done!\n",
      "The heuristcs by Mooney et al. + SGS algorithm\n",
      "{0: 0.016509296796945332, 1: 0.024156815165578473, 3: 0.049563042289740004, 4: 0.05275319512747314, 5: 0.10035700796097607, 6: 0.10147545335824414, 7: 0.060372341116776015, 8: 0.0626412536772564, 9: 0.08236197472895296, 10: 0.048420200962122475, 11: 0.11632568752464287, 12: 0.045254294572626155, 13: 0.10059577191811321, 14: 0.06549299362305651, 15: 0.0745147819756322}\n",
      "sum of counts: 1.000794110798136\n",
      "0.0004508495330810547 s\n",
      "number of positive values:  15\n",
      "main process: Done!\n",
      "The heuristcs by Mooney et al. + SGS algorithm\n",
      "{1: 0.08286318937648601, 2: 0.05408789730859843, 3: 0.07128402957132697, 4: 0.05458607960470405, 5: 0.15810380254255854, 6: 0.03556243747724487, 7: 0.06930811206690835, 8: 0.05427203791675599, 9: 0.035178985512387476, 10: 0.019526526928521186, 11: 0.11497943532148519, 12: 0.03535684112826116, 13: 0.041741151912812545, 14: 0.09527419578377545, 15: 0.08633510812902408}\n",
      "sum of counts: 1.0084598305808503\n",
      "0.0004868507385253906 s\n",
      "number of positive values:  15\n",
      "main process: Done!\n",
      "The heuristcs by Mooney et al. + SGS algorithm\n",
      "{0: 0.03965959944553934, 1: 0.03486292356806776, 2: 0.04227224893379843, 3: 0.11942465964545616, 4: 0.06353349442466134, 5: 0.1002157305056674, 6: 0.014154719746678368, 7: 0.11396651137058018, 8: 0.049226510849359716, 9: 0.09674823721041079, 10: 0.014141822699743877, 11: 0.062487527059388245, 12: 0.046538839323377046, 13: 0.0640600254976584, 14: 0.039751115092305514, 15: 0.09895603462730654}\n",
      "sum of counts: 0.999999999999999\n",
      "0.0005471706390380859 s\n",
      "number of positive values:  16\n",
      "accumulator is positive, we might even ignoring the necessal positive values.\n",
      "main process: Done!\n",
      "The heuristcs by Mooney et al. + SGS algorithm\n",
      "{0: 0.016916233188442913, 1: 0.04852485810965393, 2: 0.04701083190378182, 3: 0.11001998691048072, 4: 0.039575220726706405, 5: 0.11286854839451774, 6: 0.08623476966583647, 7: 0.06693943874102898, 8: 0.04944826138183704, 9: 0.04993781530066024, 10: 0.07170654132460395, 11: 0.07702370717465663, 12: 0.07197504716448654, 13: 0.04374370645534424, 14: 0.02950422866492309, 15: 0.0785708048930384}\n",
      "sum of counts: 0.999999999999999\n",
      "0.000453948974609375 s\n",
      "number of positive values:  16\n",
      "accumulator is positive, we might even ignoring the necessal positive values.\n",
      "main process: Done!\n",
      "The heuristcs by Mooney et al. + SGS algorithm\n",
      "{0: 0.06849546436288124, 1: 0.04989873078587617, 2: 0.05957896424209439, 3: 0.14182795409634716, 4: 0.02475708362927112, 5: 0.07638485378113519, 6: 0.04839453949148119, 7: 0.1375411892411934, 9: 0.06330577303712173, 10: 0.08402566961910227, 11: 0.05169889441540303, 12: 0.06654643677984898, 13: 0.03381376706373784, 14: 0.031586755013779645, 15: 0.06408553861011274}\n",
      "sum of counts: 1.001941614169386\n",
      "0.0004673004150390625 s\n",
      "number of positive values:  15\n",
      "main process: Done!\n",
      "The heuristcs by Mooney et al. + SGS algorithm\n",
      "{0: 0.04203799023266451, 1: 0.06200494147964946, 2: 0.047054716705054546, 3: 0.10835775705742766, 4: 0.017274072011462322, 5: 0.07304505248978678, 6: 0.0992237806934438, 7: 0.07919157713252419, 8: 0.06507482415656224, 9: 0.07981421789841771, 10: 0.03798911492048538, 11: 0.08772484220610587, 13: 0.1029166362562822, 15: 0.08735734661382616}\n",
      "sum of counts: 0.9890668698536929\n",
      "0.00043201446533203125 s\n",
      "number of positive values:  14\n",
      "accumulator is positive, we might even ignoring the necessal positive values.\n",
      "main process: Done!\n",
      "The heuristcs by Mooney et al. + SGS algorithm\n",
      "{0: 0.017164171188769832, 1: 0.05987128100902106, 2: 0.038520922262487614, 3: 0.11907680465406367, 4: 0.04106599572051252, 5: 0.12248699178979319, 6: 0.06333231173173968, 7: 0.11151522950878047, 8: 0.040821612135081495, 9: 0.047576531785987364, 10: 0.02805363401341839, 11: 0.06067974883352319, 12: 0.03773215123515562, 13: 0.06627095585732797, 14: 0.011659717176752111, 15: 0.13417194109758498}\n",
      "sum of counts: 0.9999999999999993\n",
      "0.0008771419525146484 s\n",
      "number of positive values:  16\n",
      "accumulator is positive, we might even ignoring the necessal positive values.\n",
      "main process: Done!\n",
      "The heuristcs by Mooney et al. + SGS algorithm\n",
      "{0: 0.03760205684015182, 1: 0.07496190770083651, 2: 0.06504101591078329, 3: 0.04711412067182372, 4: 0.07757334896901241, 5: 0.07118551748733484, 6: 0.022725776820536506, 7: 0.09817827807143059, 8: 0.05187672755276353, 9: 0.07922213386137227, 10: 0.056274620557429156, 11: 0.07026035808130993, 13: 0.10314569230554162, 14: 0.07107177621066635, 15: 0.06417941450076235}\n",
      "sum of counts: 0.9904127455417548\n",
      "0.0008552074432373047 s\n",
      "number of positive values:  15\n",
      "accumulator is positive, we might even ignoring the necessal positive values.\n",
      "main process: Done!\n",
      "The heuristcs by Mooney et al. + SGS algorithm\n",
      "{0: 0.06819076137323198, 1: 0.022934265030240257, 2: 0.023784627183673388, 3: 0.05799186657147949, 4: 0.024328831987654766, 5: 0.114361964613622, 6: 0.07598119588078434, 7: 0.15175233005594257, 8: 0.023466162848258, 9: 0.07631238867428536, 10: 0.07667488279738348, 11: 0.027115633756741857, 12: 0.052151134002354715, 13: 0.04093490384148652, 15: 0.15808118353867565}\n",
      "sum of counts: 0.9940621321558143\n",
      "0.0005300045013427734 s\n",
      "number of positive values:  15\n",
      "accumulator is positive, we might even ignoring the necessal positive values.\n",
      "main process: Done!\n",
      "The heuristcs by Mooney et al. + SGS algorithm\n",
      "{0: 0.02754494526025445, 1: 0.09073170861918206, 2: 0.06297501576481346, 3: 0.09422751079196923, 4: 0.05376377063571407, 5: 0.04619193966879451, 6: 0.046611669706066006, 7: 0.11727928224983493, 8: 0.040146189010437504, 9: 0.031753021270222816, 10: 0.04531929568917609, 11: 0.0543611371233558, 12: 0.03573501963392754, 13: 0.09681381827260065, 14: 0.06934739326868276, 15: 0.0871982830349673}\n",
      "sum of counts: 0.9999999999999993\n",
      "0.0005979537963867188 s\n",
      "number of positive values:  16\n",
      "accumulator is positive, we might even ignoring the necessal positive values.\n",
      "main process: Done!\n",
      "The heuristcs by Mooney et al. + SGS algorithm\n",
      "{0: 0.027160341271596826, 1: 0.1091423133635392, 3: 0.09801081314827233, 4: 0.06173097841873067, 5: 0.11875089431115883, 6: 0.056963285774184885, 7: 0.04268163885500912, 8: 0.03554300283573466, 9: 0.04365257013348791, 10: 0.04336949653117903, 11: 0.09910333913396044, 12: 0.09456663400491865, 13: 0.06621593969633066, 15: 0.11316414084277698}\n",
      "sum of counts: 1.01005538832088\n",
      "0.0004150867462158203 s\n",
      "number of positive values:  14\n",
      "main process: Done!\n",
      "The heuristcs by Mooney et al. + SGS algorithm\n",
      "{0: 0.06791407897418174, 1: 0.09819680879572973, 2: 0.03786061593795422, 3: 0.042822944408459296, 4: 0.013277608162566273, 5: 0.08390352306439444, 6: 0.08597491805352649, 7: 0.0981393902436368, 8: 0.013054705606288693, 9: 0.08050693542913614, 10: 0.011431363581029445, 11: 0.16585960609074973, 12: 0.0415810065555071, 13: 0.0551735808348758, 14: 0.05880261034544062, 15: 0.04550030391652261}\n",
      "sum of counts: 0.9999999999999991\n",
      "0.0007359981536865234 s\n",
      "number of positive values:  16\n",
      "accumulator is positive, we might even ignoring the necessal positive values.\n",
      "main process: Done!\n",
      "[100.0, 24.89714096794423, 10.962678151875648, 11.984520452883032, 2.162632464297626, 5.536688199911533, 6.099918255481931, 2.8459033998540475, 1.6456356077069603, 0, 3.96595994455394, 1.6916233188442975, 6.836602341825551, 4.281892810025788, 1.7164171188769874, 3.8241207137368165, 6.858661922951102, 2.754494526025449, 2.644209924867682, 6.791407897418179]\n"
     ]
    }
   ],
   "source": [
    "meas_filter = MooneyEtal(nbit+1, meas_fitter.cal_matrices, mit_pattern)\n",
    "x_tilde_mooney_list = []\n",
    "for counts in counts_list_real:\n",
    "    x_tilde = meas_filter.apply(counts, threshold=1/100)\n",
    "    x_tilde_mooney_list.append(x_tilde)\n",
    "mit_hit_mooney100_list = make_hit_list(x_tilde_mooney_list)\n",
    "print(mit_hit_mooney100_list)"
   ]
  },
  {
   "cell_type": "code",
   "execution_count": 22,
   "metadata": {},
   "outputs": [
    {
     "name": "stdout",
     "output_type": "stream",
     "text": [
      "The heuristcs by Mooney et al. + SGS algorithm\n",
      "{0: 1.0706437690228798}\n",
      "sum of counts: 1.0706437690228798\n",
      "0.0003151893615722656 s\n",
      "number of positive values:  1\n",
      "main process: Done!\n",
      "The heuristcs by Mooney et al. + SGS algorithm\n",
      "{0: 0.25796488167837484, 1: 0.13249558125114969, 8: 0.14403875689045445}\n",
      "sum of counts: 0.5344992198199789\n",
      "0.0002598762512207031 s\n",
      "number of positive values:  3\n",
      "accumulator is positive, we might even ignoring the necessal positive values.\n",
      "main process: Done!\n",
      "The heuristcs by Mooney et al. + SGS algorithm\n",
      "{1: 0.19545271311088064}\n",
      "sum of counts: 0.19545271311088064\n",
      "0.00029206275939941406 s\n",
      "number of positive values:  1\n",
      "accumulator is positive, we might even ignoring the necessal positive values.\n",
      "main process: Done!\n",
      "The heuristcs by Mooney et al. + SGS algorithm\n",
      "{0: 0.1321230538436957}\n",
      "sum of counts: 0.1321230538436957\n",
      "0.00019693374633789062 s\n",
      "number of positive values:  1\n",
      "accumulator is positive, we might even ignoring the necessal positive values.\n",
      "main process: Done!\n",
      "The heuristcs by Mooney et al. + SGS algorithm\n",
      "{}\n",
      "sum of counts: 0\n",
      "0.0001659393310546875 s\n",
      "number of positive values:  0\n",
      "accumulator is positive, we might even ignoring the necessal positive values.\n",
      "main process: Done!\n",
      "The heuristcs by Mooney et al. + SGS algorithm\n",
      "{5: 0.13340486857902137, 9: 0.14254994075858085}\n",
      "sum of counts: 0.2759548093376022\n",
      "0.000244140625 s\n",
      "number of positive values:  2\n",
      "accumulator is positive, we might even ignoring the necessal positive values.\n",
      "main process: Done!\n",
      "The heuristcs by Mooney et al. + SGS algorithm\n",
      "{1: 0.1344823940909045}\n",
      "sum of counts: 0.1344823940909045\n",
      "0.00045490264892578125 s\n",
      "number of positive values:  1\n",
      "accumulator is positive, we might even ignoring the necessal positive values.\n",
      "main process: Done!\n",
      "The heuristcs by Mooney et al. + SGS algorithm\n",
      "{7: 0.12494375840880781, 15: 0.15294337093543692}\n",
      "sum of counts: 0.27788712934424475\n",
      "0.00022411346435546875 s\n",
      "number of positive values:  2\n",
      "accumulator is positive, we might even ignoring the necessal positive values.\n",
      "main process: Done!\n",
      "The heuristcs by Mooney et al. + SGS algorithm\n",
      "{11: 0.12908294170963275, 13: 0.11721678355376432}\n",
      "sum of counts: 0.24629972526339705\n",
      "0.00020313262939453125 s\n",
      "number of positive values:  2\n",
      "accumulator is positive, we might even ignoring the necessal positive values.\n",
      "main process: Done!\n",
      "The heuristcs by Mooney et al. + SGS algorithm\n",
      "{5: 0.1696428393256248, 11: 0.1293211021186911}\n",
      "sum of counts: 0.29896394144431593\n",
      "0.00038814544677734375 s\n",
      "number of positive values:  2\n",
      "accumulator is positive, we might even ignoring the necessal positive values.\n",
      "main process: Done!\n",
      "The heuristcs by Mooney et al. + SGS algorithm\n",
      "{3: 0.12331273547559642, 7: 0.11571054727663321, 15: 0.10734907648784746}\n",
      "sum of counts: 0.3463723592400771\n",
      "0.00024509429931640625 s\n",
      "number of positive values:  3\n",
      "accumulator is positive, we might even ignoring the necessal positive values.\n",
      "main process: Done!\n",
      "The heuristcs by Mooney et al. + SGS algorithm\n",
      "{3: 0.1210776789277355, 5: 0.12112081069881682}\n",
      "sum of counts: 0.24219848962655233\n",
      "0.00024509429931640625 s\n",
      "number of positive values:  2\n",
      "accumulator is positive, we might even ignoring the necessal positive values.\n",
      "main process: Done!\n",
      "The heuristcs by Mooney et al. + SGS algorithm\n",
      "{3: 0.14560117933519365, 7: 0.14234574215164456}\n",
      "sum of counts: 0.2879469214868382\n",
      "0.00026798248291015625 s\n",
      "number of positive values:  2\n",
      "accumulator is positive, we might even ignoring the necessal positive values.\n",
      "main process: Done!\n",
      "The heuristcs by Mooney et al. + SGS algorithm\n",
      "{3: 0.1210776789277355, 13: 0.11769279079662225}\n",
      "sum of counts: 0.23877046972435773\n",
      "0.00021719932556152344 s\n",
      "number of positive values:  2\n",
      "accumulator is positive, we might even ignoring the necessal positive values.\n",
      "main process: Done!\n",
      "The heuristcs by Mooney et al. + SGS algorithm\n",
      "{3: 0.12355461326877121, 5: 0.13193822651696058, 7: 0.11101665159084291, 15: 0.14280300793414238}\n",
      "sum of counts: 0.5093124993107171\n",
      "0.0002529621124267578 s\n",
      "number of positive values:  4\n",
      "accumulator is positive, we might even ignoring the necessal positive values.\n",
      "main process: Done!\n",
      "The heuristcs by Mooney et al. + SGS algorithm\n",
      "{13: 0.11757378898590777}\n",
      "sum of counts: 0.11757378898590777\n",
      "0.0003566741943359375 s\n",
      "number of positive values:  1\n",
      "accumulator is positive, we might even ignoring the necessal positive values.\n",
      "main process: Done!\n",
      "The heuristcs by Mooney et al. + SGS algorithm\n",
      "{5: 0.11953256887188128, 7: 0.15772285693192029, 15: 0.16264855216950308}\n",
      "sum of counts: 0.43990397797330466\n",
      "0.00025916099548339844 s\n",
      "number of positive values:  3\n",
      "accumulator is positive, we might even ignoring the necessal positive values.\n",
      "main process: Done!\n",
      "The heuristcs by Mooney et al. + SGS algorithm\n",
      "{7: 0.13181414512423126}\n",
      "sum of counts: 0.13181414512423126\n",
      "0.00022411346435546875 s\n",
      "number of positive values:  1\n",
      "accumulator is positive, we might even ignoring the necessal positive values.\n",
      "main process: Done!\n",
      "The heuristcs by Mooney et al. + SGS algorithm\n",
      "{1: 0.11243918631435051, 5: 0.12249342064456141, 11: 0.10765234619130037, 15: 0.11818390191444572}\n",
      "sum of counts: 0.46076885506465803\n",
      "0.00025010108947753906 s\n",
      "number of positive values:  4\n",
      "accumulator is positive, we might even ignoring the necessal positive values.\n",
      "main process: Done!\n",
      "The heuristcs by Mooney et al. + SGS algorithm\n",
      "{11: 0.17659594331677617}\n",
      "sum of counts: 0.17659594331677617\n",
      "0.00018024444580078125 s\n",
      "number of positive values:  1\n",
      "accumulator is positive, we might even ignoring the necessal positive values.\n",
      "main process: Done!\n",
      "[100.0, 41.31318084050485, 0, 100.0, 0, 0, 0, 0, 0, 0, 0, 0, 0, 0, 0, 0, 0, 0, 0, 0]\n"
     ]
    }
   ],
   "source": [
    "meas_filter = MooneyEtal(nbit+1, meas_fitter.cal_matrices, mit_pattern)\n",
    "x_tilde_mooney_list = []\n",
    "for counts in counts_list_real:\n",
    "    x_tilde = meas_filter.apply(counts, threshold=1/10)\n",
    "    x_tilde_mooney_list.append(x_tilde)\n",
    "mit_hit_mooney10_list = make_hit_list(x_tilde_mooney_list)\n",
    "print(mit_hit_mooney10_list)"
   ]
  },
  {
   "cell_type": "code",
   "execution_count": 23,
   "metadata": {},
   "outputs": [
    {
     "data": {
      "text/plain": [
       "Text(0, 0.5, 'number of shots for $|00...0>$')"
      ]
     },
     "execution_count": 23,
     "metadata": {},
     "output_type": "execute_result"
    },
    {
     "data": {
      "image/png": "[encoded data removed]",
      "text/plain": [
       "<Figure size 432x288 with 1 Axes>"
      ]
     },
     "metadata": {
      "needs_background": "light"
     },
     "output_type": "display_data"
    }
   ],
   "source": [
    "divide = 20\n",
    "plt.plot(np.linspace(0,number_grover_list[-1], divide), shots * np.cos(2 * np.linspace(0,number_grover_list[-1], divide) * np.arccos(np.sqrt(discretizedResult))) ** 2, label=\"theoretical\")\n",
    "plt.plot(number_grover_list, hit_list_real, marker=\"o\", label=\"noisy output\")\n",
    "plt.plot(number_grover_list, mit_hit_mooney100_list, marker=\"*\", label=\"Mooney et al. (t=1/100)\", color=\"C2\")\n",
    "plt.plot(number_grover_list, mit_hit_mooney10_list, marker=\"*\", label=\"Mooney et al. (t=1/10)\", color=\"C5\")\n",
    "plt.plot(number_grover_list, mit_hit_S_lm_0_list, marker=\"v\", label=\"proposed method\", color=\"C3\")\n",
    "plt.legend(bbox_to_anchor=(1.05, 1), loc='upper left', borderaxespad=0, fontsize=18)\n",
    "plt.title(\"20qubit, p(0->1): 0.01, p(1->0): 0.01\")\n",
    "plt.xlabel(\"number of grover iterations $m$\")\n",
    "plt.ylabel(\"number of shots for $|00...0>$\")"
   ]
  },
  {
   "cell_type": "code",
   "execution_count": 25,
   "metadata": {},
   "outputs": [],
   "source": [
    "sin_hit_list = [shots - h for h in hit_list_real]\n",
    "sin_mit_hit_S_lm_0_list = [shots - h for h in mit_hit_S_lm_0_list]\n",
    "sin_mit_hit_mooney100_list = [shots - h for h in mit_hit_mooney100_list]\n",
    "sin_mit_hit_mooney10_list = [shots - h for h in mit_hit_mooney10_list]\n",
    "\n",
    "thetaCandidate_list = calculate_theta(\n",
    "    sin_hit_list, number_grover_list, shots_list)  # list of estimated theta values\n",
    "thetaCandidate_mit_S_lm_0_list = calculate_theta(\n",
    "    sin_mit_hit_S_lm_0_list, number_grover_list, shots_list)  # list of estimated theta values\n",
    "thetaCandidate_mit_mooney100_list = calculate_theta(\n",
    "    sin_mit_hit_mooney100_list, number_grover_list, shots_list)  # list of estimated theta values\n",
    "thetaCandidate_mit_mooney10_list = calculate_theta(\n",
    "    sin_mit_hit_mooney10_list, number_grover_list, shots_list)  # list of estimated theta values\n",
    "\n",
    "error_list = np.abs(np.sin(thetaCandidate_list)**2 - discretizedResult)  # list of estimation errors\n",
    "error_mit_S_lm_0_list = np.abs(np.sin(thetaCandidate_mit_S_lm_0_list)**2 - discretizedResult)  # list of estimation errors\n",
    "error_mit_mooney100_list = np.abs(np.sin(thetaCandidate_mit_mooney100_list)**2 - discretizedResult)  # list of estimation errors\n",
    "error_mit_mooney10_list = np.abs(np.sin(thetaCandidate_mit_mooney10_list)**2 - discretizedResult)  # list of estimation errors\n",
    "OracleCall_list = []  # list of number of oracle calls\n",
    "ErrorCramérRao_list = []  # list of Cramér-Rao lower bound\n",
    "for i in range(len(number_grover_list)):\n",
    "    OracleCall_list.append(\n",
    "        CalcNumberOracleCalls(i, shots_list, number_grover_list))\n",
    "    ErrorCramérRao_list.append(\n",
    "        CalcErrorCramérRao(i, shots_list, discretizedResult, number_grover_list))"
   ]
  },
  {
   "cell_type": "code",
   "execution_count": 26,
   "metadata": {},
   "outputs": [
    {
     "data": {
      "image/png": "[encoded data removed]",
      "text/plain": [
       "<Figure size 432x288 with 1 Axes>"
      ]
     },
     "metadata": {
      "needs_background": "light"
     },
     "output_type": "display_data"
    }
   ],
   "source": [
    "plt.clf()\n",
    "p = plt.loglog( OracleCall_list, ErrorCramérRao_list)\n",
    "p0 = plt.loglog( OracleCall_list, error_list, 'o', markersize=3)\n",
    "p2 = plt.loglog( OracleCall_list, error_mit_mooney100_list, 'x', color='C2', markersize=4)\n",
    "p3 = plt.loglog( OracleCall_list, error_mit_S_lm_0_list, 'v', color='C3', markersize=2)\n",
    "p4 = plt.loglog( OracleCall_list, error_mit_mooney10_list, 'x', color='C5', markersize=4)\n",
    "\n",
    "plt.title(\"10qubit, p(0|1)=p(1|0)=0.01, b_max=π/100\")\n",
    "plt.xlim(OracleCall_list[0]*0.9, OracleCall_list[-1]*1.5)\n",
    "plt.xlabel(\"Number of oracle calls\")\n",
    "plt.ylim(0.00000001, 1)\n",
    "plt.ylabel(\"Estimation Error\")\n",
    "plt.grid(True, which=\"both\", ls=\"dotted\")\n",
    "plt.legend((p[0], p0[0], p4[0], p2[0], p3[0]), (\"Heisenberg limit\", \"noisy output\", \"Mooney et al. (t=1/10)\", \"Mooney et al. (t=1/100)\", \"proposed method\"))\n",
    "plt.show()"
   ]
  },
  {
   "cell_type": "markdown",
   "metadata": {},
   "source": [
    "## Simulator"
   ]
  },
  {
   "cell_type": "code",
   "execution_count": 8,
   "metadata": {},
   "outputs": [],
   "source": [
    "noise_model = NoiseModel()\n",
    "for qi in range(nbit+1):\n",
    "    if qi >= 0:\n",
    "        read_err = ReadoutError([[0.990, 0.010],[0.010,0.990]])\n",
    "        noise_model.add_readout_error(read_err, [qi])"
   ]
  },
  {
   "cell_type": "code",
   "execution_count": 10,
   "metadata": {
    "scrolled": true
   },
   "outputs": [
    {
     "name": "stdout",
     "output_type": "stream",
     "text": [
      "0 th round with 0 oracles\n",
      "0.6308660507202148 s\n",
      "1 th round with 1 oracles\n",
      "0.02333211898803711 s\n",
      "2 th round with 2 oracles\n",
      "0.03971505165100098 s\n",
      "3 th round with 3 oracles\n",
      "0.052040815353393555 s\n",
      "4 th round with 4 oracles\n",
      "0.0699319839477539 s\n",
      "5 th round with 5 oracles\n",
      "0.0882267951965332 s\n",
      "6 th round with 6 oracles\n",
      "0.0951850414276123 s\n",
      "7 th round with 7 oracles\n",
      "0.10271191596984863 s\n",
      "8 th round with 8 oracles\n",
      "0.12267804145812988 s\n",
      "9 th round with 9 oracles\n",
      "0.12902116775512695 s\n",
      "10 th round with 10 oracles\n",
      "0.14684200286865234 s\n",
      "11 th round with 11 oracles\n",
      "0.16660094261169434 s\n",
      "12 th round with 12 oracles\n",
      "0.27850890159606934 s\n",
      "13 th round with 13 oracles\n",
      "0.19129204750061035 s\n",
      "14 th round with 14 oracles\n",
      "0.2644641399383545 s\n",
      "15 th round with 15 oracles\n",
      "0.39434289932250977 s\n",
      "16 th round with 16 oracles\n",
      "0.29990315437316895 s\n",
      "17 th round with 17 oracles\n",
      "0.2710740566253662 s\n",
      "18 th round with 18 oracles\n",
      "0.2891678810119629 s\n",
      "19 th round with 19 oracles\n",
      "0.306643009185791 s\n"
     ]
    }
   ],
   "source": [
    "counts_list = run_grover(qc_list, number_grover_list, shots_list, backend, noise_model=noise_model)  # list of number of grover operators"
   ]
  },
  {
   "cell_type": "code",
   "execution_count": 11,
   "metadata": {
    "scrolled": false
   },
   "outputs": [
    {
     "name": "stdout",
     "output_type": "stream",
     "text": [
      "[100, 97, 93, 93, 96, 94, 92, 90, 84, 88, 73, 83, 81, 78, 69, 62, 67, 68, 61, 61]\n"
     ]
    }
   ],
   "source": [
    "hit_list = make_hit_list(counts_list)\n",
    "print(hit_list)"
   ]
  }
 ],
 "metadata": {
  "kernelspec": {
   "display_name": "Python 3",
   "language": "python",
   "name": "python3"
  },
  "language_info": {
   "codemirror_mode": {
    "name": "ipython",
    "version": 3
   },
   "file_extension": ".py",
   "mimetype": "text/x-python",
   "name": "python",
   "nbconvert_exporter": "python",
   "pygments_lexer": "ipython3",
   "version": "3.6.13"
  }
 },
 "nbformat": 4,
 "nbformat_minor": 2
}
