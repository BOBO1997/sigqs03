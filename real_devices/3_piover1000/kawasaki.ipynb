{
 "cells": [
  {
   "cell_type": "code",
   "execution_count": 1,
   "metadata": {},
   "outputs": [],
   "source": [
    "import sys\n",
    "sys.path.append('../../libmitigation')"
   ]
  },
  {
   "cell_type": "code",
   "execution_count": 2,
   "metadata": {},
   "outputs": [
    {
     "name": "stderr",
     "output_type": "stream",
     "text": [
      "/Users/yangbo/.pyenv/versions/anaconda3-5.1.0/lib/python3.6/site-packages/qiskit/__init__.py:67: DeprecationWarning: Using Qiskit with Python 3.6 is deprecated as of the 0.17.0 release. Support for running Qiskit with Python 3.6 will be removed in a future release.\n",
      "  \"future release.\", DeprecationWarning)\n"
     ]
    }
   ],
   "source": [
    "#Preparing qiskit environment\n",
    "from qiskit import ClassicalRegister, QuantumRegister, QuantumCircuit\n",
    "from qiskit import execute\n",
    "from qiskit import IBMQ\n",
    "from qiskit import Aer\n",
    "from scipy import optimize\n",
    "import sys, time\n",
    "import mpmath as mp\n",
    "import numpy as np\n",
    "import matplotlib.pyplot as plt"
   ]
  },
  {
   "cell_type": "code",
   "execution_count": 3,
   "metadata": {},
   "outputs": [],
   "source": [
    "from qiskit.providers.aer.noise import NoiseModel\n",
    "from qiskit.providers.aer.noise import QuantumError, ReadoutError\n",
    "from qiskit.providers.aer.noise import depolarizing_error\n",
    "import qiskit.ignis.mitigation as mit\n",
    "from qiskit.ignis.mitigation.measurement import tensored_meas_cal, TensoredMeasFitter\n",
    "from qiskit.result import Result\n",
    "import importlib\n",
    "from inv_sgs import InvSGS\n",
    "from inv_s_sgs import InvSSGS\n",
    "from inv_lm_sgs import InvLMSGS\n",
    "from inv_s_lm_sgs import InvSLMSGS\n",
    "from inv_s_lm0_sgs import InvSLM0SGS\n",
    "from inv_s_lmk_sgs import InvSLMkSGS\n",
    "from mooney_etal import MooneyEtal\n",
    "from sgs_algorithm import sgs_algorithm\n",
    "from lib_grover import *\n",
    "from qiskit.compiler import transpile"
   ]
  },
  {
   "cell_type": "code",
   "execution_count": 4,
   "metadata": {},
   "outputs": [],
   "source": [
    "# import lib_grover\n",
    "# importlib.reload(lib_grover)\n",
    "# from lib_grover import *"
   ]
  },
  {
   "cell_type": "markdown",
   "metadata": {},
   "source": [
    "### Approximating the integral\n",
    "\n",
    "It is easy to see that as we use large $n$ (i.e., more qubits) and thus larger $b_{\\mbox{max}}$, we can approximate the integral better as illustrated below. "
   ]
  },
  {
   "cell_type": "code",
   "execution_count": 5,
   "metadata": {},
   "outputs": [
    {
     "name": "stdout",
     "output_type": "stream",
     "text": [
      "Analytical Result: 3.289861639787202e-06\n",
      "Discretized Result: 3.277010676691031e-06\n"
     ]
    }
   ],
   "source": [
    "import math\n",
    "\n",
    "b_max = math.pi / 1000  # upper limit of integral # 5\n",
    "nbit = 3  # change this value to get discretized result closer to analytical results # 3\n",
    "\n",
    "analyticResult = (b_max / 2.0 - math.sin(2 * b_max) / 4.0 ) / b_max  # the target integral can be analytically solved\n",
    "print(\"Analytical Result:\", analyticResult)\n",
    "\n",
    "ndiv = 2 ** nbit  #number of discretization \n",
    "discretizedResult = 0.0\n",
    "for i in range(ndiv):\n",
    "    discretizedResult += math.sin(b_max / ndiv * (i + 0.5))**2\n",
    "discretizedResult = discretizedResult / ndiv\n",
    "print(\"Discretized Result:\", discretizedResult)"
   ]
  },
  {
   "cell_type": "markdown",
   "metadata": {},
   "source": [
    "For example, quantum circuit with two Grover operators is shown below."
   ]
  },
  {
   "cell_type": "code",
   "execution_count": 6,
   "metadata": {
    "scrolled": true
   },
   "outputs": [
    {
     "name": "stderr",
     "output_type": "stream",
     "text": [
      "/Users/yangbo/.pyenv/versions/anaconda3-5.1.0/lib/python3.6/site-packages/qiskit/visualization/matplotlib.py:291: DeprecationWarning: style option/s (usepiformat, cregbundle, compress) is/are not supported\n",
      "  set_style(current_style, style)\n"
     ]
    },
    {
     "data": {
      "image/png": "[encoded data removed]",
      "text/plain": [
       "<Figure size 1604.58x325.08 with 1 Axes>"
      ]
     },
     "execution_count": 6,
     "metadata": {},
     "output_type": "execute_result"
    }
   ],
   "source": [
    "qc_list = create_grover_circuit([1], nbit, b_max, barrier=False)\n",
    "my_style = {'usepiformat': True, 'cregbundle': True,'compress': True }\n",
    "qc_list[0].draw(output=\"mpl\", style=my_style, plot_barriers=False )"
   ]
  },
  {
   "cell_type": "markdown",
   "metadata": {},
   "source": [
    "## Testing the algorithm with simulators\n",
    "\n",
    "Let us run the algorithm with simulators"
   ]
  },
  {
   "cell_type": "code",
   "execution_count": 7,
   "metadata": {},
   "outputs": [],
   "source": [
    "#setting the number of shots and Grover operators.\n",
    "\n",
    "# number_grover_list = [0, 1, 2, 4, 8, 16, 32] # , 64, 128, 256]  # list of number of Grover operators\n",
    "number_grover_list = [i for i in range(20)]\n",
    "shots = 100\n",
    "shots_list = [shots] * len(number_grover_list) # list of number of shots\n",
    "if len(shots_list) != len(number_grover_list):\n",
    "    raise Exception(\n",
    "        'The length of shots_list should be equal to the length of number_grover_list.'\n",
    "    )\n",
    "\n",
    "backend = Aer.get_backend('qasm_simulator')"
   ]
  },
  {
   "cell_type": "code",
   "execution_count": 8,
   "metadata": {},
   "outputs": [],
   "source": [
    "qc_list = create_grover_circuit(number_grover_list, nbit, b_max, barrier=False)  # list of Grover circuits"
   ]
  },
  {
   "cell_type": "markdown",
   "metadata": {},
   "source": [
    "## real device"
   ]
  },
  {
   "cell_type": "code",
   "execution_count": 9,
   "metadata": {},
   "outputs": [
    {
     "name": "stdout",
     "output_type": "stream",
     "text": [
      "<AccountProvider for IBMQ(hub='ibm-q-utokyo', group='internal', project='hirashi-jst')>\n"
     ]
    }
   ],
   "source": [
    "IBMQ.load_account()\n",
    "provider = IBMQ.get_provider(hub='ibm-q-utokyo', group='internal', project='hirashi-jst')\n",
    "print(provider)"
   ]
  },
  {
   "cell_type": "code",
   "execution_count": 11,
   "metadata": {},
   "outputs": [],
   "source": [
    "device = provider.backends.ibm_kawasaki"
   ]
  },
  {
   "cell_type": "code",
   "execution_count": 12,
   "metadata": {},
   "outputs": [],
   "source": [
    "initial_layout = [10,13,15,12]"
   ]
  },
  {
   "cell_type": "code",
   "execution_count": 13,
   "metadata": {},
   "outputs": [],
   "source": [
    "optim1_qc_list = [transpile(qc,\n",
    "                           basis_gates=['u1','u2','u3','cx'], \n",
    "                           coupling_map=[[0,3],[1,3],[2,3]], \n",
    "                           optimization_level=1) for qc in qc_list]"
   ]
  },
  {
   "cell_type": "code",
   "execution_count": 14,
   "metadata": {},
   "outputs": [],
   "source": [
    "optim2_qc_list = [transpile(qc,\n",
    "                           basis_gates=['u1','u2','u3','cx'], \n",
    "                           coupling_map=[[0,3],[1,3],[2,3]], \n",
    "                           optimization_level=2) for qc in qc_list]"
   ]
  },
  {
   "cell_type": "code",
   "execution_count": 15,
   "metadata": {},
   "outputs": [],
   "source": [
    "optim3_qc_list = [transpile(qc,\n",
    "                           basis_gates=['u1','u2','u3','cx'], \n",
    "                           coupling_map=[[0,3],[1,3],[2,3]], \n",
    "                           optimization_level=3) for qc in qc_list]"
   ]
  },
  {
   "cell_type": "code",
   "execution_count": 16,
   "metadata": {},
   "outputs": [
    {
     "name": "stdout",
     "output_type": "stream",
     "text": [
      "95 OrderedDict([('u2', 47), ('cx', 47), ('u3', 24), ('u1', 6), ('measure', 4), ('barrier', 1)])\n",
      "70 OrderedDict([('cx', 35), ('u2', 23), ('u3', 20), ('u1', 9), ('measure', 4), ('barrier', 1)])\n",
      "66 OrderedDict([('cx', 32), ('u2', 27), ('u3', 16), ('u1', 11), ('measure', 4), ('barrier', 1)])\n"
     ]
    }
   ],
   "source": [
    "print(optim1_qc_list[1].depth(), optim1_qc_list[1].count_ops())\n",
    "print(optim2_qc_list[1].depth(), optim2_qc_list[1].count_ops())\n",
    "print(optim3_qc_list[1].depth(), optim3_qc_list[1].count_ops())"
   ]
  },
  {
   "cell_type": "code",
   "execution_count": 17,
   "metadata": {},
   "outputs": [],
   "source": [
    "qr = QuantumRegister(nbit+1)\n",
    "mit_pattern = [[i] for i in range(nbit+1)]\n",
    "meas_calibs, state_labels = tensored_meas_cal(mit_pattern=mit_pattern, qr=qr, circlabel='mcal')"
   ]
  },
  {
   "cell_type": "code",
   "execution_count": 18,
   "metadata": {},
   "outputs": [
    {
     "name": "stdout",
     "output_type": "stream",
     "text": [
      "60ffe7aefcfd965dbdf4bd40\n"
     ]
    }
   ],
   "source": [
    "job = execute(optim3_qc_list + meas_calibs, backend=provider.get_backend(\"ibm_kawasaki\"), shots=shots, initial_layout=initial_layout)\n",
    "print(job.job_id())"
   ]
  },
  {
   "cell_type": "code",
   "execution_count": 20,
   "metadata": {
    "scrolled": true
   },
   "outputs": [
    {
     "name": "stdout",
     "output_type": "stream",
     "text": [
      "[93, 26, 15, 9, 7, 8, 7, 6, 7, 5, 4, 5, 7, 2, 3, 2, 6, 6, 5, 3]\n"
     ]
    }
   ],
   "source": [
    "counts_list_real = job.result().get_counts()[:-2]\n",
    "hit_list_real = make_hit_list(counts_list_real)\n",
    "print(hit_list_real)"
   ]
  },
  {
   "cell_type": "code",
   "execution_count": 19,
   "metadata": {},
   "outputs": [],
   "source": [
    "cal_results = Result(backend_name=job.result().backend_name,\n",
    "                     backend_version=job.result().backend_version,\n",
    "                     qobj_id=job.result().qobj_id,\n",
    "                     job_id=job.result().job_id,\n",
    "                     success=job.result().success,\n",
    "                     results=job.result().results[-2:])\n",
    "meas_fitter = TensoredMeasFitter(cal_results, mit_pattern=mit_pattern)"
   ]
  },
  {
   "cell_type": "code",
   "execution_count": 31,
   "metadata": {},
   "outputs": [
    {
     "data": {
      "text/plain": [
       "[array([[0.98, 0.03],\n",
       "        [0.02, 0.97]]),\n",
       " array([[1.  , 0.01],\n",
       "        [0.  , 0.99]]),\n",
       " array([[1.  , 0.01],\n",
       "        [0.  , 0.99]]),\n",
       " array([[0.98, 0.  ],\n",
       "        [0.02, 1.  ]])]"
      ]
     },
     "execution_count": 31,
     "metadata": {},
     "output_type": "execute_result"
    }
   ],
   "source": [
    "meas_fitter.cal_matrices"
   ]
  },
  {
   "cell_type": "markdown",
   "metadata": {},
   "source": [
    "## Mitigation"
   ]
  },
  {
   "cell_type": "code",
   "execution_count": 21,
   "metadata": {},
   "outputs": [
    {
     "name": "stdout",
     "output_type": "stream",
     "text": [
      "Restriction to labels of y + Lagrange Multiplier + SGS algorithm\n",
      "sum of mitigated probability vector x_s: 1.0014994195445328\n",
      "sum of mitigated probability vector x_hat_s: 1.00416021615442\n",
      "0.0005502700805664062 s\n",
      "number of positive values:  4\n",
      "main process: Done!\n",
      "Restriction to labels of y + Lagrange Multiplier + SGS algorithm\n",
      "sum of mitigated probability vector x_s: 1.0021699269819575\n",
      "sum of mitigated probability vector x_hat_s: 1.0034239157111058\n",
      "0.0019969940185546875 s\n",
      "number of positive values:  14\n",
      "main process: Done!\n",
      "Restriction to labels of y + Lagrange Multiplier + SGS algorithm\n",
      "sum of mitigated probability vector x_s: 1.0012668866621937\n",
      "sum of mitigated probability vector x_hat_s: 1.001473132976139\n",
      "0.0020589828491210938 s\n",
      "number of positive values:  15\n",
      "main process: Done!\n",
      "Restriction to labels of y + Lagrange Multiplier + SGS algorithm\n",
      "sum of mitigated probability vector x_s: 1.0000000000000004\n",
      "sum of mitigated probability vector x_hat_s: 0.9995291122590476\n",
      "0.002515077590942383 s\n",
      "number of positive values:  16\n",
      "accumulator is positive, we might even ignoring the necessal positive values.\n",
      "main process: Done!\n",
      "Restriction to labels of y + Lagrange Multiplier + SGS algorithm\n",
      "sum of mitigated probability vector x_s: 1.0016438840772408\n",
      "sum of mitigated probability vector x_hat_s: 1.0020229057263916\n",
      "0.002001047134399414 s\n",
      "number of positive values:  15\n",
      "main process: Done!\n",
      "Restriction to labels of y + Lagrange Multiplier + SGS algorithm\n",
      "sum of mitigated probability vector x_s: 1.0000000000000007\n",
      "sum of mitigated probability vector x_hat_s: 0.9995225403605166\n",
      "0.002286195755004883 s\n",
      "number of positive values:  16\n",
      "accumulator is positive, we might even ignoring the necessal positive values.\n",
      "main process: Done!\n",
      "Restriction to labels of y + Lagrange Multiplier + SGS algorithm\n",
      "sum of mitigated probability vector x_s: 1.0000000000000004\n",
      "sum of mitigated probability vector x_hat_s: 1.000209906136559\n",
      "0.0024547576904296875 s\n",
      "number of positive values:  16\n",
      "main process: Done!\n",
      "Restriction to labels of y + Lagrange Multiplier + SGS algorithm\n",
      "sum of mitigated probability vector x_s: 1.0000000000000007\n",
      "sum of mitigated probability vector x_hat_s: 1.001212279339585\n",
      "0.002775907516479492 s\n",
      "number of positive values:  16\n",
      "main process: Done!\n",
      "Restriction to labels of y + Lagrange Multiplier + SGS algorithm\n",
      "sum of mitigated probability vector x_s: 1.0000000000000004\n",
      "sum of mitigated probability vector x_hat_s: 0.9994908411380595\n",
      "0.002412080764770508 s\n",
      "number of positive values:  16\n",
      "accumulator is positive, we might even ignoring the necessal positive values.\n",
      "main process: Done!\n",
      "Restriction to labels of y + Lagrange Multiplier + SGS algorithm\n",
      "sum of mitigated probability vector x_s: 1.0000000000000004\n",
      "sum of mitigated probability vector x_hat_s: 0.9997538072434494\n",
      "0.002540111541748047 s\n",
      "number of positive values:  16\n",
      "accumulator is positive, we might even ignoring the necessal positive values.\n",
      "main process: Done!\n",
      "Restriction to labels of y + Lagrange Multiplier + SGS algorithm\n",
      "sum of mitigated probability vector x_s: 1.0000000000000004\n",
      "sum of mitigated probability vector x_hat_s: 1.000686793204055\n",
      "0.0024292469024658203 s\n",
      "number of positive values:  16\n",
      "main process: Done!\n",
      "Restriction to labels of y + Lagrange Multiplier + SGS algorithm\n",
      "sum of mitigated probability vector x_s: 1.0000000000000004\n",
      "sum of mitigated probability vector x_hat_s: 1.0010265014548245\n",
      "0.002563953399658203 s\n",
      "number of positive values:  16\n",
      "main process: Done!\n",
      "Restriction to labels of y + Lagrange Multiplier + SGS algorithm\n",
      "sum of mitigated probability vector x_s: 1.0000000000000004\n",
      "sum of mitigated probability vector x_hat_s: 1.0000351597164605\n",
      "0.002853870391845703 s\n",
      "number of positive values:  16\n",
      "main process: Done!\n",
      "Restriction to labels of y + Lagrange Multiplier + SGS algorithm\n",
      "sum of mitigated probability vector x_s: 1.0000000000000004\n",
      "sum of mitigated probability vector x_hat_s: 1.0002091059297609\n",
      "0.0024688243865966797 s\n",
      "number of positive values:  16\n",
      "main process: Done!\n",
      "Restriction to labels of y + Lagrange Multiplier + SGS algorithm\n",
      "sum of mitigated probability vector x_s: 1.0000000000000004\n",
      "sum of mitigated probability vector x_hat_s: 1.0007909950774607\n",
      "0.0026149749755859375 s\n",
      "number of positive values:  16\n",
      "main process: Done!\n",
      "Restriction to labels of y + Lagrange Multiplier + SGS algorithm\n",
      "sum of mitigated probability vector x_s: 1.0000000000000004\n",
      "sum of mitigated probability vector x_hat_s: 1.0004126858947462\n",
      "0.0035789012908935547 s\n",
      "number of positive values:  16\n",
      "main process: Done!\n",
      "Restriction to labels of y + Lagrange Multiplier + SGS algorithm\n",
      "sum of mitigated probability vector x_s: 1.0000000000000007\n",
      "sum of mitigated probability vector x_hat_s: 1.0005449911020912\n",
      "0.0024917125701904297 s\n",
      "number of positive values:  16\n",
      "main process: Done!\n",
      "Restriction to labels of y + Lagrange Multiplier + SGS algorithm\n",
      "sum of mitigated probability vector x_s: 1.0000000000000004\n",
      "sum of mitigated probability vector x_hat_s: 1.0002810581048691\n",
      "0.002871990203857422 s\n",
      "number of positive values:  16\n",
      "main process: Done!\n",
      "Restriction to labels of y + Lagrange Multiplier + SGS algorithm\n",
      "sum of mitigated probability vector x_s: 1.0000000000000004\n",
      "sum of mitigated probability vector x_hat_s: 1.001078714800118\n",
      "0.0028219223022460938 s\n",
      "number of positive values:  16\n",
      "main process: Done!\n",
      "Restriction to labels of y + Lagrange Multiplier + SGS algorithm\n",
      "sum of mitigated probability vector x_s: 1.0000000000000004\n",
      "sum of mitigated probability vector x_hat_s: 1.0005067526062874\n",
      "0.003074169158935547 s\n",
      "number of positive values:  16\n",
      "main process: Done!\n",
      "[96.59756165804782, 26.459454283157985, 15.281897334485745, 8.915763341439606, 6.974519759838829, 7.946595235895186, 7.061246497016029, 5.934994035596318, 7.095863090252904, 4.873729025469001, 3.806633217891801, 4.850461313021453, 7.087962614648773, 1.7778893246386458, 2.7567888977740056, 1.817361128290266, 5.936064845827846, 5.894504113990391, 5.014296176070414, 2.9182402232345175]\n"
     ]
    }
   ],
   "source": [
    "meas_filter = InvSLM0SGS(nbit+1, meas_fitter.cal_matrices, mit_pattern)\n",
    "x_tilde_S_lm_0_list = []\n",
    "for counts in counts_list_real:\n",
    "    x_tilde = meas_filter.apply(counts)\n",
    "    x_tilde_S_lm_0_list.append(x_tilde)\n",
    "mit_hit_S_lm_0_list = make_hit_list(x_tilde_S_lm_0_list)\n",
    "print(mit_hit_S_lm_0_list)"
   ]
  },
  {
   "cell_type": "code",
   "execution_count": 23,
   "metadata": {},
   "outputs": [
    {
     "name": "stdout",
     "output_type": "stream",
     "text": [
      "The heuristcs by Mooney et al. + SGS algorithm\n",
      "{0: 0.9684253924855432, 2: 0.010524145862491728, 4: 0.010524145862491728, 8: 0.021473597413446958}\n",
      "sum of counts: 1.0109472816239735\n",
      "0.00038504600524902344 s\n",
      "number of positive values:  4\n",
      "main process: Done!\n",
      "The heuristcs by Mooney et al. + SGS algorithm\n",
      "{0: 0.2642926788745883, 1: 0.15169525545465407, 2: 0.06271965716030424, 4: 0.11338745218900156, 5: 0.06140893358938477, 6: 0.04252180146461304, 8: 0.11517135003760659, 9: 0.03519147468566474, 10: 0.039681279371413795, 12: 0.03739200640544911, 13: 0.04991805237874959, 15: 0.01031044093245051}\n",
      "sum of counts: 0.9836903825438803\n",
      "0.0004279613494873047 s\n",
      "number of positive values:  12\n",
      "accumulator is positive, we might even ignoring the necessal positive values.\n",
      "main process: Done!\n",
      "The heuristcs by Mooney et al. + SGS algorithm\n",
      "{0: 0.15279954006315366, 1: 0.059226929539073596, 2: 0.0830205295915025, 3: 0.01921810078565607, 4: 0.07151991658713011, 5: 0.05133302011862052, 6: 0.05216592138442221, 7: 0.031124205195747715, 8: 0.13701943651818338, 9: 0.05611689681591714, 10: 0.0480004725618761, 11: 0.05065232059991689, 12: 0.04631660922387744, 13: 0.11252995841740435, 14: 0.03021020564880214}\n",
      "sum of counts: 1.0012540630512838\n",
      "0.0005221366882324219 s\n",
      "number of positive values:  15\n",
      "main process: Done!\n",
      "The heuristcs by Mooney et al. + SGS algorithm\n",
      "{0: 0.0893530231192569, 1: 0.07052045698662245, 2: 0.02964251768079521, 3: 0.03124694854018164, 4: 0.18555177133440978, 5: 0.09178791133678361, 6: 0.09534527647993131, 8: 0.08869110771594252, 10: 0.02825168215917819, 11: 0.05021627486881533, 12: 0.07702079107866304, 13: 0.037522202024366555, 14: 0.048249093589717906, 15: 0.06207744644746243}\n",
      "sum of counts: 0.9854765033621266\n",
      "0.0006000995635986328 s\n",
      "number of positive values:  14\n",
      "accumulator is positive, we might even ignoring the necessal positive values.\n",
      "main process: Done!\n",
      "The heuristcs by Mooney et al. + SGS algorithm\n",
      "{0: 0.069682865171587, 1: 0.04967933849227997, 2: 0.08191474356887893, 3: 0.072155551763663, 4: 0.08191474356887893, 5: 0.072155551763663, 7: 0.05370021318984637, 8: 0.05540764653774455, 9: 0.09989616132245435, 10: 0.03784854589138026, 11: 0.03844970333919982, 12: 0.08877890208489438, 13: 0.058226417852756465, 14: 0.04918939528189932, 15: 0.09257916753929518}\n",
      "sum of counts: 1.0015789473684216\n",
      "0.00045680999755859375 s\n",
      "number of positive values:  15\n",
      "main process: Done!\n",
      "The heuristcs by Mooney et al. + SGS algorithm\n",
      "{0: 0.07966406900104783, 1: 0.0709411378812154, 2: 0.06123796964535176, 3: 0.029756493643483872, 4: 0.08098430518116097, 5: 0.07185307709345079, 6: 0.09304383877179508, 7: 0.08394768021106601, 8: 0.0370039401709486, 9: 0.02757297721982161, 10: 0.05792602543570876, 11: 0.06013981124484659, 12: 0.06816374093658215, 13: 0.04866523736425767, 14: 0.07987084769951028, 15: 0.049228848499753064}\n",
      "sum of counts: 1.0000000000000004\n",
      "0.0007238388061523438 s\n",
      "number of positive values:  16\n",
      "main process: Done!\n",
      "The heuristcs by Mooney et al. + SGS algorithm\n",
      "{0: 0.07052536672039977, 1: 0.04988092251705835, 2: 0.028911537227782412, 3: 0.06197881340282801, 4: 0.04995982895276588, 5: 0.0615448280064366, 6: 0.07079660759314445, 7: 0.11660617721223787, 8: 0.07624590796156075, 9: 0.07852380524971095, 10: 0.0889636527367218, 11: 0.09042453963848364, 12: 0.05919659439823488, 13: 0.03897123104231787, 14: 0.03961103072517974, 15: 0.017859156615137487}\n",
      "sum of counts: 1.0000000000000004\n",
      "0.00045800209045410156 s\n",
      "number of positive values:  16\n",
      "main process: Done!\n",
      "The heuristcs by Mooney et al. + SGS algorithm\n",
      "{0: 0.05884691833655155, 1: 0.09124084863433238, 2: 0.03779837454934293, 3: 0.11524723304171929, 4: 0.03812386359663648, 5: 0.10461459083012971, 6: 0.07178293803948856, 7: 0.08438604929833005, 9: 0.06884807891871005, 10: 0.02787376416904785, 11: 0.05895411053761476, 12: 0.06880292690272187, 13: 0.0687361413722772, 14: 0.038302498999696566, 15: 0.0606045263142552}\n",
      "sum of counts: 0.9941628635408544\n",
      "0.0005068778991699219 s\n",
      "number of positive values:  15\n",
      "accumulator is positive, we might even ignoring the necessal positive values.\n",
      "main process: Done!\n",
      "The heuristcs by Mooney et al. + SGS algorithm\n",
      "{0: 0.07116990078940412, 1: 0.018518989765287357, 2: 0.05027874246375048, 3: 0.05112698664760641, 4: 0.06080288832624219, 5: 0.0509099939494107, 6: 0.07145416122404051, 7: 0.09512609193629931, 8: 0.027078935258475028, 9: 0.048725491195302104, 10: 0.03531080532675433, 11: 0.12203257279584463, 12: 0.01638687211710681, 13: 0.05994228213412539, 14: 0.1096229576521215, 15: 0.11151232841822958}\n",
      "sum of counts: 1.0000000000000004\n",
      "0.0007212162017822266 s\n",
      "number of positive values:  16\n",
      "main process: Done!\n",
      "The heuristcs by Mooney et al. + SGS algorithm\n",
      "{0: 0.0488394452395364, 1: 0.05052891970185206, 2: 0.05980011903912569, 3: 0.08375918150354246, 4: 0.10384963677285394, 5: 0.019095357441222146, 6: 0.0740843757476248, 8: 0.05721954981467401, 9: 0.06787807421391384, 10: 0.03605476150475015, 11: 0.10105976822768804, 12: 0.04548743409531748, 13: 0.10214039186470268, 14: 0.07992783568085461, 15: 0.06143304388918428}\n",
      "sum of counts: 0.9911578947368426\n",
      "0.0008082389831542969 s\n",
      "number of positive values:  15\n",
      "accumulator is positive, we might even ignoring the necessal positive values.\n",
      "main process: Done!\n",
      "The heuristcs by Mooney et al. + SGS algorithm\n",
      "{0: 0.03778135486952989, 1: 0.10251149321552606, 2: 0.018477257028179817, 3: 0.06273061638748584, 4: 0.04809676033189368, 5: 0.12587549156243624, 6: 0.061810041304231365, 7: 0.06312514856602351, 8: 0.027424665998373003, 9: 0.03715953927847299, 10: 0.08973511657494343, 11: 0.06862440109193362, 12: 0.027260748837417803, 13: 0.06863742065382532, 14: 0.04730879189753654, 15: 0.11344115240219141}\n",
      "sum of counts: 1.0000000000000004\n",
      "0.0005078315734863281 s\n",
      "number of positive values:  16\n",
      "main process: Done!\n",
      "The heuristcs by Mooney et al. + SGS algorithm\n",
      "{0: 0.048078677607044026, 1: 0.11313977365469735, 2: 0.028682489379686944, 3: 0.07293146504812036, 4: 0.01783285446990166, 5: 0.08378109995790564, 6: 0.06115248767333529, 7: 0.08460523384196207, 8: 0.025310181746727684, 9: 0.09925853156657441, 10: 0.0899541696078493, 11: 0.057998246742835526, 12: 0.028927143167289004, 13: 0.03821719237531497, 14: 0.03690410161132426, 15: 0.113226351549432}\n",
      "sum of counts: 1.0000000000000007\n",
      "0.0006279945373535156 s\n",
      "number of positive values:  16\n",
      "main process: Done!\n",
      "The heuristcs by Mooney et al. + SGS algorithm\n",
      "{0: 0.07086503700766633, 1: 0.04902277119183023, 2: 0.017294756415285044, 3: 0.1048293916828891, 4: 0.027818902277776773, 5: 0.10461239898469339, 6: 0.049864483676285966, 7: 0.10630450366153266, 8: 0.0268639809765351, 9: 0.02833238590814349, 10: 0.09061152597265608, 11: 0.02632156498640894, 12: 0.047870474209047956, 13: 0.06885647368673117, 14: 0.08986347104369437, 15: 0.09066787831882392}\n",
      "sum of counts: 1.0000000000000007\n",
      "0.0004582405090332031 s\n",
      "number of positive values:  16\n",
      "main process: Done!\n",
      "The heuristcs by Mooney et al. + SGS algorithm\n",
      "{0: 0.017692127033662713, 1: 0.061274200850414115, 2: 0.049837085608331944, 3: 0.07249528780629265, 4: 0.0708853773333154, 5: 0.07206130240990123, 6: 0.050522037307182036, 7: 0.08482441838559411, 8: 0.06824754614683988, 9: 0.057663179330985234, 10: 0.04838060431589712, 11: 0.048652393150000826, 12: 0.04636474214965903, 13: 0.1007610196947176, 14: 0.058596795894585864, 15: 0.09174188258262084}\n",
      "sum of counts: 1.0000000000000004\n",
      "0.0009379386901855469 s\n",
      "number of positive values:  16\n",
      "main process: Done!\n",
      "The heuristcs by Mooney et al. + SGS algorithm\n",
      "{0: 0.0272396742435476, 1: 0.10337069662656359, 2: 0.02847645590867284, 3: 0.07272104788623361, 4: 0.050175725728243414, 5: 0.05102177806666304, 6: 0.08175583477474574, 7: 0.1056469500306366, 8: 0.016550991585395806, 9: 0.0887085219279341, 11: 0.08076060543593012, 12: 0.04731271530086754, 13: 0.0803439794553944, 14: 0.06838996130406479, 15: 0.09111063109696059}\n",
      "sum of counts: 0.9935855693718538\n",
      "0.0004570484161376953 s\n",
      "number of positive values:  15\n",
      "accumulator is positive, we might even ignoring the necessal positive values.\n",
      "main process: Done!\n",
      "The heuristcs by Mooney et al. + SGS algorithm\n",
      "{0: 0.018002371795946666, 1: 0.061481395999509476, 2: 0.04940857982553134, 3: 0.08302272143693884, 4: 0.04018639015221381, 5: 0.04070914528877621, 6: 0.06082371085788725, 7: 0.09534527647993135, 8: 0.06805114583651839, 9: 0.0672390890208161, 10: 0.025516105625469982, 11: 0.1222280854087644, 12: 0.05727949678735739, 13: 0.10159641966431672, 14: 0.059679567540128056, 15: 0.04943049827989452}\n",
      "sum of counts: 1.0000000000000004\n",
      "0.0006010532379150391 s\n",
      "number of positive values:  16\n",
      "main process: Done!\n",
      "The heuristcs by Mooney et al. + SGS algorithm\n",
      "{0: 0.0592183923010991, 1: 0.08167265424043738, 2: 0.07153306765974804, 3: 0.06131468423562299, 5: 0.0626166404247972, 6: 0.018301909393274203, 7: 0.09622201465445945, 8: 0.06636550622697814, 9: 0.07810266406757638, 10: 0.06867496696614948, 11: 0.04855380394227515, 12: 0.06914869052030141, 13: 0.07978773292056504, 14: 0.04914555837317291, 15: 0.08120348972479303}\n",
      "sum of counts: 0.99186177565125\n",
      "0.00043892860412597656 s\n",
      "number of positive values:  15\n",
      "accumulator is positive, we might even ignoring the necessal positive values.\n",
      "main process: Done!\n",
      "The heuristcs by Mooney et al. + SGS algorithm\n",
      "{0: 0.058828419161069005, 1: 0.08146859343031596, 2: 0.08076840840568343, 3: 0.09278739285574561, 4: 0.029449635282399033, 5: 0.05134178750036579, 6: 0.049535706860837934, 7: 0.11704454629950194, 8: 0.047727839867279395, 9: 0.03746234272550064, 10: 0.06817772491046589, 11: 0.04793079379545548, 12: 0.01731680638037441, 13: 0.0602429594910798, 14: 0.0797744065003122, 15: 0.08014263653361403}\n",
      "sum of counts: 1.0000000000000004\n",
      "0.0006051063537597656 s\n",
      "number of positive values:  16\n",
      "main process: Done!\n",
      "The heuristcs by Mooney et al. + SGS algorithm\n",
      "{0: 0.049695360882419465, 1: 0.04988214995050268, 2: 0.0597036778399276, 3: 0.1041696462065567, 4: 0.018909050579134903, 5: 0.06250704815298118, 6: 0.01863068620872224, 7: 0.08548197201649017, 8: 0.08781155302002878, 9: 0.07788998930489023, 10: 0.03798345397798578, 11: 0.05811669407021425, 12: 0.01657712430097943, 13: 0.11147519855653829, 14: 0.015952251085538903, 15: 0.1452141438470899}\n",
      "sum of counts: 1.0000000000000004\n",
      "0.00046896934509277344 s\n",
      "number of positive values:  16\n",
      "main process: Done!\n",
      "The heuristcs by Mooney et al. + SGS algorithm\n",
      "{0: 0.028972130794869478, 1: 0.03990568050718429, 2: 0.02752300314387354, 3: 0.10386717153634449, 4: 0.07124703183030824, 5: 0.04983598968561378, 6: 0.07945439706660949, 7: 0.18082724849642154, 9: 0.08039783309776476, 10: 0.03766690766007243, 11: 0.07928492357747316, 12: 0.02807366047284025, 13: 0.028478253221930608, 14: 0.046955904782288976, 15: 0.11108711040358345}\n",
      "sum of counts: 0.9935772462771784\n",
      "0.0006499290466308594 s\n",
      "number of positive values:  15\n",
      "accumulator is positive, we might even ignoring the necessal positive values.\n",
      "main process: Done!\n",
      "[96.56885720795498, 26.56518136625983, 15.271593585973472, 9.039041573624786, 6.957760201369223, 7.96640690010478, 7.052536672039975, 5.923606076716126, 7.116990078940409, 4.942891892374689, 3.778135486952986, 4.807867760704399, 7.086503700766629, 1.7692127033662686, 2.7667302952090678, 1.800237179594664, 5.976094059101576, 5.882841916106898, 4.969536088241943, 2.9400314376390924]\n"
     ]
    }
   ],
   "source": [
    "meas_filter = MooneyEtal(nbit+1, meas_fitter.cal_matrices, mit_pattern)\n",
    "x_tilde_mooney_list = []\n",
    "for counts in counts_list_real:\n",
    "    x_tilde = meas_filter.apply(counts, threshold=1/100)\n",
    "    x_tilde_mooney_list.append(x_tilde)\n",
    "mit_hit_mooney100_list = make_hit_list(x_tilde_mooney_list)\n",
    "print(mit_hit_mooney100_list)"
   ]
  },
  {
   "cell_type": "code",
   "execution_count": 24,
   "metadata": {},
   "outputs": [
    {
     "name": "stdout",
     "output_type": "stream",
     "text": [
      "The heuristcs by Mooney et al. + SGS algorithm\n",
      "{0: 0.968635875402793}\n",
      "sum of counts: 0.968635875402793\n",
      "0.0003070831298828125 s\n",
      "number of positive values:  1\n",
      "accumulator is positive, we might even ignoring the necessal positive values.\n",
      "main process: Done!\n",
      "The heuristcs by Mooney et al. + SGS algorithm\n",
      "{0: 0.2649198754461914, 1: 0.15230934479054792, 4: 0.11381267020364769, 8: 0.11596476038581302}\n",
      "sum of counts: 0.6470066508262\n",
      "0.0002689361572265625 s\n",
      "number of positive values:  4\n",
      "accumulator is positive, we might even ignoring the necessal positive values.\n",
      "main process: Done!\n",
      "The heuristcs by Mooney et al. + SGS algorithm\n",
      "{0: 0.15435016111707842, 8: 0.13796562835660584, 13: 0.11355661881977676}\n",
      "sum of counts: 0.405872408293461\n",
      "0.00041604042053222656 s\n",
      "number of positive values:  3\n",
      "accumulator is positive, we might even ignoring the necessal positive values.\n",
      "main process: Done!\n",
      "The heuristcs by Mooney et al. + SGS algorithm\n",
      "{4: 0.1865052240992091}\n",
      "sum of counts: 0.1865052240992091\n",
      "0.00019407272338867188 s\n",
      "number of positive values:  1\n",
      "accumulator is positive, we might even ignoring the necessal positive values.\n",
      "main process: Done!\n",
      "The heuristcs by Mooney et al. + SGS algorithm\n",
      "{9: 0.1018947368421053}\n",
      "sum of counts: 0.1018947368421053\n",
      "0.00020194053649902344 s\n",
      "number of positive values:  1\n",
      "accumulator is positive, we might even ignoring the necessal positive values.\n",
      "main process: Done!\n",
      "The heuristcs by Mooney et al. + SGS algorithm\n",
      "{}\n",
      "sum of counts: 0\n",
      "0.00015473365783691406 s\n",
      "number of positive values:  0\n",
      "accumulator is positive, we might even ignoring the necessal positive values.\n",
      "main process: Done!\n",
      "The heuristcs by Mooney et al. + SGS algorithm\n",
      "{7: 0.11660617721223787}\n",
      "sum of counts: 0.11660617721223787\n",
      "0.00024509429931640625 s\n",
      "number of positive values:  1\n",
      "accumulator is positive, we might even ignoring the necessal positive values.\n",
      "main process: Done!\n",
      "The heuristcs by Mooney et al. + SGS algorithm\n",
      "{3: 0.1160910935347026, 5: 0.105458451323113}\n",
      "sum of counts: 0.22154954485781558\n",
      "0.00021195411682128906 s\n",
      "number of positive values:  2\n",
      "accumulator is positive, we might even ignoring the necessal positive values.\n",
      "main process: Done!\n",
      "The heuristcs by Mooney et al. + SGS algorithm\n",
      "{11: 0.12305511252879676, 14: 0.11105204087660232, 15: 0.11341485025695558}\n",
      "sum of counts: 0.34752200366235464\n",
      "0.00021505355834960938 s\n",
      "number of positive values:  3\n",
      "accumulator is positive, we might even ignoring the necessal positive values.\n",
      "main process: Done!\n",
      "The heuristcs by Mooney et al. + SGS algorithm\n",
      "{4: 0.1045904805303302, 11: 0.10334928229665075, 13: 0.10313662945241897}\n",
      "sum of counts: 0.3110763922793999\n",
      "0.00037288665771484375 s\n",
      "number of positive values:  3\n",
      "accumulator is positive, we might even ignoring the necessal positive values.\n",
      "main process: Done!\n",
      "The heuristcs by Mooney et al. + SGS algorithm\n",
      "{1: 0.1031387993794009, 5: 0.12650674304809648, 15: 0.11470365537351189}\n",
      "sum of counts: 0.34434919780100925\n",
      "0.00027370452880859375 s\n",
      "number of positive values:  3\n",
      "accumulator is positive, we might even ignoring the necessal positive values.\n",
      "main process: Done!\n",
      "The heuristcs by Mooney et al. + SGS algorithm\n",
      "{1: 0.11471535982814182, 9: 0.10023200859291086, 15: 0.11491845622627125}\n",
      "sum of counts: 0.32986582464732395\n",
      "0.00024175643920898438 s\n",
      "number of positive values:  3\n",
      "accumulator is positive, we might even ignoring the necessal positive values.\n",
      "main process: Done!\n",
      "The heuristcs by Mooney et al. + SGS algorithm\n",
      "{3: 0.1048293916828891, 5: 0.10461239898469339, 7: 0.10630450366153266}\n",
      "sum of counts: 0.31574629432911516\n",
      "0.00027108192443847656 s\n",
      "number of positive values:  3\n",
      "accumulator is positive, we might even ignoring the necessal positive values.\n",
      "main process: Done!\n",
      "The heuristcs by Mooney et al. + SGS algorithm\n",
      "{13: 0.10313662945241897}\n",
      "sum of counts: 0.10313662945241897\n",
      "0.000186920166015625 s\n",
      "number of positive values:  1\n",
      "accumulator is positive, we might even ignoring the necessal positive values.\n",
      "main process: Done!\n",
      "The heuristcs by Mooney et al. + SGS algorithm\n",
      "{1: 0.10461868958109562, 7: 0.1056469500306366}\n",
      "sum of counts: 0.21026563961173222\n",
      "0.00019407272338867188 s\n",
      "number of positive values:  2\n",
      "accumulator is positive, we might even ignoring the necessal positive values.\n",
      "main process: Done!\n",
      "The heuristcs by Mooney et al. + SGS algorithm\n",
      "{11: 0.12440191387559811, 13: 0.10292397660818718}\n",
      "sum of counts: 0.2273258904837853\n",
      "0.0001919269561767578 s\n",
      "number of positive values:  2\n",
      "accumulator is positive, we might even ignoring the necessal positive values.\n",
      "main process: Done!\n",
      "The heuristcs by Mooney et al. + SGS algorithm\n",
      "{}\n",
      "sum of counts: 0\n",
      "0.00015211105346679688 s\n",
      "number of positive values:  0\n",
      "accumulator is positive, we might even ignoring the necessal positive values.\n",
      "main process: Done!\n",
      "The heuristcs by Mooney et al. + SGS algorithm\n",
      "{7: 0.11704454629950194}\n",
      "sum of counts: 0.11704454629950194\n",
      "0.0002090930938720703 s\n",
      "number of positive values:  1\n",
      "accumulator is positive, we might even ignoring the necessal positive values.\n",
      "main process: Done!\n",
      "The heuristcs by Mooney et al. + SGS algorithm\n",
      "{3: 0.10502446592672161, 13: 0.11272533951959791, 15: 0.1469237832874197}\n",
      "sum of counts: 0.36467358873373923\n",
      "0.00021696090698242188 s\n",
      "number of positive values:  3\n",
      "accumulator is positive, we might even ignoring the necessal positive values.\n",
      "main process: Done!\n",
      "The heuristcs by Mooney et al. + SGS algorithm\n",
      "{3: 0.10386717153634449, 7: 0.18082724849642154, 15: 0.11108711040358345}\n",
      "sum of counts: 0.39578153043634945\n",
      "0.00023293495178222656 s\n",
      "number of positive values:  3\n",
      "accumulator is positive, we might even ignoring the necessal positive values.\n",
      "main process: Done!\n",
      "[100.0, 35.31682127396414, 35.23926916859247, 0, 0, 0, 0, 0, 0, 0, 0, 0, 0, 0, 0, 0, 0, 0, 0, 0]\n"
     ]
    }
   ],
   "source": [
    "meas_filter = MooneyEtal(nbit+1, meas_fitter.cal_matrices, mit_pattern)\n",
    "x_tilde_mooney_list = []\n",
    "for counts in counts_list_real:\n",
    "    x_tilde = meas_filter.apply(counts, threshold=1/10)\n",
    "    x_tilde_mooney_list.append(x_tilde)\n",
    "mit_hit_mooney10_list = make_hit_list(x_tilde_mooney_list)\n",
    "print(mit_hit_mooney10_list)"
   ]
  },
  {
   "cell_type": "code",
   "execution_count": 27,
   "metadata": {},
   "outputs": [
    {
     "data": {
      "text/plain": [
       "Text(0, 0.5, 'number of shots for $|00...0>$')"
      ]
     },
     "execution_count": 27,
     "metadata": {},
     "output_type": "execute_result"
    },
    {
     "data": {
      "image/png": "[encoded data removed]",
      "text/plain": [
       "<Figure size 432x288 with 1 Axes>"
      ]
     },
     "metadata": {
      "needs_background": "light"
     },
     "output_type": "display_data"
    }
   ],
   "source": [
    "divide = 20\n",
    "plt.plot(np.linspace(0,number_grover_list[-1], divide), shots * np.cos(2 * np.linspace(0,number_grover_list[-1], divide) * np.arccos(np.sqrt(discretizedResult))) ** 2, label=\"theoretical\")\n",
    "plt.plot(number_grover_list, hit_list_real, marker=\"o\", label=\"noisy output\")\n",
    "plt.plot(number_grover_list, mit_hit_mooney100_list, marker=\"*\", label=\"Mooney et al. (t=1/100)\", color=\"C2\")\n",
    "plt.plot(number_grover_list, mit_hit_mooney10_list, marker=\"*\", label=\"Mooney et al. (t=1/10)\", color=\"C5\")\n",
    "plt.plot(number_grover_list, mit_hit_S_lm_0_list, marker=\"v\", label=\"proposed method\", color=\"C3\")\n",
    "plt.legend(bbox_to_anchor=(1.05, 1), loc='upper left', borderaxespad=0, fontsize=18)\n",
    "plt.title(\"20qubit, p(0->1): 0.01, p(1->0): 0.01\")\n",
    "plt.xlabel(\"number of grover iterations $m$\")\n",
    "plt.ylabel(\"number of shots for $|00...0>$\")"
   ]
  },
  {
   "cell_type": "code",
   "execution_count": 29,
   "metadata": {},
   "outputs": [],
   "source": [
    "sin_hit_list = [shots - h for h in hit_list_real]\n",
    "sin_mit_hit_S_lm_0_list = [shots - h for h in mit_hit_S_lm_0_list]\n",
    "sin_mit_hit_mooney100_list = [shots - h for h in mit_hit_mooney100_list]\n",
    "sin_mit_hit_mooney10_list = [shots - h for h in mit_hit_mooney10_list]\n",
    "\n",
    "thetaCandidate_list = calculate_theta(\n",
    "    sin_hit_list, number_grover_list, shots_list)  # list of estimated theta values\n",
    "thetaCandidate_mit_S_lm_0_list = calculate_theta(\n",
    "    sin_mit_hit_S_lm_0_list, number_grover_list, shots_list)  # list of estimated theta values\n",
    "thetaCandidate_mit_mooney100_list = calculate_theta(\n",
    "    sin_mit_hit_mooney100_list, number_grover_list, shots_list)  # list of estimated theta values\n",
    "thetaCandidate_mit_mooney10_list = calculate_theta(\n",
    "    sin_mit_hit_mooney10_list, number_grover_list, shots_list)  # list of estimated theta values\n",
    "\n",
    "error_list = np.abs(np.sin(thetaCandidate_list)**2 - discretizedResult)  # list of estimation errors\n",
    "error_mit_S_lm_0_list = np.abs(np.sin(thetaCandidate_mit_S_lm_0_list)**2 - discretizedResult)  # list of estimation errors\n",
    "error_mit_mooney100_list = np.abs(np.sin(thetaCandidate_mit_mooney100_list)**2 - discretizedResult)  # list of estimation errors\n",
    "error_mit_mooney10_list = np.abs(np.sin(thetaCandidate_mit_mooney10_list)**2 - discretizedResult)  # list of estimation errors\n",
    "OracleCall_list = []  # list of number of oracle calls\n",
    "ErrorCramérRao_list = []  # list of Cramér-Rao lower bound\n",
    "for i in range(len(number_grover_list)):\n",
    "    OracleCall_list.append(\n",
    "        CalcNumberOracleCalls(i, shots_list, number_grover_list))\n",
    "    ErrorCramérRao_list.append(\n",
    "        CalcErrorCramérRao(i, shots_list, discretizedResult, number_grover_list))"
   ]
  },
  {
   "cell_type": "code",
   "execution_count": 30,
   "metadata": {},
   "outputs": [
    {
     "data": {
      "image/png": "[encoded data removed]",
      "text/plain": [
       "<Figure size 432x288 with 1 Axes>"
      ]
     },
     "metadata": {
      "needs_background": "light"
     },
     "output_type": "display_data"
    }
   ],
   "source": [
    "plt.clf()\n",
    "p = plt.loglog( OracleCall_list, ErrorCramérRao_list)\n",
    "p0 = plt.loglog( OracleCall_list, error_list, 'o', markersize=3)\n",
    "p2 = plt.loglog( OracleCall_list, error_mit_mooney100_list, 'x', color='C2', markersize=4)\n",
    "p3 = plt.loglog( OracleCall_list, error_mit_S_lm_0_list, 'v', color='C3', markersize=2)\n",
    "p4 = plt.loglog( OracleCall_list, error_mit_mooney10_list, 'x', color='C5', markersize=4)\n",
    "\n",
    "plt.title(\"10qubit, p(0|1)=p(1|0)=0.01, b_max=π/100\")\n",
    "plt.xlim(OracleCall_list[0]*0.9, OracleCall_list[-1]*1.5)\n",
    "plt.xlabel(\"Number of oracle calls\")\n",
    "plt.ylim(0.00000001, 1)\n",
    "plt.ylabel(\"Estimation Error\")\n",
    "plt.grid(True, which=\"both\", ls=\"dotted\")\n",
    "plt.legend((p[0], p0[0], p4[0], p2[0], p3[0]), (\"Heisenberg limit\", \"noisy output\", \"Mooney et al. (t=1/10)\", \"Mooney et al. (t=1/100)\", \"proposed method\"))\n",
    "plt.show()"
   ]
  },
  {
   "cell_type": "markdown",
   "metadata": {},
   "source": [
    "## Simulator"
   ]
  },
  {
   "cell_type": "code",
   "execution_count": 8,
   "metadata": {},
   "outputs": [],
   "source": [
    "noise_model = NoiseModel()\n",
    "for qi in range(nbit+1):\n",
    "    if qi >= 0:\n",
    "        read_err = ReadoutError([[0.990, 0.010],[0.010,0.990]])\n",
    "        noise_model.add_readout_error(read_err, [qi])"
   ]
  },
  {
   "cell_type": "code",
   "execution_count": 10,
   "metadata": {
    "scrolled": true
   },
   "outputs": [
    {
     "name": "stdout",
     "output_type": "stream",
     "text": [
      "0 th round with 0 oracles\n",
      "0.6308660507202148 s\n",
      "1 th round with 1 oracles\n",
      "0.02333211898803711 s\n",
      "2 th round with 2 oracles\n",
      "0.03971505165100098 s\n",
      "3 th round with 3 oracles\n",
      "0.052040815353393555 s\n",
      "4 th round with 4 oracles\n",
      "0.0699319839477539 s\n",
      "5 th round with 5 oracles\n",
      "0.0882267951965332 s\n",
      "6 th round with 6 oracles\n",
      "0.0951850414276123 s\n",
      "7 th round with 7 oracles\n",
      "0.10271191596984863 s\n",
      "8 th round with 8 oracles\n",
      "0.12267804145812988 s\n",
      "9 th round with 9 oracles\n",
      "0.12902116775512695 s\n",
      "10 th round with 10 oracles\n",
      "0.14684200286865234 s\n",
      "11 th round with 11 oracles\n",
      "0.16660094261169434 s\n",
      "12 th round with 12 oracles\n",
      "0.27850890159606934 s\n",
      "13 th round with 13 oracles\n",
      "0.19129204750061035 s\n",
      "14 th round with 14 oracles\n",
      "0.2644641399383545 s\n",
      "15 th round with 15 oracles\n",
      "0.39434289932250977 s\n",
      "16 th round with 16 oracles\n",
      "0.29990315437316895 s\n",
      "17 th round with 17 oracles\n",
      "0.2710740566253662 s\n",
      "18 th round with 18 oracles\n",
      "0.2891678810119629 s\n",
      "19 th round with 19 oracles\n",
      "0.306643009185791 s\n"
     ]
    }
   ],
   "source": [
    "counts_list = run_grover(qc_list, number_grover_list, shots_list, backend, noise_model=noise_model)  # list of number of grover operators"
   ]
  },
  {
   "cell_type": "code",
   "execution_count": 11,
   "metadata": {
    "scrolled": false
   },
   "outputs": [
    {
     "name": "stdout",
     "output_type": "stream",
     "text": [
      "[100, 97, 93, 93, 96, 94, 92, 90, 84, 88, 73, 83, 81, 78, 69, 62, 67, 68, 61, 61]\n"
     ]
    }
   ],
   "source": [
    "hit_list = make_hit_list(counts_list)\n",
    "print(hit_list)"
   ]
  }
 ],
 "metadata": {
  "kernelspec": {
   "display_name": "Python 3",
   "language": "python",
   "name": "python3"
  },
  "language_info": {
   "codemirror_mode": {
    "name": "ipython",
    "version": 3
   },
   "file_extension": ".py",
   "mimetype": "text/x-python",
   "name": "python",
   "nbconvert_exporter": "python",
   "pygments_lexer": "ipython3",
   "version": "3.6.13"
  }
 },
 "nbformat": 4,
 "nbformat_minor": 2
}
