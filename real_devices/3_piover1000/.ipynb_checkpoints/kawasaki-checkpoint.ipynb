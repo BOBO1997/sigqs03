{
 "cells": [
  {
   "cell_type": "code",
   "execution_count": 1,
   "metadata": {},
   "outputs": [],
   "source": [
    "import sys\n",
    "sys.path.append('../../libmitigation')"
   ]
  },
  {
   "cell_type": "code",
   "execution_count": 2,
   "metadata": {},
   "outputs": [
    {
     "name": "stderr",
     "output_type": "stream",
     "text": [
      "/Users/yangbo/.pyenv/versions/anaconda3-5.1.0/lib/python3.6/site-packages/qiskit/__init__.py:67: DeprecationWarning: Using Qiskit with Python 3.6 is deprecated as of the 0.17.0 release. Support for running Qiskit with Python 3.6 will be removed in a future release.\n",
      "  \"future release.\", DeprecationWarning)\n"
     ]
    }
   ],
   "source": [
    "#Preparing qiskit environment\n",
    "from qiskit import ClassicalRegister, QuantumRegister, QuantumCircuit\n",
    "from qiskit import execute\n",
    "from qiskit import IBMQ\n",
    "from qiskit import Aer\n",
    "from scipy import optimize\n",
    "import sys, time\n",
    "import mpmath as mp\n",
    "import numpy as np\n",
    "import matplotlib.pyplot as plt"
   ]
  },
  {
   "cell_type": "code",
   "execution_count": 3,
   "metadata": {},
   "outputs": [],
   "source": [
    "from qiskit.providers.aer.noise import NoiseModel\n",
    "from qiskit.providers.aer.noise import QuantumError, ReadoutError\n",
    "from qiskit.providers.aer.noise import depolarizing_error\n",
    "import qiskit.ignis.mitigation as mit\n",
    "from qiskit.ignis.mitigation.measurement import tensored_meas_cal, TensoredMeasFitter\n",
    "from qiskit.result import Result\n",
    "import importlib\n",
    "from inv_sgs import InvSGS\n",
    "from inv_s_sgs import InvSSGS\n",
    "from inv_lm_sgs import InvLMSGS\n",
    "from inv_s_lm_sgs import InvSLMSGS\n",
    "from inv_s_lm0_sgs import InvSLM0SGS\n",
    "from inv_s_lmk_sgs import InvSLMkSGS\n",
    "from mooney_etal import MooneyEtal\n",
    "from sgs_algorithm import sgs_algorithm\n",
    "from lib_grover import *\n",
    "from qiskit.compiler import transpile"
   ]
  },
  {
   "cell_type": "code",
   "execution_count": 4,
   "metadata": {},
   "outputs": [],
   "source": [
    "# import lib_grover\n",
    "# importlib.reload(lib_grover)\n",
    "# from lib_grover import *"
   ]
  },
  {
   "cell_type": "markdown",
   "metadata": {},
   "source": [
    "### Approximating the integral\n",
    "\n",
    "It is easy to see that as we use large $n$ (i.e., more qubits) and thus larger $b_{\\mbox{max}}$, we can approximate the integral better as illustrated below. "
   ]
  },
  {
   "cell_type": "code",
   "execution_count": 5,
   "metadata": {},
   "outputs": [
    {
     "name": "stdout",
     "output_type": "stream",
     "text": [
      "Analytical Result: 3.289861639787202e-06\n",
      "Discretized Result: 3.277010676691031e-06\n"
     ]
    }
   ],
   "source": [
    "import math\n",
    "\n",
    "b_max = math.pi / 1000  # upper limit of integral # 5\n",
    "nbit = 3  # change this value to get discretized result closer to analytical results # 3\n",
    "\n",
    "analyticResult = (b_max / 2.0 - math.sin(2 * b_max) / 4.0 ) / b_max  # the target integral can be analytically solved\n",
    "print(\"Analytical Result:\", analyticResult)\n",
    "\n",
    "ndiv = 2 ** nbit  #number of discretization \n",
    "discretizedResult = 0.0\n",
    "for i in range(ndiv):\n",
    "    discretizedResult += math.sin(b_max / ndiv * (i + 0.5))**2\n",
    "discretizedResult = discretizedResult / ndiv\n",
    "print(\"Discretized Result:\", discretizedResult)"
   ]
  },
  {
   "cell_type": "markdown",
   "metadata": {},
   "source": [
    "For example, quantum circuit with two Grover operators is shown below."
   ]
  },
  {
   "cell_type": "code",
   "execution_count": 6,
   "metadata": {
    "scrolled": true
   },
   "outputs": [
    {
     "name": "stderr",
     "output_type": "stream",
     "text": [
      "/Users/yangbo/.pyenv/versions/anaconda3-5.1.0/lib/python3.6/site-packages/qiskit/visualization/matplotlib.py:291: DeprecationWarning: style option/s (usepiformat, cregbundle, compress) is/are not supported\n",
      "  set_style(current_style, style)\n"
     ]
    },
    {
     "data": {
      "image/png": "[encoded data removed]",
      "text/plain": [
       "<Figure size 1604.58x325.08 with 1 Axes>"
      ]
     },
     "execution_count": 6,
     "metadata": {},
     "output_type": "execute_result"
    }
   ],
   "source": [
    "qc_list = create_grover_circuit([1], nbit, b_max, barrier=False)\n",
    "my_style = {'usepiformat': True, 'cregbundle': True,'compress': True }\n",
    "qc_list[0].draw(output=\"mpl\", style=my_style, plot_barriers=False )"
   ]
  },
  {
   "cell_type": "markdown",
   "metadata": {},
   "source": [
    "## Testing the algorithm with simulators\n",
    "\n",
    "Let us run the algorithm with simulators"
   ]
  },
  {
   "cell_type": "code",
   "execution_count": 7,
   "metadata": {},
   "outputs": [],
   "source": [
    "#setting the number of shots and Grover operators.\n",
    "\n",
    "# number_grover_list = [0, 1, 2, 4, 8, 16, 32] # , 64, 128, 256]  # list of number of Grover operators\n",
    "number_grover_list = [i for i in range(20)]\n",
    "shots = 100\n",
    "shots_list = [shots] * len(number_grover_list) # list of number of shots\n",
    "if len(shots_list) != len(number_grover_list):\n",
    "    raise Exception(\n",
    "        'The length of shots_list should be equal to the length of number_grover_list.'\n",
    "    )\n",
    "\n",
    "backend = Aer.get_backend('qasm_simulator')"
   ]
  },
  {
   "cell_type": "code",
   "execution_count": 8,
   "metadata": {},
   "outputs": [],
   "source": [
    "qc_list = create_grover_circuit(number_grover_list, nbit, b_max, barrier=False)  # list of Grover circuits"
   ]
  },
  {
   "cell_type": "markdown",
   "metadata": {},
   "source": [
    "## real device"
   ]
  },
  {
   "cell_type": "code",
   "execution_count": 9,
   "metadata": {},
   "outputs": [
    {
     "name": "stdout",
     "output_type": "stream",
     "text": [
      "<AccountProvider for IBMQ(hub='ibm-q-utokyo', group='internal', project='hirashi-jst')>\n"
     ]
    }
   ],
   "source": [
    "IBMQ.load_account()\n",
    "provider = IBMQ.get_provider(hub='ibm-q-utokyo', group='internal', project='hirashi-jst')\n",
    "print(provider)"
   ]
  },
  {
   "cell_type": "code",
   "execution_count": 10,
   "metadata": {},
   "outputs": [
    {
     "name": "stderr",
     "output_type": "stream",
     "text": [
      "/Users/yangbo/.pyenv/versions/anaconda3-5.1.0/lib/python3.6/site-packages/ipykernel_launcher.py:1: DeprecationWarning: The `backends` provider attribute is deprecated. Please use `provider.backend` (singular) instead. You can continue to use `provider.backends()` to retrieve all backends.\n",
      "  \"\"\"Entry point for launching an IPython kernel.\n"
     ]
    }
   ],
   "source": [
    "device = provider.backends.ibmq_montreal"
   ]
  },
  {
   "cell_type": "code",
   "execution_count": 11,
   "metadata": {},
   "outputs": [],
   "source": [
    "initial_layout = [10,13,15,12]"
   ]
  },
  {
   "cell_type": "code",
   "execution_count": 12,
   "metadata": {},
   "outputs": [],
   "source": [
    "optim1_qc_list = [transpile(qc,\n",
    "                           basis_gates=['u1','u2','u3','cx'], \n",
    "                           coupling_map=[[0,3],[1,3],[2,3]], \n",
    "                           optimization_level=1) for qc in qc_list]"
   ]
  },
  {
   "cell_type": "code",
   "execution_count": 13,
   "metadata": {},
   "outputs": [],
   "source": [
    "optim2_qc_list = [transpile(qc,\n",
    "                           basis_gates=['u1','u2','u3','cx'], \n",
    "                           coupling_map=[[0,3],[1,3],[2,3]], \n",
    "                           optimization_level=2) for qc in qc_list]"
   ]
  },
  {
   "cell_type": "code",
   "execution_count": 14,
   "metadata": {},
   "outputs": [],
   "source": [
    "optim3_qc_list = [transpile(qc,\n",
    "                           basis_gates=['u1','u2','u3','cx'], \n",
    "                           coupling_map=[[0,3],[1,3],[2,3]], \n",
    "                           optimization_level=3) for qc in qc_list]"
   ]
  },
  {
   "cell_type": "code",
   "execution_count": 15,
   "metadata": {},
   "outputs": [
    {
     "name": "stdout",
     "output_type": "stream",
     "text": [
      "88 OrderedDict([('cx', 44), ('u2', 41), ('u3', 23), ('u1', 6), ('measure', 4), ('barrier', 1)])\n",
      "93 OrderedDict([('u2', 47), ('cx', 47), ('u3', 23), ('u1', 5), ('measure', 4), ('barrier', 1)])\n",
      "104 OrderedDict([('u2', 60), ('cx', 51), ('u3', 20), ('u1', 18), ('measure', 4), ('barrier', 1)])\n"
     ]
    }
   ],
   "source": [
    "print(optim1_qc_list[1].depth(), optim1_qc_list[1].count_ops())\n",
    "print(optim2_qc_list[1].depth(), optim2_qc_list[1].count_ops())\n",
    "print(optim3_qc_list[1].depth(), optim3_qc_list[1].count_ops())"
   ]
  },
  {
   "cell_type": "code",
   "execution_count": 16,
   "metadata": {},
   "outputs": [],
   "source": [
    "qr = QuantumRegister(nbit+1)\n",
    "mit_pattern = [[i] for i in range(nbit+1)]\n",
    "meas_calibs, state_labels = tensored_meas_cal(mit_pattern=mit_pattern, qr=qr, circlabel='mcal')"
   ]
  },
  {
   "cell_type": "code",
   "execution_count": 17,
   "metadata": {},
   "outputs": [
    {
     "name": "stdout",
     "output_type": "stream",
     "text": [
      "60ffe5adbd06b8454e22dafc\n"
     ]
    }
   ],
   "source": [
    "job = execute(optim3_qc_list + meas_calibs, backend=provider.get_backend(\"ibmq_montreal\"), shots=shots, initial_layout=initial_layout)\n",
    "print(job.job_id())"
   ]
  },
  {
   "cell_type": "code",
   "execution_count": 17,
   "metadata": {
    "scrolled": true
   },
   "outputs": [
    {
     "name": "stdout",
     "output_type": "stream",
     "text": [
      "[79, 29, 12, 9, 9, 9, 2, 3, 7, 5, 1, 2, 4, 2, 3, 5, 1, 5, 3, 2]\n"
     ]
    }
   ],
   "source": [
    "counts_list_real = job.result().get_counts()[:-2]\n",
    "hit_list_real = make_hit_list(counts_list_real)\n",
    "print(hit_list_real)"
   ]
  },
  {
   "cell_type": "code",
   "execution_count": 31,
   "metadata": {},
   "outputs": [],
   "source": [
    "cal_results = Result(backend_name=job.result().backend_name,\n",
    "                     backend_version=job.result().backend_version,\n",
    "                     qobj_id=job.result().qobj_id,\n",
    "                     job_id=job.result().job_id,\n",
    "                     success=job.result().success,\n",
    "                     results=job.result().results[-2:])\n",
    "meas_fitter = TensoredMeasFitter(cal_results, mit_pattern=mit_pattern)"
   ]
  },
  {
   "cell_type": "markdown",
   "metadata": {},
   "source": [
    "## Mitigation"
   ]
  },
  {
   "cell_type": "code",
   "execution_count": 33,
   "metadata": {},
   "outputs": [
    {
     "name": "stdout",
     "output_type": "stream",
     "text": [
      "Restriction to labels of y + Lagrange Multiplier + SGS algorithm\n",
      "sum of mitigated probability vector x_s: 1.0037917792288023\n",
      "sum of mitigated probability vector x_hat_s: 0.9750753200819477\n",
      "0.0005121231079101562 s\n",
      "number of positive values:  2\n",
      "main process: Done!\n",
      "Restriction to labels of y + Lagrange Multiplier + SGS algorithm\n",
      "sum of mitigated probability vector x_s: 1.005574051293459\n",
      "sum of mitigated probability vector x_hat_s: 0.9864028625345833\n",
      "0.002177000045776367 s\n",
      "number of positive values:  14\n",
      "main process: Done!\n",
      "Restriction to labels of y + Lagrange Multiplier + SGS algorithm\n",
      "sum of mitigated probability vector x_s: 0.9999999999999993\n",
      "sum of mitigated probability vector x_hat_s: 0.9946480374846318\n",
      "0.0022590160369873047 s\n",
      "number of positive values:  15\n",
      "accumulator is positive, we might even ignoring the necessal positive values.\n",
      "main process: Done!\n",
      "Restriction to labels of y + Lagrange Multiplier + SGS algorithm\n",
      "sum of mitigated probability vector x_s: 0.9999999999999993\n",
      "sum of mitigated probability vector x_hat_s: 0.9969874867763407\n",
      "0.002351999282836914 s\n",
      "number of positive values:  16\n",
      "accumulator is positive, we might even ignoring the necessal positive values.\n",
      "main process: Done!\n",
      "Restriction to labels of y + Lagrange Multiplier + SGS algorithm\n",
      "sum of mitigated probability vector x_s: 0.9999999999999993\n",
      "sum of mitigated probability vector x_hat_s: 0.9971662049972478\n",
      "0.0031120777130126953 s\n",
      "number of positive values:  16\n",
      "accumulator is positive, we might even ignoring the necessal positive values.\n",
      "main process: Done!\n",
      "Restriction to labels of y + Lagrange Multiplier + SGS algorithm\n",
      "sum of mitigated probability vector x_s: 0.9999999999999996\n",
      "sum of mitigated probability vector x_hat_s: 1.0044393883873677\n",
      "0.002534151077270508 s\n",
      "number of positive values:  16\n",
      "main process: Done!\n",
      "Restriction to labels of y + Lagrange Multiplier + SGS algorithm\n",
      "sum of mitigated probability vector x_s: 0.9999999999999996\n",
      "sum of mitigated probability vector x_hat_s: 1.0027248046680324\n",
      "0.0023980140686035156 s\n",
      "number of positive values:  16\n",
      "main process: Done!\n",
      "Restriction to labels of y + Lagrange Multiplier + SGS algorithm\n",
      "sum of mitigated probability vector x_s: 0.9999999999999996\n",
      "sum of mitigated probability vector x_hat_s: 1.0003752619638477\n",
      "0.0026140213012695312 s\n",
      "number of positive values:  16\n",
      "main process: Done!\n",
      "Restriction to labels of y + Lagrange Multiplier + SGS algorithm\n",
      "sum of mitigated probability vector x_s: 0.9999999999999997\n",
      "sum of mitigated probability vector x_hat_s: 1.008372207848584\n",
      "0.002543210983276367 s\n",
      "number of positive values:  16\n",
      "main process: Done!\n",
      "Restriction to labels of y + Lagrange Multiplier + SGS algorithm\n",
      "sum of mitigated probability vector x_s: 0.9999999999999994\n",
      "sum of mitigated probability vector x_hat_s: 1.0065203907596194\n",
      "0.0025811195373535156 s\n",
      "number of positive values:  15\n",
      "main process: Done!\n",
      "Restriction to labels of y + Lagrange Multiplier + SGS algorithm\n",
      "sum of mitigated probability vector x_s: 0.9999999999999997\n",
      "sum of mitigated probability vector x_hat_s: 1.0062979652846875\n",
      "0.0024328231811523438 s\n",
      "number of positive values:  15\n",
      "main process: Done!\n",
      "Restriction to labels of y + Lagrange Multiplier + SGS algorithm\n",
      "sum of mitigated probability vector x_s: 0.9999999999999994\n",
      "sum of mitigated probability vector x_hat_s: 1.0165012014965398\n",
      "0.0025091171264648438 s\n",
      "number of positive values:  16\n",
      "main process: Done!\n",
      "Restriction to labels of y + Lagrange Multiplier + SGS algorithm\n",
      "sum of mitigated probability vector x_s: 0.9999999999999996\n",
      "sum of mitigated probability vector x_hat_s: 1.0051479644632129\n",
      "0.0024709701538085938 s\n",
      "number of positive values:  16\n",
      "main process: Done!\n",
      "Restriction to labels of y + Lagrange Multiplier + SGS algorithm\n",
      "sum of mitigated probability vector x_s: 0.9999999999999994\n",
      "sum of mitigated probability vector x_hat_s: 1.001642309329999\n",
      "0.0025839805603027344 s\n",
      "number of positive values:  15\n",
      "main process: Done!\n",
      "Restriction to labels of y + Lagrange Multiplier + SGS algorithm\n",
      "sum of mitigated probability vector x_s: 0.9999999999999997\n",
      "sum of mitigated probability vector x_hat_s: 1.0081401519617479\n",
      "0.0025980472564697266 s\n",
      "number of positive values:  16\n",
      "main process: Done!\n",
      "Restriction to labels of y + Lagrange Multiplier + SGS algorithm\n",
      "sum of mitigated probability vector x_s: 1.0122992068308065\n",
      "sum of mitigated probability vector x_hat_s: 1.013903261949477\n",
      "0.002213001251220703 s\n",
      "number of positive values:  15\n",
      "main process: Done!\n",
      "Restriction to labels of y + Lagrange Multiplier + SGS algorithm\n",
      "sum of mitigated probability vector x_s: 0.9999999999999997\n",
      "sum of mitigated probability vector x_hat_s: 1.0125427318036182\n",
      "0.003113985061645508 s\n",
      "number of positive values:  16\n",
      "main process: Done!\n",
      "Restriction to labels of y + Lagrange Multiplier + SGS algorithm\n",
      "sum of mitigated probability vector x_s: 0.9999999999999996\n",
      "sum of mitigated probability vector x_hat_s: 1.005843020922347\n",
      "0.002871990203857422 s\n",
      "number of positive values:  15\n",
      "main process: Done!\n",
      "Restriction to labels of y + Lagrange Multiplier + SGS algorithm\n",
      "sum of mitigated probability vector x_s: 0.9999999999999996\n",
      "sum of mitigated probability vector x_hat_s: 1.0070157087718643\n",
      "0.002777099609375 s\n",
      "number of positive values:  16\n",
      "main process: Done!\n",
      "Restriction to labels of y + Lagrange Multiplier + SGS algorithm\n",
      "sum of mitigated probability vector x_s: 0.9999999999999996\n",
      "sum of mitigated probability vector x_hat_s: 1.0053265900840058\n",
      "0.003312826156616211 s\n",
      "number of positive values:  16\n",
      "main process: Done!\n",
      "[98.0619919708227, 34.42178410482031, 14.098891279923953, 8.997644981542999, 10.918549968073735, 10.406473517560624, 1.7760102126245898, 2.7310239474388482, 8.447116098210957, 5.501035428570536, 0, 1.973091713873853, 4.475573358328959, 1.5427271449418551, 3.217835882339522, 5.314781191441674, 0.5587080572759364, 5.410334643188673, 2.850863857070874, 1.1728723265951762]\n"
     ]
    }
   ],
   "source": [
    "meas_filter = InvSLM0SGS(nbit+1, meas_fitter.cal_matrices, mit_pattern)\n",
    "x_tilde_S_lm_0_list = []\n",
    "for counts in counts_list_real:\n",
    "    x_tilde = meas_filter.apply(counts)\n",
    "    x_tilde_S_lm_0_list.append(x_tilde)\n",
    "mit_hit_S_lm_0_list = make_hit_list(x_tilde_S_lm_0_list)\n",
    "print(mit_hit_S_lm_0_list)"
   ]
  },
  {
   "cell_type": "code",
   "execution_count": 13,
   "metadata": {},
   "outputs": [
    {
     "name": "stdout",
     "output_type": "stream",
     "text": [
      "The heuristcs by Mooney et al. + SGS algorithm\n",
      "{4: 0.010700418209119742, 2: 0.02147147577988405, 0: 0.988680762190279}\n",
      "sum of counts: 1.0208526561792828\n",
      "0.0006310939788818359 s\n",
      "number of positive values:  3\n",
      "main process: Done!\n",
      "The heuristcs by Mooney et al. + SGS algorithm\n",
      "{0: 1.0096785899691347}\n",
      "sum of counts: 1.0096785899691347\n",
      "0.0003502368927001953 s\n",
      "number of positive values:  1\n",
      "main process: Done!\n",
      "The heuristcs by Mooney et al. + SGS algorithm\n",
      "{8: 0.04313096480138351, 0: 0.9780539649614723}\n",
      "sum of counts: 1.021184929762856\n",
      "0.0003502368927001953 s\n",
      "number of positive values:  2\n",
      "main process: Done!\n",
      "The heuristcs by Mooney et al. + SGS algorithm\n",
      "{4: 0.010807114786592074, 2: 0.011167911291281609, 0: 0.9781305965211997}\n",
      "sum of counts: 1.0001056225990734\n",
      "0.0002300739288330078 s\n",
      "number of positive values:  3\n",
      "main process: Done!\n",
      "The heuristcs by Mooney et al. + SGS algorithm\n",
      "{4: 0.01123317128022454, 2: 0.02198465636735739, 8: 0.032976838632775396, 0: 0.9361259541996102}\n",
      "sum of counts: 1.0023206204799675\n",
      "0.0006041526794433594 s\n",
      "number of positive values:  4\n",
      "main process: Done!\n",
      "The heuristcs by Mooney et al. + SGS algorithm\n",
      "{4: 0.01080397553353755, 8: 0.022148849939994213, 0: 0.9781916712120643}\n",
      "sum of counts: 1.011144496685596\n",
      "0.0005381107330322266 s\n",
      "number of positive values:  3\n",
      "main process: Done!\n",
      "The heuristcs by Mooney et al. + SGS algorithm\n",
      "{12: 0.010330041519505, 0: 1.0097863707155457}\n",
      "sum of counts: 1.0201164122350506\n",
      "0.0004417896270751953 s\n",
      "number of positive values:  2\n",
      "main process: Done!\n",
      "The heuristcs by Mooney et al. + SGS algorithm\n",
      "{8: 0.06438989125744188, 0: 0.9255303407751737}\n",
      "sum of counts: 0.9899202320326156\n",
      "0.000986337661743164 s\n",
      "number of positive values:  2\n",
      "accumulator is positive, we might even ignoring the necessal positive values.\n",
      "main process: Done!\n",
      "The heuristcs by Mooney et al. + SGS algorithm\n",
      "{8: 0.11677712071564982, 0: 0.9044013902479788}\n",
      "sum of counts: 1.0211785109636287\n",
      "0.0011410713195800781 s\n",
      "number of positive values:  2\n",
      "main process: Done!\n",
      "The heuristcs by Mooney et al. + SGS algorithm\n",
      "{4: 0.02159822912903757, 8: 0.06437429158098087, 0: 0.9047092448537225, 12: 0.030359385603766487}\n",
      "sum of counts: 1.0210411511675075\n",
      "0.0009891986846923828 s\n",
      "number of positive values:  4\n",
      "main process: Done!\n",
      "The heuristcs by Mooney et al. + SGS algorithm\n",
      "{4: 0.011927437822022277, 12: 0.04003017691078177, 0: 0.8205272472400573, 8: 0.1485562891946463}\n",
      "sum of counts: 1.0210411511675077\n",
      "0.0004429817199707031 s\n",
      "number of positive values:  4\n",
      "main process: Done!\n",
      "The heuristcs by Mooney et al. + SGS algorithm\n",
      "{1: 0.011438903566070446, 4: 0.022153946530791408, 12: 0.019598066652718713, 8: 0.09618477945028674, 0: 0.8624643360528612}\n",
      "sum of counts: 1.0118400322527286\n",
      "0.0008358955383300781 s\n",
      "number of positive values:  5\n",
      "main process: Done!\n",
      "The heuristcs by Mooney et al. + SGS algorithm\n",
      "{8: 0.14856285693798188, 12: 0.029709200993404544, 0: 0.8205193852830638}\n",
      "sum of counts: 0.9987914432144502\n",
      "0.0005240440368652344 s\n",
      "number of positive values:  3\n",
      "accumulator is positive, we might even ignoring the necessal positive values.\n",
      "main process: Done!\n",
      "The heuristcs by Mooney et al. + SGS algorithm\n",
      "{4: 0.012297679659166418, 2: 0.012603715228344897, 8: 0.1487743952069001, 0: 0.830740973732043}\n",
      "sum of counts: 1.0044167638264545\n",
      "0.0005347728729248047 s\n",
      "number of positive values:  4\n",
      "main process: Done!\n",
      "The heuristcs by Mooney et al. + SGS algorithm\n",
      "{9: 0.018156000455571863, 8: 0.24346116843043222, 12: 0.01831218257858723, 2: 0.01373381422864831, 0: 0.7151930716582852}\n",
      "sum of counts: 1.0088562373515249\n",
      "0.0005881786346435547 s\n",
      "number of positive values:  5\n",
      "main process: Done!\n",
      "The heuristcs by Mooney et al. + SGS algorithm\n",
      "{9: 0.018722731457306515, 12: 0.07091962991364509, 8: 0.19054675174781732, 0: 0.7265369286053683}\n",
      "sum of counts: 1.0067260417241373\n",
      "0.0005590915679931641 s\n",
      "number of positive values:  4\n",
      "main process: Done!\n",
      "The heuristcs by Mooney et al. + SGS algorithm\n",
      "{10: 0.01858232992386237, 12: 0.03950610789906152, 8: 0.2117689831371518, 2: 0.013306184402470462, 0: 0.7365022386828909}\n",
      "sum of counts: 1.019665844045437\n",
      "0.0007700920104980469 s\n",
      "number of positive values:  5\n",
      "main process: Done!\n",
      "The heuristcs by Mooney et al. + SGS algorithm\n",
      "{8: 0.33821552346811395, 12: 0.01735044695752664, 10: 0.0174728177737863, 0: 0.6308795563513863}\n",
      "sum of counts: 1.003918344550813\n",
      "0.0005629062652587891 s\n",
      "number of positive values:  4\n",
      "main process: Done!\n",
      "The heuristcs by Mooney et al. + SGS algorithm\n",
      "{12: 0.08029013830921519, 8: 0.30656365191757623, 0: 0.6208426106803291}\n",
      "sum of counts: 1.0076964009071205\n",
      "0.0004911422729492188 s\n",
      "number of positive values:  3\n",
      "main process: Done!\n",
      "The heuristcs by Mooney et al. + SGS algorithm\n",
      "{8: 0.3696620741551638, 12: 0.07965332409820958, 10: 0.027599512851356745, 0: 0.5265064601230683}\n",
      "sum of counts: 1.0034213712277984\n",
      "0.0007898807525634766 s\n",
      "number of positive values:  4\n",
      "main process: Done!\n",
      "[98.17298767971847, 100.0, 96.74615000800443, 97.80953889881752, 93.55457990796184, 97.44768389835323, 99.97281645980203, 93.05702247588658, 89.38121347661645, 89.94489570618455, 81.52669594481804, 86.00963296023156, 82.09222375449137, 82.96367827754294, 71.34218241879802, 72.48554181743341, 73.25690698738036, 62.989997021368296, 61.82771437112889, 52.56511173161187]\n"
     ]
    }
   ],
   "source": [
    "meas_filter = MooneyEtal(nbit+1, meas_fitter.cal_matrices, mit_pattern)\n",
    "x_tilde_mooney_list = []\n",
    "for counts in counts_list:\n",
    "    x_tilde = meas_filter.apply(counts, threshold=1/100)\n",
    "    x_tilde_mooney_list.append(x_tilde)\n",
    "mit_hit_mooney100_list = make_hit_list(x_tilde_mooney_list)\n",
    "print(mit_hit_mooney100_list)"
   ]
  },
  {
   "cell_type": "code",
   "execution_count": 14,
   "metadata": {},
   "outputs": [
    {
     "name": "stdout",
     "output_type": "stream",
     "text": [
      "The heuristcs by Mooney et al. + SGS algorithm\n",
      "{0: 0.9891812413842208}\n",
      "sum of counts: 0.9891812413842208\n",
      "0.0020020008087158203 s\n",
      "number of positive values:  1\n",
      "accumulator is positive, we might even ignoring the necessal positive values.\n",
      "main process: Done!\n",
      "The heuristcs by Mooney et al. + SGS algorithm\n",
      "{0: 1.0097825730986756}\n",
      "sum of counts: 1.0097825730986756\n",
      "0.00024890899658203125 s\n",
      "number of positive values:  1\n",
      "main process: Done!\n",
      "The heuristcs by Mooney et al. + SGS algorithm\n",
      "{0: 0.9787688072643869}\n",
      "sum of counts: 0.9787688072643869\n",
      "0.0011131763458251953 s\n",
      "number of positive values:  1\n",
      "accumulator is positive, we might even ignoring the necessal positive values.\n",
      "main process: Done!\n",
      "The heuristcs by Mooney et al. + SGS algorithm\n",
      "{0: 0.9786570390017804}\n",
      "sum of counts: 0.9786570390017804\n",
      "0.0003209114074707031 s\n",
      "number of positive values:  1\n",
      "accumulator is positive, we might even ignoring the necessal positive values.\n",
      "main process: Done!\n",
      "The heuristcs by Mooney et al. + SGS algorithm\n",
      "{0: 0.9371190707850513}\n",
      "sum of counts: 0.9371190707850513\n",
      "0.0007836818695068359 s\n",
      "number of positive values:  1\n",
      "accumulator is positive, we might even ignoring the necessal positive values.\n",
      "main process: Done!\n",
      "The heuristcs by Mooney et al. + SGS algorithm\n",
      "{0: 0.9787688072643869}\n",
      "sum of counts: 0.9787688072643869\n",
      "0.00026798248291015625 s\n",
      "number of positive values:  1\n",
      "accumulator is positive, we might even ignoring the necessal positive values.\n",
      "main process: Done!\n",
      "The heuristcs by Mooney et al. + SGS algorithm\n",
      "{0: 1.0100061096238886}\n",
      "sum of counts: 1.0100061096238886\n",
      "0.00026106834411621094 s\n",
      "number of positive values:  1\n",
      "main process: Done!\n",
      "The heuristcs by Mooney et al. + SGS algorithm\n",
      "{0: 0.9265948684026108}\n",
      "sum of counts: 0.9265948684026108\n",
      "0.0011687278747558594 s\n",
      "number of positive values:  1\n",
      "accumulator is positive, we might even ignoring the necessal positive values.\n",
      "main process: Done!\n",
      "The heuristcs by Mooney et al. + SGS algorithm\n",
      "{8: 0.11688137356427676, 0: 0.9044001572464427}\n",
      "sum of counts: 1.0212815308107195\n",
      "0.0028679370880126953 s\n",
      "number of positive values:  2\n",
      "main process: Done!\n",
      "The heuristcs by Mooney et al. + SGS algorithm\n",
      "{0: 0.9058817684255496}\n",
      "sum of counts: 0.9058817684255496\n",
      "0.0008270740509033203 s\n",
      "number of positive values:  1\n",
      "accumulator is positive, we might even ignoring the necessal positive values.\n",
      "main process: Done!\n",
      "The heuristcs by Mooney et al. + SGS algorithm\n",
      "{0: 0.8207302814929949, 8: 0.148971374024254}\n",
      "sum of counts: 0.9697016555172489\n",
      "0.00038909912109375 s\n",
      "number of positive values:  2\n",
      "accumulator is positive, we might even ignoring the necessal positive values.\n",
      "main process: Done!\n",
      "The heuristcs by Mooney et al. + SGS algorithm\n",
      "{0: 0.8627738194384119}\n",
      "sum of counts: 0.8627738194384119\n",
      "0.00038313865661621094 s\n",
      "number of positive values:  1\n",
      "accumulator is positive, we might even ignoring the necessal positive values.\n",
      "main process: Done!\n",
      "The heuristcs by Mooney et al. + SGS algorithm\n",
      "{8: 0.1489724094268844, 0: 0.8206185132303884}\n",
      "sum of counts: 0.9695909226572728\n",
      "0.0004410743713378906 s\n",
      "number of positive values:  2\n",
      "accumulator is positive, we might even ignoring the necessal positive values.\n",
      "main process: Done!\n",
      "The heuristcs by Mooney et al. + SGS algorithm\n",
      "{8: 0.14887491496311425, 0: 0.8311427156128287}\n",
      "sum of counts: 0.9800176305759429\n",
      "0.0006399154663085938 s\n",
      "number of positive values:  2\n",
      "accumulator is positive, we might even ignoring the necessal positive values.\n",
      "main process: Done!\n",
      "The heuristcs by Mooney et al. + SGS algorithm\n",
      "{8: 0.2436678676001734, 0: 0.7153856142784529}\n",
      "sum of counts: 0.9590534818786263\n",
      "0.0004038810729980469 s\n",
      "number of positive values:  2\n",
      "accumulator is positive, we might even ignoring the necessal positive values.\n",
      "main process: Done!\n",
      "The heuristcs by Mooney et al. + SGS algorithm\n",
      "{8: 0.1913731598516381, 0: 0.7265271546521878}\n",
      "sum of counts: 0.9179003145038258\n",
      "0.004407644271850586 s\n",
      "number of positive values:  2\n",
      "accumulator is positive, we might even ignoring the necessal positive values.\n",
      "main process: Done!\n",
      "The heuristcs by Mooney et al. + SGS algorithm\n",
      "{8: 0.21237970245509033, 0: 0.73669000294477}\n",
      "sum of counts: 0.9490697053998604\n",
      "0.0008120536804199219 s\n",
      "number of positive values:  2\n",
      "accumulator is positive, we might even ignoring the necessal positive values.\n",
      "main process: Done!\n",
      "The heuristcs by Mooney et al. + SGS algorithm\n",
      "{8: 0.3386186403525549, 0: 0.6309722823047178}\n",
      "sum of counts: 0.9695909226572728\n",
      "0.0004878044128417969 s\n",
      "number of positive values:  2\n",
      "accumulator is positive, we might even ignoring the necessal positive values.\n",
      "main process: Done!\n",
      "The heuristcs by Mooney et al. + SGS algorithm\n",
      "{8: 0.3073967714428355, 0: 0.6209302509796607}\n",
      "sum of counts: 0.9283270224224962\n",
      "0.0016241073608398438 s\n",
      "number of positive values:  2\n",
      "accumulator is positive, we might even ignoring the necessal positive values.\n",
      "main process: Done!\n",
      "The heuristcs by Mooney et al. + SGS algorithm\n",
      "{8: 0.37078846535683824, 0: 0.5265906318895753}\n",
      "sum of counts: 0.8973790972464135\n",
      "0.00048089027404785156 s\n",
      "number of positive values:  2\n",
      "accumulator is positive, we might even ignoring the necessal positive values.\n",
      "main process: Done!\n",
      "[100.0, 100.0, 100.0, 100.0, 100.0, 100.0, 100.0, 100.0, 89.3759391841083, 100.0, 83.58794537343705, 100.0, 83.5823051901752, 84.11339003248573, 73.58588733391397, 76.75769974002749, 76.21551502448398, 64.61768209760814, 65.67667397684126, 57.790108326636854]\n"
     ]
    }
   ],
   "source": [
    "meas_filter = MooneyEtal(nbit+1, meas_fitter.cal_matrices, mit_pattern)\n",
    "x_tilde_mooney_list = []\n",
    "for counts in counts_list:\n",
    "    x_tilde = meas_filter.apply(counts, threshold=1/10)\n",
    "    x_tilde_mooney_list.append(x_tilde)\n",
    "mit_hit_mooney10_list = make_hit_list(x_tilde_mooney_list)\n",
    "print(mit_hit_mooney10_list)"
   ]
  },
  {
   "cell_type": "code",
   "execution_count": 15,
   "metadata": {},
   "outputs": [
    {
     "data": {
      "text/plain": [
       "Text(0, 0.5, 'number of shots for $|00...0>$')"
      ]
     },
     "execution_count": 15,
     "metadata": {},
     "output_type": "execute_result"
    },
    {
     "data": {
      "image/png": "[encoded data removed]",
      "text/plain": [
       "<Figure size 432x288 with 1 Axes>"
      ]
     },
     "metadata": {
      "needs_background": "light"
     },
     "output_type": "display_data"
    }
   ],
   "source": [
    "divide = 20\n",
    "plt.plot(np.linspace(0,number_grover_list[-1], divide), shots * np.cos(2 * np.linspace(0,number_grover_list[-1], divide) * np.arccos(np.sqrt(discretizedResult))) ** 2, label=\"Heisenberg limit\")\n",
    "plt.plot(number_grover_list, hit_list, marker=\"o\", label=\"noisy output\")\n",
    "plt.plot(number_grover_list, mit_hit_mooney100_list, marker=\"*\", label=\"Mooney et al. (t=1/100)\", color=\"C2\")\n",
    "plt.plot(number_grover_list, mit_hit_mooney10_list, marker=\"*\", label=\"Mooney et al. (t=1/10)\", color=\"C5\")\n",
    "plt.plot(number_grover_list, mit_hit_S_lm_0_list, marker=\"v\", label=\"proposed method\", color=\"C3\")\n",
    "plt.legend(bbox_to_anchor=(1.05, 1), loc='upper left', borderaxespad=0, fontsize=18)\n",
    "plt.title(\"20qubit, p(0->1): 0.01, p(1->0): 0.01\")\n",
    "plt.xlabel(\"number of grover iterations $m$\")\n",
    "plt.ylabel(\"number of shots for $|00...0>$\")"
   ]
  },
  {
   "cell_type": "code",
   "execution_count": 16,
   "metadata": {},
   "outputs": [
    {
     "name": "stderr",
     "output_type": "stream",
     "text": [
      "../../libmitigation/lib_grover.py:224: RuntimeWarning: invalid value encountered in sqrt\n",
      "  theta = np.arcsin(np.sqrt(p))  # search theta\n"
     ]
    }
   ],
   "source": [
    "sin_hit_list = [shots - h for h in hit_list]\n",
    "sin_mit_hit_S_lm_0_list = [shots - h for h in mit_hit_S_lm_0_list]\n",
    "sin_mit_hit_mooney100_list = [shots - h for h in mit_hit_mooney100_list]\n",
    "sin_mit_hit_mooney10_list = [shots - h for h in mit_hit_mooney10_list]\n",
    "\n",
    "thetaCandidate_list = calculate_theta(\n",
    "    sin_hit_list, number_grover_list, shots_list)  # list of estimated theta values\n",
    "thetaCandidate_mit_S_lm_0_list = calculate_theta(\n",
    "    sin_mit_hit_S_lm_0_list, number_grover_list, shots_list)  # list of estimated theta values\n",
    "thetaCandidate_mit_mooney100_list = calculate_theta(\n",
    "    sin_mit_hit_mooney100_list, number_grover_list, shots_list)  # list of estimated theta values\n",
    "thetaCandidate_mit_mooney10_list = calculate_theta(\n",
    "    sin_mit_hit_mooney10_list, number_grover_list, shots_list)  # list of estimated theta values\n",
    "\n",
    "error_list = np.abs(np.sin(thetaCandidate_list)**2 - discretizedResult)  # list of estimation errors\n",
    "error_mit_S_lm_0_list = np.abs(np.sin(thetaCandidate_mit_S_lm_0_list)**2 - discretizedResult)  # list of estimation errors\n",
    "error_mit_mooney100_list = np.abs(np.sin(thetaCandidate_mit_mooney100_list)**2 - discretizedResult)  # list of estimation errors\n",
    "error_mit_mooney10_list = np.abs(np.sin(thetaCandidate_mit_mooney10_list)**2 - discretizedResult)  # list of estimation errors\n",
    "OracleCall_list = []  # list of number of oracle calls\n",
    "ErrorCramérRao_list = []  # list of Cramér-Rao lower bound\n",
    "for i in range(len(number_grover_list)):\n",
    "    OracleCall_list.append(\n",
    "        CalcNumberOracleCalls(i, shots_list, number_grover_list))\n",
    "    ErrorCramérRao_list.append(\n",
    "        CalcErrorCramérRao(i, shots_list, discretizedResult, number_grover_list))"
   ]
  },
  {
   "cell_type": "code",
   "execution_count": 17,
   "metadata": {},
   "outputs": [
    {
     "data": {
      "image/png": "[encoded data removed]",
      "text/plain": [
       "<Figure size 432x288 with 1 Axes>"
      ]
     },
     "metadata": {
      "needs_background": "light"
     },
     "output_type": "display_data"
    }
   ],
   "source": [
    "plt.clf()\n",
    "p = plt.loglog( OracleCall_list, ErrorCramérRao_list)\n",
    "p0 = plt.loglog( OracleCall_list, error_list, 'o', markersize=3)\n",
    "p2 = plt.loglog( OracleCall_list, error_mit_mooney100_list, 'x', color='C2', markersize=4)\n",
    "p3 = plt.loglog( OracleCall_list, error_mit_S_lm_0_list, 'v', color='C3', markersize=2)\n",
    "p4 = plt.loglog( OracleCall_list, error_mit_mooney10_list, 'x', color='C5', markersize=4)\n",
    "\n",
    "plt.title(\"10qubit, p(0|1)=p(1|0)=0.01, b_max=π/100\")\n",
    "plt.xlim(OracleCall_list[0]*0.9, OracleCall_list[-1]*1.5)\n",
    "plt.xlabel(\"Number of oracle calls\")\n",
    "plt.ylim(0.00000001, 1)\n",
    "plt.ylabel(\"Estimation Error\")\n",
    "plt.grid(True, which=\"both\", ls=\"dotted\")\n",
    "plt.legend((p[0], p0[0], p4[0], p2[0], p3[0]), (\"Heisenberg limit\", \"noisy output\", \"Mooney et al. (t=1/10)\", \"Mooney et al. (t=1/100)\", \"proposed method\"))\n",
    "plt.show()"
   ]
  },
  {
   "cell_type": "markdown",
   "metadata": {},
   "source": [
    "## Simulator"
   ]
  },
  {
   "cell_type": "code",
   "execution_count": 8,
   "metadata": {},
   "outputs": [],
   "source": [
    "noise_model = NoiseModel()\n",
    "for qi in range(nbit+1):\n",
    "    if qi >= 0:\n",
    "        read_err = ReadoutError([[0.990, 0.010],[0.010,0.990]])\n",
    "        noise_model.add_readout_error(read_err, [qi])"
   ]
  },
  {
   "cell_type": "code",
   "execution_count": 10,
   "metadata": {
    "scrolled": true
   },
   "outputs": [
    {
     "name": "stdout",
     "output_type": "stream",
     "text": [
      "0 th round with 0 oracles\n",
      "0.6308660507202148 s\n",
      "1 th round with 1 oracles\n",
      "0.02333211898803711 s\n",
      "2 th round with 2 oracles\n",
      "0.03971505165100098 s\n",
      "3 th round with 3 oracles\n",
      "0.052040815353393555 s\n",
      "4 th round with 4 oracles\n",
      "0.0699319839477539 s\n",
      "5 th round with 5 oracles\n",
      "0.0882267951965332 s\n",
      "6 th round with 6 oracles\n",
      "0.0951850414276123 s\n",
      "7 th round with 7 oracles\n",
      "0.10271191596984863 s\n",
      "8 th round with 8 oracles\n",
      "0.12267804145812988 s\n",
      "9 th round with 9 oracles\n",
      "0.12902116775512695 s\n",
      "10 th round with 10 oracles\n",
      "0.14684200286865234 s\n",
      "11 th round with 11 oracles\n",
      "0.16660094261169434 s\n",
      "12 th round with 12 oracles\n",
      "0.27850890159606934 s\n",
      "13 th round with 13 oracles\n",
      "0.19129204750061035 s\n",
      "14 th round with 14 oracles\n",
      "0.2644641399383545 s\n",
      "15 th round with 15 oracles\n",
      "0.39434289932250977 s\n",
      "16 th round with 16 oracles\n",
      "0.29990315437316895 s\n",
      "17 th round with 17 oracles\n",
      "0.2710740566253662 s\n",
      "18 th round with 18 oracles\n",
      "0.2891678810119629 s\n",
      "19 th round with 19 oracles\n",
      "0.306643009185791 s\n"
     ]
    }
   ],
   "source": [
    "counts_list = run_grover(qc_list, number_grover_list, shots_list, backend, noise_model=noise_model)  # list of number of grover operators"
   ]
  },
  {
   "cell_type": "code",
   "execution_count": 11,
   "metadata": {
    "scrolled": false
   },
   "outputs": [
    {
     "name": "stdout",
     "output_type": "stream",
     "text": [
      "[100, 97, 93, 93, 96, 94, 92, 90, 84, 88, 73, 83, 81, 78, 69, 62, 67, 68, 61, 61]\n"
     ]
    }
   ],
   "source": [
    "hit_list = make_hit_list(counts_list)\n",
    "print(hit_list)"
   ]
  }
 ],
 "metadata": {
  "kernelspec": {
   "display_name": "Python 3",
   "language": "python",
   "name": "python3"
  },
  "language_info": {
   "codemirror_mode": {
    "name": "ipython",
    "version": 3
   },
   "file_extension": ".py",
   "mimetype": "text/x-python",
   "name": "python",
   "nbconvert_exporter": "python",
   "pygments_lexer": "ipython3",
   "version": "3.6.13"
  }
 },
 "nbformat": 4,
 "nbformat_minor": 2
}
