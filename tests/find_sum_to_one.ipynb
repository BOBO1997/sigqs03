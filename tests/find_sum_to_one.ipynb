{
 "metadata": {
  "language_info": {
   "codemirror_mode": {
    "name": "ipython",
    "version": 3
   },
   "file_extension": ".py",
   "mimetype": "text/x-python",
   "name": "python",
   "nbconvert_exporter": "python",
   "pygments_lexer": "ipython3",
   "version": "3.6.13"
  },
  "orig_nbformat": 4,
  "kernelspec": {
   "name": "python3",
   "display_name": "Python 3.6.13 64-bit ('anaconda3-5.1.0': pyenv)"
  },
  "interpreter": {
   "hash": "aa391fd65487bb82282c7f61c43acd137d3ae737a2944950769740df15f1d9fd"
  }
 },
 "nbformat": 4,
 "nbformat_minor": 2,
 "cells": [
  {
   "cell_type": "code",
   "execution_count": 1,
   "metadata": {},
   "outputs": [],
   "source": [
    "import sys\n",
    "sys.path.append(\"../libmitigation\")"
   ]
  },
  {
   "cell_type": "code",
   "execution_count": 2,
   "metadata": {},
   "outputs": [],
   "source": [
    "from inv_sgs import InvSGS\n",
    "from inv_s_sgs import InvSSGS\n",
    "from inv_lm_sgs import InvLMSGS\n",
    "from inv_s_lm_sgs import InvSLMSGS\n",
    "from inv_s_lm0_sgs import InvSLM0SGS\n",
    "from sgs_algorithm import sgs_algorithm"
   ]
  },
  {
   "cell_type": "code",
   "execution_count": 3,
   "metadata": {},
   "outputs": [],
   "source": [
    "import sys, time\n",
    "import math\n",
    "import mpmath as mp\n",
    "import numpy as np\n",
    "import matplotlib.pyplot as plt"
   ]
  },
  {
   "cell_type": "code",
   "execution_count": 4,
   "metadata": {},
   "outputs": [
    {
     "output_type": "stream",
     "name": "stderr",
     "text": [
      "/Users/yangbo/.pyenv/versions/anaconda3-5.1.0/lib/python3.6/site-packages/qiskit/__init__.py:67: DeprecationWarning: Using Qiskit with Python 3.6 is deprecated as of the 0.17.0 release. Support for running Qiskit with Python 3.6 will be removed in a future release.\n  \"future release.\", DeprecationWarning)\n"
     ]
    }
   ],
   "source": [
    "#Preparing qiskit environment\n",
    "from qiskit import ClassicalRegister, QuantumRegister, QuantumCircuit\n",
    "from qiskit import execute\n",
    "from qiskit import IBMQ\n",
    "from qiskit import Aer\n",
    "from scipy import optimize\n"
   ]
  },
  {
   "cell_type": "code",
   "execution_count": 5,
   "metadata": {},
   "outputs": [],
   "source": [
    "# importing the noise models and mitigation models\n",
    "from qiskit.providers.aer.noise import NoiseModel\n",
    "from qiskit.providers.aer.noise import QuantumError, ReadoutError\n",
    "from qiskit.providers.aer.noise import depolarizing_error\n",
    "import qiskit.ignis.mitigation as mit\n",
    "from qiskit.ignis.mitigation.measurement import tensored_meas_cal, TensoredMeasFitter"
   ]
  },
  {
   "cell_type": "code",
   "execution_count": 6,
   "metadata": {},
   "outputs": [],
   "source": [
    "nbit = 10\n",
    "shots = 100"
   ]
  },
  {
   "cell_type": "code",
   "execution_count": 7,
   "metadata": {},
   "outputs": [],
   "source": [
    "noise_model = NoiseModel()\n",
    "for qi in range(nbit):\n",
    "    if qi >= 0:\n",
    "        read_err = ReadoutError([[0.90, 0.10],[0.10,0.90]])\n",
    "        noise_model.add_readout_error(read_err, [qi])"
   ]
  },
  {
   "cell_type": "code",
   "execution_count": 8,
   "metadata": {},
   "outputs": [],
   "source": [
    "cal_shots = 8192\n",
    "qr = QuantumRegister(nbit)\n",
    "mit_pattern = [[i] for i in range(nbit)]\n",
    "meas_calibs, state_labels = tensored_meas_cal(mit_pattern=mit_pattern, qr=qr, circlabel='mcal')\n",
    "job = execute(meas_calibs, backend=Aer.get_backend('qasm_simulator'), shots=cal_shots, noise_model=noise_model)\n",
    "cal_results = job.result()\n",
    "meas_fitter = TensoredMeasFitter(cal_results, mit_pattern=mit_pattern)"
   ]
  },
  {
   "cell_type": "code",
   "execution_count": 9,
   "metadata": {},
   "outputs": [],
   "source": [
    "qc = QuantumCircuit(nbit)\n",
    "qc.h(0)\n",
    "for i in range(1,nbit):\n",
    "    qc.cx(0,i)\n",
    "qc.measure_all()"
   ]
  },
  {
   "cell_type": "code",
   "execution_count": 10,
   "metadata": {},
   "outputs": [],
   "source": [
    "job = execute(qc, backend=Aer.get_backend(\"qasm_simulator\"), noise_model=noise_model, shots=shots)"
   ]
  },
  {
   "cell_type": "code",
   "execution_count": 11,
   "metadata": {},
   "outputs": [],
   "source": [
    "counts = job.result().get_counts()"
   ]
  },
  {
   "cell_type": "code",
   "execution_count": 12,
   "metadata": {},
   "outputs": [
    {
     "output_type": "execute_result",
     "data": {
      "text/plain": [
       "{'0100000000': 1,\n",
       " '1000000101': 1,\n",
       " '1100000000': 1,\n",
       " '1111101110': 1,\n",
       " '0000101100': 1,\n",
       " '1100101100': 1,\n",
       " '0000000001': 2,\n",
       " '0010000000': 2,\n",
       " '0000000010': 4,\n",
       " '1111111010': 1,\n",
       " '0101100000': 1,\n",
       " '1001000100': 1,\n",
       " '1101110111': 1,\n",
       " '1111111110': 2,\n",
       " '1011111111': 3,\n",
       " '1000010100': 1,\n",
       " '1111010111': 2,\n",
       " '0001000000': 2,\n",
       " '0000010000': 3,\n",
       " '0000001000': 3,\n",
       " '0001000001': 1,\n",
       " '1111011111': 1,\n",
       " '0000000110': 1,\n",
       " '1111111111': 16,\n",
       " '0111111111': 2,\n",
       " '1110111111': 3,\n",
       " '0000100100': 1,\n",
       " '0001100000': 1,\n",
       " '1111111001': 1,\n",
       " '1001101111': 1,\n",
       " '1001000010': 1,\n",
       " '0010010000': 1,\n",
       " '1111101111': 2,\n",
       " '1101111111': 2,\n",
       " '1111111011': 2,\n",
       " '0100100000': 1,\n",
       " '0000110000': 1,\n",
       " '0010000100': 1,\n",
       " '0000100000': 1,\n",
       " '1000100000': 1,\n",
       " '0001000101': 1,\n",
       " '0000000100': 1,\n",
       " '0111001010': 1,\n",
       " '1111111101': 3,\n",
       " '1000000001': 1,\n",
       " '1000000000': 2,\n",
       " '1010101111': 1,\n",
       " '0000000000': 15}"
      ]
     },
     "metadata": {},
     "execution_count": 12
    }
   ],
   "source": [
    "counts"
   ]
  },
  {
   "cell_type": "code",
   "execution_count": 13,
   "metadata": {},
   "outputs": [
    {
     "output_type": "stream",
     "name": "stdout",
     "text": [
      "strict inverse + SGS algorithm\n",
      "sum of mitigated probability vector x: 1.0000000000000022\n",
      "number of positive values:  535\n",
      "main process: Done!\n"
     ]
    },
    {
     "output_type": "execute_result",
     "data": {
      "text/plain": [
       "{'0001000101': 0.060677335103038674,\n",
       " '1000000101': 0.10676844798716487,\n",
       " '1101110111': 0.1475837680636815,\n",
       " '0111001010': 0.19094041499848785,\n",
       " '1100101100': 0.2511496248048067,\n",
       " '1001000010': 0.45500266920532223,\n",
       " '1001101111': 0.456635563683273,\n",
       " '1000010100': 0.4569393632142513,\n",
       " '1001000100': 0.47123059414195984,\n",
       " '1010101111': 0.495077827848334,\n",
       " '0000010000': 1.393578032184067,\n",
       " '1111111101': 1.5734024367232864,\n",
       " '0000001000': 1.6466278686127194,\n",
       " '1011111111': 1.7836634516736778,\n",
       " '1110111111': 1.9069953615544648,\n",
       " '1111010111': 3.6933248256527578,\n",
       " '0000000010': 4.895657744354459,\n",
       " '0000000000': 38.21684167011144,\n",
       " '1111111111': 41.7979030000828}"
      ]
     },
     "metadata": {},
     "execution_count": 13
    }
   ],
   "source": [
    "meas_filter = InvSGS(nbit, meas_fitter.cal_matrices, mit_pattern)\n",
    "x_tilde = meas_filter.apply(counts)\n",
    "x_tilde"
   ]
  },
  {
   "cell_type": "code",
   "execution_count": 14,
   "metadata": {},
   "outputs": [
    {
     "output_type": "stream",
     "name": "stdout",
     "text": [
      "Restriction to labels of y + SGS algorithm\nsum of mitigated probability vector x_s: 1.9647898730144737\nnumber of positive values:  44\nmain process: Done!\n"
     ]
    },
    {
     "output_type": "execute_result",
     "data": {
      "text/plain": [
       "{'0001000101': 0.060677335103038674,\n",
       " '1000000101': 0.10676844798716487,\n",
       " '1101110111': 0.1475837680636815,\n",
       " '0111001010': 0.19094041499848785,\n",
       " '1100101100': 0.2511496248048067,\n",
       " '1001000010': 0.45500266920532223,\n",
       " '1001101111': 0.456635563683273,\n",
       " '1000010100': 0.4569393632142513,\n",
       " '1001000100': 0.47123059414195984,\n",
       " '1010101111': 0.495077827848334,\n",
       " '0000010000': 1.393578032184067,\n",
       " '1111111101': 1.5734024367232864,\n",
       " '0000001000': 1.6466278686127194,\n",
       " '1011111111': 1.7836634516736778,\n",
       " '1110111111': 1.9069953615544648,\n",
       " '1111010111': 3.6933248256527578,\n",
       " '0000000010': 4.895657744354459,\n",
       " '0000000000': 38.21684167011144,\n",
       " '1111111111': 41.7979030000828}"
      ]
     },
     "metadata": {},
     "execution_count": 14
    }
   ],
   "source": [
    "meas_filter = InvSSGS(nbit, meas_fitter.cal_matrices, mit_pattern)\n",
    "x_tilde_s = meas_filter.apply(counts)\n",
    "x_tilde_s"
   ]
  },
  {
   "cell_type": "code",
   "execution_count": 15,
   "metadata": {},
   "outputs": [
    {
     "output_type": "stream",
     "name": "stdout",
     "text": [
      "Lagrange Multiplier + SGS algorithm\n",
      "sum of mitigated probability vector x: 1.0000000000000022\n",
      "sum_of_x: 1.000479595774066\n",
      "sum of mitigated probability vector x_hat: 0.9995213229238598\n",
      "number of positive values:  534\n",
      "main process: Done!\n"
     ]
    },
    {
     "output_type": "execute_result",
     "data": {
      "text/plain": [
       "{'0001000101': 0.06067733187432797,\n",
       " '1000000101': 0.10676922999951696,\n",
       " '1101110111': 0.14758426926246881,\n",
       " '0111001010': 0.19093872008825696,\n",
       " '1100101100': 0.25115010174521396,\n",
       " '1001000010': 0.45500127392445017,\n",
       " '1001101111': 0.45663484737879406,\n",
       " '1000010100': 0.4569405192335372,\n",
       " '1001000100': 0.4712302719663098,\n",
       " '1010101111': 0.4950774760939022,\n",
       " '0000010000': 1.3935788067525687,\n",
       " '1111111101': 1.573403436274502,\n",
       " '0000001000': 1.6466276705791605,\n",
       " '1011111111': 1.7836633774185813,\n",
       " '1110111111': 1.9069961248568597,\n",
       " '1111010111': 3.693325030451311,\n",
       " '0000000010': 4.895656783262325,\n",
       " '0000000000': 38.21684156712284,\n",
       " '1111111111': 41.79790316171504}"
      ]
     },
     "metadata": {},
     "execution_count": 15
    }
   ],
   "source": [
    "meas_filter = InvLMSGS(nbit, meas_fitter.cal_matrices, mit_pattern)\n",
    "x_tilde = meas_filter.apply(counts)\n",
    "x_tilde"
   ]
  },
  {
   "cell_type": "code",
   "execution_count": 16,
   "metadata": {},
   "outputs": [
    {
     "output_type": "stream",
     "name": "stdout",
     "text": [
      "Restriction to labels of y + Lagrange Multiplier + SGS algorithm\n",
      "sum of mitigated probability vector x_s: 1.9647898730144737\n",
      "sum of mitigated probability vector x_hat_s: 1.9647674095865217\n",
      "number of positive values:  44\n",
      "main process: Done!\n"
     ]
    },
    {
     "output_type": "execute_result",
     "data": {
      "text/plain": [
       "{'0001000101': 0.06067733187432901,\n",
       " '1000000101': 0.106769229999518,\n",
       " '1101110111': 0.14758426926246987,\n",
       " '0111001010': 0.190938720088258,\n",
       " '1100101100': 0.251150101745215,\n",
       " '1001000010': 0.4550012739244512,\n",
       " '1001101111': 0.4566348473787951,\n",
       " '1000010100': 0.45694051923353823,\n",
       " '1001000100': 0.47123027196631084,\n",
       " '1010101111': 0.4950774760939032,\n",
       " '0000010000': 1.3935788067525698,\n",
       " '1111111101': 1.5734034362745029,\n",
       " '0000001000': 1.6466276705791614,\n",
       " '1011111111': 1.7836633774185824,\n",
       " '1110111111': 1.9069961248568608,\n",
       " '1111010111': 3.693325030451312,\n",
       " '0000000010': 4.895656783262326,\n",
       " '0000000000': 38.21684156712284,\n",
       " '1111111111': 41.79790316171504}"
      ]
     },
     "metadata": {},
     "execution_count": 16
    }
   ],
   "source": [
    "meas_filter = InvSLMSGS(nbit, meas_fitter.cal_matrices, mit_pattern)\n",
    "x_tilde = meas_filter.apply(counts)\n",
    "x_tilde"
   ]
  },
  {
   "cell_type": "code",
   "execution_count": 17,
   "metadata": {},
   "outputs": [
    {
     "output_type": "stream",
     "name": "stdout",
     "text": [
      "Restriction to labels of y + Lagrange Multiplier + SGS algorithm\nsum of mitigated probability vector x_s: 1.9647898730144737\nsum of mitigated probability vector x_hat_s: 1.964767366473731\nnumber of positive values:  44\nmain process: Done!\n"
     ]
    },
    {
     "output_type": "execute_result",
     "data": {
      "text/plain": [
       "{'0001000101': 0.0606773318681305,\n",
       " '1000000101': 0.10676923150038861,\n",
       " '1101110111': 0.14758427022439313,\n",
       " '0111001010': 0.19093871683531183,\n",
       " '1100101100': 0.2511501026605776,\n",
       " '1001000010': 0.45500127124656237,\n",
       " '1001101111': 0.456634846004032,\n",
       " '1000010100': 0.45694052145222147,\n",
       " '1001000100': 0.4712302713479808,\n",
       " '1010101111': 0.49507747541880054,\n",
       " '0000010000': 1.393578808239161,\n",
       " '1111111101': 1.573403438192888,\n",
       " '0000001000': 1.6466276701990838,\n",
       " '1011111111': 1.7836633772760704,\n",
       " '1110111111': 1.9069961263218238,\n",
       " '1111010111': 3.693325030844366,\n",
       " '0000000010': 4.895656781417762,\n",
       " '0000000000': 38.21684156692518,\n",
       " '1111111111': 41.797903162025285}"
      ]
     },
     "metadata": {},
     "execution_count": 17
    }
   ],
   "source": [
    "meas_filter = InvSLM0SGS(nbit, meas_fitter.cal_matrices, mit_pattern)\n",
    "x_tilde = meas_filter.apply(counts)\n",
    "x_tilde"
   ]
  },
  {
   "cell_type": "code",
   "execution_count": null,
   "metadata": {},
   "outputs": [],
   "source": []
  }
 ]
}