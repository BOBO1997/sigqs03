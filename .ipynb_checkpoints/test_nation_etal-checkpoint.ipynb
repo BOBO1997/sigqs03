{
 "cells": [
  {
   "cell_type": "code",
   "execution_count": 1,
   "id": "662560b2",
   "metadata": {},
   "outputs": [],
   "source": [
    "import sys\n",
    "sys.path.append('libmitigation')"
   ]
  },
  {
   "cell_type": "code",
   "execution_count": 2,
   "id": "cc4f6d88",
   "metadata": {},
   "outputs": [],
   "source": [
    "#Preparing qiskit environment\n",
    "from qiskit import ClassicalRegister, QuantumRegister, QuantumCircuit\n",
    "from qiskit import execute\n",
    "from qiskit import IBMQ\n",
    "from qiskit import Aer\n",
    "from scipy import optimize\n",
    "import sys, time\n",
    "import mpmath as mp\n",
    "import numpy as np\n",
    "import matplotlib.pyplot as plt\n",
    "np.random.seed(42)"
   ]
  },
  {
   "cell_type": "code",
   "execution_count": 3,
   "id": "e98ee312",
   "metadata": {},
   "outputs": [],
   "source": [
    "from qiskit.providers.aer.noise import NoiseModel\n",
    "from qiskit.providers.aer.noise import QuantumError, ReadoutError\n",
    "from qiskit.providers.aer.noise import depolarizing_error\n",
    "import qiskit.ignis.mitigation as mit\n",
    "from qiskit.ignis.mitigation.measurement import tensored_meas_cal, TensoredMeasFitter\n",
    "import importlib\n",
    "from nation_etal import NationEtal\n",
    "from lib_grover import *"
   ]
  },
  {
   "cell_type": "code",
   "execution_count": 4,
   "id": "df0c74a7",
   "metadata": {},
   "outputs": [],
   "source": [
    "import nation_etal\n",
    "importlib.reload(nation_etal)\n",
    "from nation_etal import NationEtal"
   ]
  },
  {
   "cell_type": "code",
   "execution_count": 5,
   "id": "50d18812",
   "metadata": {},
   "outputs": [],
   "source": [
    "nbit = 5\n",
    "noise_model = NoiseModel()\n",
    "for qi in range(nbit+1):\n",
    "    if qi >= 0:\n",
    "        read_err = ReadoutError([[0.90, 0.10],[0.10,0.90]])\n",
    "        noise_model.add_readout_error(read_err, [qi])"
   ]
  },
  {
   "cell_type": "code",
   "execution_count": 6,
   "id": "c2563c3e",
   "metadata": {},
   "outputs": [],
   "source": [
    "shots = 8192\n",
    "qr = QuantumRegister(nbit+1)\n",
    "mit_pattern = [[i] for i in range(nbit+1)]\n",
    "meas_calibs, state_labels = tensored_meas_cal(mit_pattern=mit_pattern, qr=qr, circlabel='mcal')\n",
    "job = execute(meas_calibs, backend=Aer.get_backend('qasm_simulator'), shots=shots, noise_model=noise_model)\n",
    "cal_results = job.result()\n",
    "meas_fitter = TensoredMeasFitter(cal_results, mit_pattern=mit_pattern)"
   ]
  },
  {
   "cell_type": "code",
   "execution_count": 7,
   "id": "f0d82da8",
   "metadata": {},
   "outputs": [],
   "source": [
    "meas_filter = NationEtal(nbit+1, meas_fitter.cal_matrices, mit_pattern)"
   ]
  },
  {
   "cell_type": "code",
   "execution_count": 8,
   "id": "33b81537",
   "metadata": {},
   "outputs": [
    {
     "data": {
      "text/plain": [
       "[array([[0.89831543, 0.09960938],\n",
       "        [0.10168457, 0.90039062]]),\n",
       " array([[0.89672852, 0.09753418],\n",
       "        [0.10327148, 0.90246582]]),\n",
       " array([[0.89501953, 0.10546875],\n",
       "        [0.10498047, 0.89453125]]),\n",
       " array([[0.90356445, 0.09631348],\n",
       "        [0.09643555, 0.90368652]]),\n",
       " array([[0.89379883, 0.09338379],\n",
       "        [0.10620117, 0.90661621]]),\n",
       " array([[0.89916992, 0.09960938],\n",
       "        [0.10083008, 0.90039062]])]"
      ]
     },
     "execution_count": 8,
     "metadata": {},
     "output_type": "execute_result"
    }
   ],
   "source": [
    "cal_matrices = meas_filter.cal_matrices\n",
    "cal_matrices"
   ]
  },
  {
   "cell_type": "code",
   "execution_count": 9,
   "id": "0ddae7ef",
   "metadata": {
    "scrolled": false
   },
   "outputs": [
    {
     "name": "stdout",
     "output_type": "stream",
     "text": [
      "{'000000': 0.5, '111111': 0.5}\n",
      "Method by Nation, Kang, Sundaresan, and Gambatta\n",
      "{'111111', '000000'}\n",
      "main process: Done!\n",
      "sum of mitigated probability vector x: 1.0000005350167278\n",
      "[ 1.0137055  -0.10705123 -0.11206877  0.00935263 -0.10186232  0.00845383\n",
      "  0.00884556 -0.11236926  0.00945005  0.00988983  0.00894144  0.00841914\n",
      " -0.10943872  0.00914056  0.00956517  0.00864571  0.00921817  0.00966469\n",
      "  0.00818648  0.0080688   0.00857688 -0.10398889 -0.10798236  0.00902139\n",
      "  0.0094404   0.00853328  0.0090331   0.00953832  0.00802197  0.00790687\n",
      "  0.00840463 -0.10196327  0.00922625  0.00878716  0.00865749  0.0092027\n",
      " -0.1107091   0.00768775  0.008172   -0.09982879  0.00805484 -0.09786597\n",
      " -0.10388176  0.99119837]\n",
      "start sgs_algorithm\n",
      "number of positive values:  32\n"
     ]
    }
   ],
   "source": [
    "x_tilde = meas_filter.apply({\"000000\": 50, \"111111\": 50}, d=2)"
   ]
  },
  {
   "cell_type": "code",
   "execution_count": 12,
   "id": "92b79e14",
   "metadata": {},
   "outputs": [
    {
     "data": {
      "text/plain": [
       "100.0"
      ]
     },
     "execution_count": 12,
     "metadata": {},
     "output_type": "execute_result"
    }
   ],
   "source": [
    "sum(x_tilde.values())"
   ]
  },
  {
   "cell_type": "code",
   "execution_count": null,
   "id": "1f751c02",
   "metadata": {},
   "outputs": [],
   "source": [
    "meas_filter.prepare_nation_A_tilde(meas_filter.extend_keys({\"000000\", \"111111\"}, 2))"
   ]
  },
  {
   "cell_type": "code",
   "execution_count": null,
   "id": "58ab03d1",
   "metadata": {},
   "outputs": [],
   "source": [
    "meas_filter.A_tilde.shape"
   ]
  },
  {
   "cell_type": "code",
   "execution_count": null,
   "id": "9ed08a6a",
   "metadata": {},
   "outputs": [],
   "source": [
    "np.sum(meas_filter.A_tilde)"
   ]
  },
  {
   "cell_type": "code",
   "execution_count": null,
   "id": "d57fe6cc",
   "metadata": {},
   "outputs": [],
   "source": [
    "meas_filter.prepare_nation_A_tilde(meas_filter.extend_keys({\"000000\", \"111111\"}, 2))"
   ]
  },
  {
   "cell_type": "code",
   "execution_count": null,
   "id": "26826ad2",
   "metadata": {},
   "outputs": [],
   "source": [
    "meas_filter.A_tilde.shape"
   ]
  },
  {
   "cell_type": "code",
   "execution_count": null,
   "id": "f7af21b6",
   "metadata": {},
   "outputs": [],
   "source": [
    "from draw_heatmap import draw_heatmap"
   ]
  },
  {
   "cell_type": "code",
   "execution_count": null,
   "id": "17c0ca08",
   "metadata": {},
   "outputs": [],
   "source": [
    "draw_heatmap(meas_filter.A_tilde)"
   ]
  },
  {
   "cell_type": "code",
   "execution_count": null,
   "id": "29f4b563",
   "metadata": {},
   "outputs": [],
   "source": [
    "from itertools import combinations\n",
    "import copy\n",
    "\n",
    "def change_bit_at_poses(key: str, poses: int) -> str:\n",
    "    for pos in poses:\n",
    "        key = key[:pos] + \"1\" + key[pos+1:] if key[pos] == \"0\" else key[:pos] + \"0\" + key[pos+1:]\n",
    "    return key\n",
    "\n",
    "def extend_keys(original_keys: set, max_dist: int) -> set:\n",
    "    \n",
    "    extended_key_set = copy.deepcopy(original_keys)\n",
    "    \n",
    "    for key in original_keys:\n",
    "        n = len(key)\n",
    "        for d in range(max_dist):\n",
    "            combs = combinations(range(n), d + 1)\n",
    "            for comb in combs:\n",
    "                new_key = change_bit_at_poses(key, comb)\n",
    "                extended_key_set.add( new_key )\n",
    "    return extended_key_set"
   ]
  },
  {
   "cell_type": "code",
   "execution_count": null,
   "id": "50851523",
   "metadata": {},
   "outputs": [],
   "source": [
    "7 * 6 * 5 / (1 * 2 * 3) + 7 * 6 / (1 * 2) + 7 / 1 + 1"
   ]
  },
  {
   "cell_type": "code",
   "execution_count": null,
   "id": "6a521ea5",
   "metadata": {
    "scrolled": true
   },
   "outputs": [],
   "source": [
    "len(extend_keys(set([\"0000000\", \"1101100\"]), 3))"
   ]
  },
  {
   "cell_type": "code",
   "execution_count": null,
   "id": "06b658b4",
   "metadata": {},
   "outputs": [],
   "source": [
    "extend_keys(set([\"0000000\", \"1101100\"]), 3)"
   ]
  }
 ],
 "metadata": {
  "kernelspec": {
   "display_name": "Python 3 (ipykernel)",
   "language": "python",
   "name": "python3"
  },
  "language_info": {
   "codemirror_mode": {
    "name": "ipython",
    "version": 3
   },
   "file_extension": ".py",
   "mimetype": "text/x-python",
   "name": "python",
   "nbconvert_exporter": "python",
   "pygments_lexer": "ipython3",
   "version": "3.9.7"
  }
 },
 "nbformat": 4,
 "nbformat_minor": 5
}
