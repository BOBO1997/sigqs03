{
 "cells": [
  {
   "cell_type": "code",
   "execution_count": 1,
   "id": "mental-latter",
   "metadata": {},
   "outputs": [],
   "source": [
    "import sys\n",
    "sys.path.append('../libmitigation')"
   ]
  },
  {
   "cell_type": "code",
   "execution_count": 2,
   "id": "sharp-penetration",
   "metadata": {},
   "outputs": [
    {
     "name": "stderr",
     "output_type": "stream",
     "text": [
      "/Users/yangbo/.pyenv/versions/anaconda3-5.1.0/lib/python3.6/site-packages/qiskit/__init__.py:67: DeprecationWarning: Using Qiskit with Python 3.6 is deprecated as of the 0.17.0 release. Support for running Qiskit with Python 3.6 will be removed in a future release.\n",
      "  \"future release.\", DeprecationWarning)\n"
     ]
    }
   ],
   "source": [
    "#Preparing qiskit environment\n",
    "from qiskit import ClassicalRegister, QuantumRegister, QuantumCircuit\n",
    "from qiskit import execute\n",
    "from qiskit import IBMQ\n",
    "from qiskit import Aer\n",
    "from scipy import optimize\n",
    "import sys, time\n",
    "import mpmath as mp\n",
    "import numpy as np\n",
    "import matplotlib.pyplot as plt\n",
    "import random\n",
    "random.seed(10)"
   ]
  },
  {
   "cell_type": "code",
   "execution_count": 3,
   "id": "informational-analyst",
   "metadata": {},
   "outputs": [],
   "source": [
    "from qiskit.providers.aer.noise import NoiseModel\n",
    "from qiskit.providers.aer.noise import QuantumError, ReadoutError\n",
    "from qiskit.providers.aer.noise import depolarizing_error\n",
    "import qiskit.ignis.mitigation as mit\n",
    "from qiskit.ignis.mitigation.measurement import tensored_meas_cal, TensoredMeasFitter\n",
    "import importlib\n",
    "from inv_sgs import InvSGS\n",
    "from inv_s_sgs import InvSSGS\n",
    "from inv_lm_sgs import InvLMSGS\n",
    "from inv_s_lm_sgs import InvSLMSGS\n",
    "from inv_s_lm0_sgs import InvSLM0SGS\n",
    "from inv_s_lmk_sgs import InvSLMkSGS\n",
    "from sgs_algorithm import sgs_algorithm\n",
    "from lib_grover import *"
   ]
  },
  {
   "cell_type": "code",
   "execution_count": 4,
   "id": "comparable-minneapolis",
   "metadata": {},
   "outputs": [
    {
     "name": "stdout",
     "output_type": "stream",
     "text": [
      "Analytical Result: 3.289861639787202e-06\n",
      "Discretized Result: 3.277010676691031e-06\n"
     ]
    }
   ],
   "source": [
    "import math\n",
    "\n",
    "b_max = math.pi / 1000  # upper limit of integral # 5\n",
    "nbit = 3  # change this value to get discretized result closer to analytical results # 3\n",
    "\n",
    "analyticResult = (b_max / 2.0 - math.sin(2 * b_max) / 4.0 ) / b_max  # the target integral can be analytically solved\n",
    "print(\"Analytical Result:\", analyticResult)\n",
    "\n",
    "ndiv = 2**nbit  #number of discretization \n",
    "discretizedResult = 0.0\n",
    "for i in range(ndiv):\n",
    "    discretizedResult += math.sin(b_max / ndiv * (i + 0.5))**2\n",
    "discretizedResult = discretizedResult / ndiv\n",
    "print(\"Discretized Result:\", discretizedResult)"
   ]
  },
  {
   "cell_type": "code",
   "execution_count": 5,
   "id": "serial-disco",
   "metadata": {},
   "outputs": [],
   "source": [
    "#setting the number of shots and Grover operators.\n",
    "\n",
    "number_grover_list = [0, 1, 2, 4, 8, 16, 32, 64, 128] # list of number of Grover operators\n",
    "# number_grover_list = [i for i in range(100)]\n",
    "shots_list = [100] * len(number_grover_list) # list of number of shots\n",
    "if len(shots_list) != len(number_grover_list):\n",
    "    raise Exception(\n",
    "        'The length of shots_list should be equal to the length of number_grover_list.'\n",
    "    )\n",
    "\n",
    "backend = Aer.get_backend('qasm_simulator')"
   ]
  },
  {
   "cell_type": "code",
   "execution_count": 6,
   "id": "residential-mechanism",
   "metadata": {},
   "outputs": [],
   "source": [
    "noise_model = NoiseModel()\n",
    "for qi in range(nbit+1):\n",
    "    if qi >= 0:\n",
    "        read_err = ReadoutError([[0.990, 0.010],[0.010,0.990]])\n",
    "        noise_model.add_readout_error(read_err, [qi])"
   ]
  },
  {
   "cell_type": "code",
   "execution_count": 7,
   "id": "mexican-webster",
   "metadata": {},
   "outputs": [],
   "source": [
    "qc_list = create_grover_circuit(number_grover_list, nbit,b_max)  # list of Grover circuits"
   ]
  },
  {
   "cell_type": "code",
   "execution_count": 8,
   "id": "substantial-liberty",
   "metadata": {},
   "outputs": [
    {
     "name": "stdout",
     "output_type": "stream",
     "text": [
      "0 th round with 0 oracles\n",
      "0.70823073387146 s\n",
      "1 th round with 1 oracles\n",
      "0.010178804397583008 s\n",
      "2 th round with 2 oracles\n",
      "0.012629032135009766 s\n",
      "3 th round with 4 oracles\n",
      "0.0182039737701416 s\n",
      "4 th round with 8 oracles\n",
      "0.02838301658630371 s\n",
      "5 th round with 16 oracles\n",
      "0.048722028732299805 s\n",
      "6 th round with 32 oracles\n",
      "0.09128689765930176 s\n",
      "7 th round with 64 oracles\n",
      "0.17855095863342285 s\n",
      "8 th round with 128 oracles\n",
      "0.41921114921569824 s\n"
     ]
    }
   ],
   "source": [
    "counts_list = run_grover(qc_list, number_grover_list, shots_list, backend, noise_model=noise_model)  # list of number of grover operators"
   ]
  },
  {
   "cell_type": "code",
   "execution_count": 9,
   "id": "intelligent-restaurant",
   "metadata": {},
   "outputs": [
    {
     "name": "stdout",
     "output_type": "stream",
     "text": [
      "[97, 97, 96, 97, 92, 96, 92, 92, 80]\n"
     ]
    }
   ],
   "source": [
    "hit_list = make_hit_list(counts_list)\n",
    "print(hit_list)"
   ]
  },
  {
   "cell_type": "code",
   "execution_count": 10,
   "id": "afraid-velvet",
   "metadata": {},
   "outputs": [],
   "source": [
    "shots = 8192\n",
    "qr = QuantumRegister(nbit+1)\n",
    "mit_pattern = [[i] for i in range(nbit+1)]\n",
    "meas_calibs, state_labels = tensored_meas_cal(mit_pattern=mit_pattern, qr=qr, circlabel='mcal')\n",
    "job = execute(meas_calibs, backend=Aer.get_backend('qasm_simulator'), shots=shots, noise_model=noise_model)\n",
    "cal_results = job.result()\n",
    "meas_fitter = TensoredMeasFitter(cal_results, mit_pattern=mit_pattern)"
   ]
  },
  {
   "cell_type": "code",
   "execution_count": 11,
   "id": "loaded-mediterranean",
   "metadata": {},
   "outputs": [
    {
     "name": "stdout",
     "output_type": "stream",
     "text": [
      "strict inverse + SGS algorithm\n",
      "sum of mitigated probability vector x: 1.0000000000000004\n",
      "number of positive values:  8\n",
      "main process: Done!\n",
      "strict inverse + SGS algorithm\n",
      "sum of mitigated probability vector x: 1.0000000000000002\n",
      "number of positive values:  8\n",
      "main process: Done!\n",
      "strict inverse + SGS algorithm\n",
      "sum of mitigated probability vector x: 1.0000000000000004\n",
      "number of positive values:  8\n",
      "main process: Done!\n",
      "strict inverse + SGS algorithm\n",
      "sum of mitigated probability vector x: 1.0000000000000004\n",
      "number of positive values:  8\n",
      "main process: Done!\n",
      "strict inverse + SGS algorithm\n",
      "sum of mitigated probability vector x: 1.0000000000000002\n",
      "number of positive values:  8\n",
      "main process: Done!\n",
      "strict inverse + SGS algorithm\n",
      "sum of mitigated probability vector x: 0.9999999999999999\n",
      "number of positive values:  8\n",
      "main process: Done!\n",
      "strict inverse + SGS algorithm\n",
      "sum of mitigated probability vector x: 1.0000000000000002\n",
      "number of positive values:  9\n",
      "main process: Done!\n",
      "strict inverse + SGS algorithm\n",
      "sum of mitigated probability vector x: 1.0000000000000004\n",
      "number of positive values:  8\n",
      "main process: Done!\n",
      "strict inverse + SGS algorithm\n",
      "sum of mitigated probability vector x: 1.0000000000000002\n",
      "number of positive values:  8\n",
      "main process: Done!\n",
      "[99.99999999999997, 99.99999999999999, 99.38376062564703, 99.99999999999997, 95.61573901145981, 99.5334950903661, 95.88339630866007, 95.66302949894937, 83.09802873093052]\n"
     ]
    }
   ],
   "source": [
    "meas_filter = InvSGS(nbit+1, meas_fitter.cal_matrices, mit_pattern)\n",
    "mit_counts_list = []\n",
    "for counts in counts_list:\n",
    "    x_tilde = meas_filter.apply(counts)\n",
    "    mit_counts_list.append(x_tilde)\n",
    "mit_hit_list = make_hit_list(mit_counts_list)\n",
    "print(mit_hit_list)"
   ]
  },
  {
   "cell_type": "code",
   "execution_count": 12,
   "id": "approximate-knowing",
   "metadata": {},
   "outputs": [
    {
     "data": {
      "text/plain": [
       "[array([[ 0.67913611,  0.73401236],\n",
       "        [ 0.73401236, -0.67913611]]),\n",
       " array([[ 0.7009436 ,  0.71321671],\n",
       "        [ 0.71321671, -0.7009436 ]]),\n",
       " array([[-0.73670185, -0.6762177 ],\n",
       "        [-0.6762177 ,  0.73670185]]),\n",
       " array([[-0.70922452, -0.70498268],\n",
       "        [-0.70498268,  0.70922452]])]"
      ]
     },
     "execution_count": 12,
     "metadata": {},
     "output_type": "execute_result"
    }
   ],
   "source": [
    "meas_filter.pinvVs"
   ]
  },
  {
   "cell_type": "code",
   "execution_count": 13,
   "id": "basic-andrews",
   "metadata": {},
   "outputs": [],
   "source": [
    "from draw_heatmap import *"
   ]
  },
  {
   "cell_type": "code",
   "execution_count": 14,
   "id": "photographic-search",
   "metadata": {},
   "outputs": [
    {
     "data": {
      "image/png": "[encoded data removed]",
      "text/plain": [
       "<Figure size 432x288 with 2 Axes>"
      ]
     },
     "metadata": {
      "needs_background": "light"
     },
     "output_type": "display_data"
    },
    {
     "data": {
      "text/plain": [
       "<matplotlib.collections.PolyCollection at 0x7f9445daa898>"
      ]
     },
     "execution_count": 14,
     "metadata": {},
     "output_type": "execute_result"
    }
   ],
   "source": [
    "draw_heatmap(meas_filter.pinvVs[0])"
   ]
  },
  {
   "cell_type": "code",
   "execution_count": 17,
   "id": "modern-grove",
   "metadata": {},
   "outputs": [
    {
     "data": {
      "image/png": "[encoded data removed]",
      "text/plain": [
       "<Figure size 432x288 with 2 Axes>"
      ]
     },
     "metadata": {
      "needs_background": "light"
     },
     "output_type": "display_data"
    },
    {
     "data": {
      "text/plain": [
       "<matplotlib.collections.PolyCollection at 0x7f944667fa58>"
      ]
     },
     "execution_count": 17,
     "metadata": {},
     "output_type": "execute_result"
    }
   ],
   "source": [
    "draw_heatmap(meas_filter.pinvVs[1])"
   ]
  },
  {
   "cell_type": "code",
   "execution_count": 18,
   "id": "realistic-january",
   "metadata": {},
   "outputs": [
    {
     "data": {
      "image/png": "[encoded data removed]",
      "text/plain": [
       "<Figure size 432x288 with 2 Axes>"
      ]
     },
     "metadata": {
      "needs_background": "light"
     },
     "output_type": "display_data"
    },
    {
     "data": {
      "text/plain": [
       "<matplotlib.collections.PolyCollection at 0x7f9442b89748>"
      ]
     },
     "execution_count": 18,
     "metadata": {},
     "output_type": "execute_result"
    }
   ],
   "source": [
    "draw_heatmap(meas_filter.pinvVs[2])"
   ]
  },
  {
   "cell_type": "markdown",
   "id": "together-benefit",
   "metadata": {},
   "source": [
    "draw_heatmap(meas_filter.pinvVs[0])"
   ]
  },
  {
   "cell_type": "code",
   "execution_count": 19,
   "id": "later-saint",
   "metadata": {},
   "outputs": [
    {
     "data": {
      "image/png": "[encoded data removed]",
      "text/plain": [
       "<Figure size 432x288 with 2 Axes>"
      ]
     },
     "metadata": {
      "needs_background": "light"
     },
     "output_type": "display_data"
    },
    {
     "data": {
      "text/plain": [
       "<matplotlib.collections.PolyCollection at 0x7f9442b58470>"
      ]
     },
     "execution_count": 19,
     "metadata": {},
     "output_type": "execute_result"
    }
   ],
   "source": [
    "draw_heatmap(meas_filter.pinvVs[3])"
   ]
  },
  {
   "cell_type": "markdown",
   "id": "initial-billion",
   "metadata": {},
   "source": [
    "draw_heatmap(meas_filter.pinvVs[0])"
   ]
  },
  {
   "cell_type": "code",
   "execution_count": 16,
   "id": "administrative-bunny",
   "metadata": {},
   "outputs": [
    {
     "data": {
      "image/png": "[encoded data removed]",
      "text/plain": [
       "<Figure size 432x288 with 2 Axes>"
      ]
     },
     "metadata": {
      "needs_background": "light"
     },
     "output_type": "display_data"
    },
    {
     "data": {
      "text/plain": [
       "<matplotlib.collections.PolyCollection at 0x7f9445fb6be0>"
      ]
     },
     "execution_count": 16,
     "metadata": {},
     "output_type": "execute_result"
    }
   ],
   "source": [
    "draw_heatmap(meas_filter.kron_matrices(meas_filter.pinvVs))"
   ]
  },
  {
   "cell_type": "code",
   "execution_count": null,
   "id": "wired-google",
   "metadata": {},
   "outputs": [],
   "source": [
    "meas_filter.pinvSigmas"
   ]
  },
  {
   "cell_type": "code",
   "execution_count": 21,
   "id": "consolidated-secondary",
   "metadata": {},
   "outputs": [
    {
     "data": {
      "text/plain": [
       "[array([[0.99996608, 0.        ],\n",
       "        [0.        , 1.0222458 ]]),\n",
       " array([[0.99999838, 0.        ],\n",
       "        [0.        , 1.0213207 ]]),\n",
       " array([[0.99995996, 0.        ],\n",
       "        [0.        , 1.02161467]]),\n",
       " array([[0.99999981, 0.        ],\n",
       "        [0.        , 1.02055582]])]"
      ]
     },
     "execution_count": 21,
     "metadata": {},
     "output_type": "execute_result"
    }
   ],
   "source": [
    "meas_filter.pinvSigmas"
   ]
  },
  {
   "cell_type": "code",
   "execution_count": 20,
   "id": "posted-penny",
   "metadata": {},
   "outputs": [
    {
     "data": {
      "text/plain": [
       "[0.9999242337611408,\n",
       " 1.020478682427167,\n",
       " 1.0215781640524193,\n",
       " 1.0425777310419764,\n",
       " 1.02124497098841,\n",
       " 1.042237688859305,\n",
       " 1.0433606140196043,\n",
       " 1.0648079411839364,\n",
       " 1.0222030260039772,\n",
       " 1.043215437659633,\n",
       " 1.044339416263633,\n",
       " 1.065806863692881,\n",
       " 1.043998799498108,\n",
       " 1.0654592452070404,\n",
       " 1.0666071896793092,\n",
       " 1.0885323735951085]"
      ]
     },
     "execution_count": 20,
     "metadata": {},
     "output_type": "execute_result"
    }
   ],
   "source": [
    "[meas_filter.sum_of_tensored_vector(meas_filter.choose_vecs(state_idx, meas_filter.pinvSigmas)) for state_idx in range(2 ** meas_filter.num_clbits)]"
   ]
  },
  {
   "cell_type": "code",
   "execution_count": 23,
   "id": "spanish-invalid",
   "metadata": {},
   "outputs": [
    {
     "name": "stdout",
     "output_type": "stream",
     "text": [
      "sum_of_x:  1.0000000000000004\n",
      "delta_denom:  16.000102758579253\n",
      "delta_coeff:  -2.7755397359053963e-17\n",
      "sum_of_x == sum_x\n",
      "sum_of_x:  1.0000000000000004\n",
      "sum_x:  1.0000726389213863\n",
      "False\n"
     ]
    }
   ],
   "source": [
    "deltas = meas_filter.listup_deltas(counts_list[0])"
   ]
  },
  {
   "cell_type": "code",
   "execution_count": 24,
   "id": "cross-continuity",
   "metadata": {},
   "outputs": [
    {
     "data": {
      "text/plain": [
       "[-1.108485909167635e-16,\n",
       " 3.1922556654378954e-19,\n",
       " 4.546166124550756e-18,\n",
       " -1.3092204823800143e-20,\n",
       " -9.222754715788869e-19,\n",
       " 2.656000473161514e-21,\n",
       " 3.78247253458044e-20,\n",
       " -1.0892893881659275e-22,\n",
       " -4.118951436114873e-18,\n",
       " 1.1861897340196854e-20,\n",
       " 1.6892806063359075e-19,\n",
       " -4.864848115335535e-22,\n",
       " -3.4270240575325975e-20,\n",
       " 9.869261190216865e-23,\n",
       " 1.4055046211705208e-21,\n",
       " -4.047620319413746e-24]"
      ]
     },
     "execution_count": 24,
     "metadata": {},
     "output_type": "execute_result"
    }
   ],
   "source": [
    "deltas"
   ]
  },
  {
   "cell_type": "code",
   "execution_count": 15,
   "id": "mexican-health",
   "metadata": {},
   "outputs": [
    {
     "name": "stderr",
     "output_type": "stream",
     "text": [
      "/Users/yangbo/.pyenv/versions/anaconda3-5.1.0/lib/python3.6/site-packages/qiskit/visualization/matplotlib.py:291: DeprecationWarning: style option/s (usepiformat, cregbundle, compress) is/are not supported\n",
      "  set_style(current_style, style)\n"
     ]
    },
    {
     "data": {
      "image/png": "[encoded data removed]",
      "text/plain": [
       "<Figure size 1631.27x686.28 with 1 Axes>"
      ]
     },
     "execution_count": 15,
     "metadata": {},
     "output_type": "execute_result"
    }
   ],
   "source": [
    "qc_list = create_grover_circuit([1], nbit, b_max)\n",
    "my_style = {'usepiformat': True, 'cregbundle': True,'compress': True }\n",
    "qc_list[0].draw(output=\"mpl\", style=my_style, plot_barriers=False )"
   ]
  },
  {
   "cell_type": "code",
   "execution_count": null,
   "id": "likely-click",
   "metadata": {},
   "outputs": [],
   "source": []
  }
 ],
 "metadata": {
  "kernelspec": {
   "display_name": "Python 3",
   "language": "python",
   "name": "python3"
  },
  "language_info": {
   "codemirror_mode": {
    "name": "ipython",
    "version": 3
   },
   "file_extension": ".py",
   "mimetype": "text/x-python",
   "name": "python",
   "nbconvert_exporter": "python",
   "pygments_lexer": "ipython3",
   "version": "3.6.13"
  }
 },
 "nbformat": 4,
 "nbformat_minor": 5
}
