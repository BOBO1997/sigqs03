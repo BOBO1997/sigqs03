{
 "cells": [
  {
   "cell_type": "markdown",
   "metadata": {},
   "source": [
    "# Modified Grover operator for quantum amplitude estimation\n",
    "\n",
    "\n",
    "## Contributors\n",
    "\n",
    "Based on the paper [Modified Grover operator for amplitude estimation](https://arxiv.org/abs/2010.11656). \n",
    "\n",
    "Shumpei Uno, Yohichi Suzuki, Keigo Hisanaga, Rudy Raymond, Tomoki Tanaka, Tamiya Onodera, and Naoki Yamamoto.\n",
    "\n",
    "\n",
    "## Summary\n",
    "\n",
    "This notebook contains experiments for performing amplitude estimation without inverse Quantum Fourier Transform (QFT) and controlled Q-operators (a.k.a. Grover operators).\n",
    "It is known that without QFT and such controlled operators, the number of two-qubit gates (e.g., CNOT gates) required for running amplitude estimation can be reduced, and hence may be more appropriate to run quantum algorithms on Noisy Intermediate Scale Quantum (NISQ) devices.\n",
    "Here, the Grover operator used here is the modified one provided by the paper above, which would reach the higher accuracy under the depolarization error."
   ]
  },
  {
   "cell_type": "markdown",
   "metadata": {},
   "source": [
    "## Modified Amplitude Amplification Operator\n",
    "\n",
    "### Operator\n",
    "\n",
    "The modified amplitude amplification operator is defined as:\n",
    "$$Q=U_{0} A^{\\dagger} U_{f} A$$\n",
    "while the conventional amplitude amplification operator is like:\n",
    "$$G=A U_{0} A^{\\dagger} U_{f}$$\n",
    "\n",
    "### Result after $m$ Iterations\n",
    "Application of $Q^m$ on the initial\n",
    "state $\\left|0\\right>^{n+1}$ produces\n",
    "\\begin{eqnarray}\n",
    "\\left|\\psi_{Q}\\left(\\theta, N_{\\mathrm{q}}\\right)\\right\\rangle:=Q^{m}|0\\rangle_{n+1}=\\cos \\left(N_{\\mathrm{q}} \\theta\\right)|0\\rangle_{n+1}+\\sin \\left(N_{\\mathrm{q}} \\theta\\right)|\\phi\\rangle_{n+1}\n",
    "\\end{eqnarray}\n",
    "where\n",
    "\\begin{eqnarray}\n",
    "\\begin{aligned}\n",
    "|\\phi\\rangle_{n+1} &=A^{\\dagger}\\left(-\\sin \\theta\\left|\\psi_{0}\\right\\rangle_{n}|0\\rangle+\\cos \\theta\\left|\\psi_{1}\\right\\rangle_{n}|1\\rangle\\right) \\\\\n",
    "&=\\frac{1}{\\sin 2 \\theta}(Q-\\cos 2 \\theta)|0\\rangle_{n+1}\n",
    "\\end{aligned}\n",
    "\\end{eqnarray}\n",
    "and $N_q = 2m$.\n",
    "\n",
    "### Measurement Operators\n",
    "The set of measurement operators\n",
    "$$E_{Q, 0}=|0\\rangle_{n+1}\\left\\langle\\left. 0\\right|_{n+1}\\right.$$\n",
    "$$E_{Q, 1}=\\mathbf{I}_{n+1}-E_{Q, 0}$$\n",
    "distinguishes whether all qubits are 0 or not.\n",
    "\n",
    "Measuring the state $\\left|\\psi_{Q}\\left(\\theta, N_{\\mathrm{q}}\\right)\\right\\rangle$ via $\\left\\{E_{Q, 0}, E_{Q, 1}\\right\\}$ yields the probability distribution as\n",
    "\\begin{eqnarray}\n",
    "\\begin{array}{l}\n",
    "p_{Q}\\left(0 ; \\theta, N_{\\mathrm{q}}\\right)=\\cos ^{2}\\left(N_{\\mathrm{q}} \\theta\\right) \\\\\n",
    "p_{Q}\\left(1 ; \\theta, N_{\\mathrm{q}}\\right)=\\sin ^{2}\\left(N_{\\mathrm{q}} \\theta\\right)\n",
    "\\end{array}\n",
    "\\end{eqnarray}\n",
    "\n",
    "\n",
    "### Circuit Implementation\n",
    "For the label $\\left|x\\right>_n$ in computational basis, the operator $A$ maps $\\left|0\\right>_n\\left|0\\right>$ to\n",
    "<!-- $\\left|x\\right>_n\\left|0\\right>$ to\n",
    "\\begin{eqnarray}\n",
    "A \\left|x\\right>_n\\left|0\\right> \n",
    "&=& \\left|x\\right>_n \\left( \\sqrt{f(x)} \\left|1\\right> + \\sqrt{1-f(x)} \\left|0\\right>\\right) \\\\\n",
    "&=& \\left|x\\right>_n \\left( \\sqrt{a} \\left|1\\right> + \\sqrt{1-a} \\left|0\\right>\\right)\\\\\n",
    "&=& \\left|x\\right>_n \\left( \\sin\\theta \\left|1\\right> + \\cos\\theta \\left|0\\right>\\right)\n",
    "\\end{eqnarray}\n",
    "-->\n",
    "$$A|0\\rangle_{n+1}=\\cos \\theta\\left|\\psi_{0}\\right\\rangle_{n}|0\\rangle+\\sin \\theta\\left|\\psi_{1}\\right\\rangle_{n}|1\\rangle$$\n",
    "where $a=\\sin^2\\theta$.\n",
    "Here, $A$ can be realized with controlled-$Y$ rotation gates."
   ]
  },
  {
   "cell_type": "markdown",
   "metadata": {},
   "source": [
    "## Introduction\n",
    "\n",
    "We consider applying amplitude estimation, one of the most popular quantum algorithms, for Monte Carlo integration, a problem which is essential for financial applications. The purpose of Monte Carlo integration is to compute the expected value of a real-valued function $f$. Here, for simplicity we assume $f$ takes an $n$-bit input $x \\in \\{0,1\\}^n$, $0 \\le f(x) \\le 1$, and the probability of $f(x)$ is $p(x)$. Then, the expected value is \n",
    "$$\n",
    "\\mathbb{E}[f(x)] = \\sum_{x=0}^{2^n-1} p(x) f(x)\n",
    "$$\n",
    "\n",
    "To compute the Monte Carlo integration of $f$, let us assume that quantum circuits $\\mathcal{P}$ and $\\mathcal{R}$, that perform the following transformation, are given. \n",
    "\\begin{eqnarray}\n",
    "\\mathcal{P} \\left|0\\right>_n &=& \\sum_{x} \\sqrt{p(x)} \\left|x\\right>_n\\\\\n",
    "\\mathcal{R} \\left|x\\right>_n\\left|0\\right> &=& \\left|x\\right>_n \\left( \\sqrt{f(x)} \\left|1\\right> + \\sqrt{1-f(x)} \\left|0\\right>\\right) \n",
    "\\end{eqnarray}\n",
    "The former is for creating probability distribution $p(\\cdot)$, and the latter for computing $f(\\cdot)$. \n"
   ]
  },
  {
   "cell_type": "markdown",
   "metadata": {},
   "source": [
    "## Integral of sine functions\n",
    "\n",
    "Following Section 4.2 of [\"Amplitude Estimation without Phase Estimation\", by Suzuki et al.](https://arxiv.org/abs/1904.10246), we consider the following integral \n",
    "$$\n",
    "\\mathcal{I} = \\frac{1}{b_\\mbox{max}}\\int_{0}^{b_\\mbox{max}} \\sin^2{x}~dx = \\frac 1 {b_{max}}\\left(\\frac {b_{max}} 2 - \\frac 1 4 \\sin(2b_{max})\\right)\n",
    "$$\n",
    "which is approximated with the following summation\n",
    "\n",
    "$$\n",
    "\\mathcal{S} = \\sum_{x=0}^{2^n-1} \\frac{1}{2^n} \\sin^2{\\left(  \\frac{\\left(x+1/2\\right)b_{\\mbox{max}}}{2^n}  \\right)}.\n",
    "$$\n",
    "\n",
    "This means, we the quantum circuits $\\mathcal{P}$ and $\\mathcal{R}$ are\n",
    "\\begin{eqnarray}\n",
    "\\mathcal{P} \\left|0\\right>_n \\left|0\\right> &=& \\frac{1}{\\sqrt{2^n}} \\sum_{x} \\left|x\\right>_n \\left|0\\right>\\\\\n",
    "\\mathcal{R} \\left|x\\right>_n\\left|0\\right> &=& \\left|x\\right>_n \\left(    \\sin{\\left(  \\frac{\\left(x+1/2\\right)b_{\\mbox{max}}}{2^n}  \\right)} \\left|1\\right> +   \\cos{\\left(  \\frac{\\left(x+1/2\\right)b_{\\mbox{max}}}{2^n}  \\right)} \\left|0\\right>\\right).\n",
    "\\end{eqnarray}\n",
    "\n",
    "$\\mathcal{P}$ can be realized with Hadamard gates, and $\\mathcal{R}$ with controlled-$Y$ rotation gates. "
   ]
  },
  {
   "cell_type": "markdown",
   "metadata": {},
   "source": [
    "### Approximating the integral\n",
    "\n",
    "It is easy to see that as we use large $n$ (i.e., more qubits) and thus larger $b_{\\mbox{max}}$, we can approximate the integral better as illustrated below. "
   ]
  },
  {
   "cell_type": "code",
   "execution_count": 1,
   "metadata": {},
   "outputs": [
    {
     "name": "stdout",
     "output_type": "stream",
     "text": [
      "Analytical Result: 0.00032892188007938847\n",
      "Discretized Result: 0.00032891686344125806\n"
     ]
    }
   ],
   "source": [
    "import math\n",
    "\n",
    "b_max = math.pi / 100  # upper limit of integral # 5\n",
    "nbit = 7  # change this value to get discretized result closer to analytical results # 3\n",
    "\n",
    "analyticResult = (b_max / 2.0 - math.sin(2 * b_max) / 4.0 ) / b_max  # the target integral can be analytically solved\n",
    "print(\"Analytical Result:\", analyticResult)\n",
    "\n",
    "ndiv = 2**nbit  #number of discretization \n",
    "discretizedResult = 0.0\n",
    "for i in range(ndiv):\n",
    "    discretizedResult += math.sin(b_max / ndiv * (i + 0.5))**2\n",
    "discretizedResult = discretizedResult / ndiv\n",
    "print(\"Discretized Result:\", discretizedResult)"
   ]
  },
  {
   "cell_type": "markdown",
   "metadata": {},
   "source": [
    "### Implementing circuits for Monte Carlo integration of sine functions\n",
    "\n",
    "Below are the functions to compute $\\mathcal{P}$, $\\mathcal{R}$, and their inverses."
   ]
  },
  {
   "cell_type": "code",
   "execution_count": 2,
   "metadata": {},
   "outputs": [],
   "source": [
    "# OK\n",
    "def P(qc, qx, nbit):\n",
    "    \"\"\"\n",
    "        Generating uniform probability distribution\n",
    "            qc: quantum circuit\n",
    "            qx: quantum register\n",
    "            nbit: number of qubits\n",
    "        The inverse of P = P\n",
    "    \"\"\"\n",
    "    qc.h(qx)\n",
    "\n",
    "# OK\n",
    "def R(qc, qx, qx_measure, nbit, b_max):\n",
    "    \"\"\"\n",
    "        Computing the integral function f()\n",
    "            qc: quantum circuit\n",
    "            qx: quantum register\n",
    "            qx_measure: quantum register for measurement\n",
    "            nbit: number of qubits\n",
    "            b_max: upper limit of integral            \n",
    "    \"\"\"\n",
    "    qc.ry(b_max / 2**nbit * 2 * 0.5, qx_measure)\n",
    "    for i in range(nbit):\n",
    "        qc.cu3(2**i * b_max / 2**nbit * 2, 0, 0, qx[i], qx_measure[0])\n",
    "\n",
    "# OK\n",
    "def Rinv(qc, qx, qx_measure, nbit, b_max):\n",
    "    \"\"\"3\n",
    "        The inverse of R\n",
    "            qc: quantum circuit\n",
    "            qx: quantum register\n",
    "            qx_measure : quantum register for measurement\n",
    "            nbit: number of qubits\n",
    "            b_max: upper limit of integral\n",
    "    \"\"\"\n",
    "    for i in range(nbit)[::-1]:\n",
    "        qc.cu3(-2**i * b_max / 2**nbit * 2, 0, 0, qx[i], qx_measure[0])\n",
    "    qc.ry(-b_max / 2**nbit * 2 * 0.5, qx_measure)"
   ]
  },
  {
   "cell_type": "markdown",
   "metadata": {},
   "source": [
    "### Grover Operators for Amplitude Estimation\n",
    "\n",
    "We can easily build quantum circuits for fast computation of the Monte Carlo integration as below. Here, we show functions to construct quantum circuits running with simulators. Running them on real devices should be easy by adjusting the parameters of the functions.  "
   ]
  },
  {
   "cell_type": "code",
   "execution_count": 3,
   "metadata": {},
   "outputs": [],
   "source": [
    "import sys\n",
    "sys.path.append('../libmitigation')"
   ]
  },
  {
   "cell_type": "code",
   "execution_count": 4,
   "metadata": {},
   "outputs": [
    {
     "name": "stderr",
     "output_type": "stream",
     "text": [
      "/Users/yangbo/.pyenv/versions/anaconda3-5.1.0/lib/python3.6/site-packages/qiskit/__init__.py:67: DeprecationWarning: Using Qiskit with Python 3.6 is deprecated as of the 0.17.0 release. Support for running Qiskit with Python 3.6 will be removed in a future release.\n",
      "  \"future release.\", DeprecationWarning)\n"
     ]
    }
   ],
   "source": [
    "#Preparing qiskit environment\n",
    "from qiskit import ClassicalRegister, QuantumRegister, QuantumCircuit\n",
    "from qiskit import execute\n",
    "from qiskit import IBMQ\n",
    "from qiskit import Aer\n",
    "from scipy import optimize\n",
    "import sys, time\n",
    "import mpmath as mp\n",
    "import numpy as np\n",
    "import matplotlib.pyplot as plt\n",
    "import random\n",
    "random.seed(10)"
   ]
  },
  {
   "cell_type": "code",
   "execution_count": 5,
   "metadata": {},
   "outputs": [],
   "source": [
    "from qiskit.providers.aer.noise import NoiseModel\n",
    "from qiskit.providers.aer.noise import QuantumError, ReadoutError\n",
    "from qiskit.providers.aer.noise import depolarizing_error\n",
    "import qiskit.ignis.mitigation as mit\n",
    "from qiskit.ignis.mitigation.measurement import tensored_meas_cal, TensoredMeasFitter\n",
    "import importlib\n",
    "from inv_sgs import InvSGS\n",
    "from inv_s_sgs import InvSSGS\n",
    "from inv_lm_sgs import InvLMSGS\n",
    "from inv_s_lm_sgs import InvSLMSGS\n",
    "from inv_s_lm0_sgs import InvSLM0SGS\n",
    "from sgs_algorithm import sgs_algorithm"
   ]
  },
  {
   "cell_type": "code",
   "execution_count": 6,
   "metadata": {},
   "outputs": [],
   "source": [
    "# OK\n",
    "def reflect(qc, qx, qx_measure, qx_ancilla, nbit, b_max):\n",
    "    \"\"\"\n",
    "        Computing reflection operator (I - 2|0><0|)\n",
    "            qc: quantum circuit\n",
    "            qx: quantum register\n",
    "            qx_measure: quantum register for measurement\n",
    "            qx_ancilla: temporal quantum register for decomposing multi controlled NOT gate\n",
    "            nbit: number of qubits\n",
    "            b_max: upper limit of integral\n",
    "    \"\"\"\n",
    "    for i in range(nbit):\n",
    "        qc.x(qx[i])\n",
    "    qc.x(qx_measure[0])\n",
    "    qc.barrier()    #format the circuits visualization\n",
    "    # multi_control_NOT(qc, qx, qx_measure, qx_ancilla, nbit, b_max)\n",
    "    qc.h(qx_measure)\n",
    "    qc.mcx(qx, qx_measure)\n",
    "    qc.h(qx_measure)\n",
    "    qc.barrier()    #format the circuits visualization\n",
    "    qc.x(qx_measure[0])\n",
    "    for i in range(nbit):\n",
    "        qc.x(qx[i])\n",
    "\n",
    "\n",
    "# OK\n",
    "# This is to implement Grover Operator\n",
    "def Q_grover(qc, qx, qx_measure, qx_ancilla, nbit, b_max):\n",
    "    \"\"\"\n",
    "        The Grover operator: R P (I - 2|0><0|) P^+ R^+ U_psi_0 \n",
    "            qc: quantum circuit\n",
    "            qx: quantum register\n",
    "            qx_measure: quantum register for measurement\n",
    "            qx_ancilla: temporal quantum register for decomposing multi controlled NOT gate\n",
    "            nbit: number of qubits\n",
    "            b_max: upper limit of integral\n",
    "    \"\"\"\n",
    "    P(qc, qx, nbit)\n",
    "    qc.barrier()    #format the circuits visualization\n",
    "    R(qc, qx, qx_measure, nbit, b_max)\n",
    "    qc.z(qx_measure[0])\n",
    "    Rinv(qc, qx, qx_measure, nbit, b_max)\n",
    "    qc.barrier()    #format the circuits visualization\n",
    "    P(qc, qx, nbit)\n",
    "    qc.barrier()    #format the circuits visualization\n",
    "    reflect(qc, qx, qx_measure, qx_ancilla, nbit, b_max)\n",
    "    qc.barrier()    #format the circuits visualization"
   ]
  },
  {
   "cell_type": "markdown",
   "metadata": {},
   "source": [
    "## Amplitude Estimation without Phase Estimation\n",
    "\n",
    "To run the amplitude estimation without phase estimation of [Suzuki et al.](https://arxiv.org/abs/1904.10246), we must create quantum circuits that run Grover operators with various number of iterations. The function for creating such circuits is as the following."
   ]
  },
  {
   "cell_type": "code",
   "execution_count": 7,
   "metadata": {},
   "outputs": [],
   "source": [
    "# OK\n",
    "def create_grover_circuit(numebr_grover_list, nbit, b_max):\n",
    "    \"\"\"\n",
    "        To generate quantum circuits running Grover operators with number of iterations in number_grover_list\n",
    "            numebr_grover_list: list of number of Grover operators\n",
    "            nbit: number of qubits (2**nbit = ndiv is the number of discretization in the Monte Carlo integration)\n",
    "            b_max: upper limit of integral\n",
    "        Return:\n",
    "            qc_list: quantum circuits with Grover operators as in number_grover_list\n",
    "    \"\"\"\n",
    "    qc_list = []\n",
    "    for igrover in range(len(numebr_grover_list)):\n",
    "        qx = QuantumRegister(nbit)\n",
    "        qx_measure = QuantumRegister(1)\n",
    "        cr = ClassicalRegister(nbit + 1) # modified grover\n",
    "        qc = QuantumCircuit(qx, qx_measure, cr)\n",
    "        qx_ancilla = QuantumRegister(1)\n",
    "        for ikAA in range(numebr_grover_list[igrover]):\n",
    "            Q_grover(qc, qx, qx_measure, qx_ancilla, nbit, b_max)\n",
    "        qc.measure(qx, cr[:-1]) # modified grover\n",
    "        qc.measure(qx_measure, cr[-1])# modified grover\n",
    "        qc_list.append(qc)\n",
    "    return qc_list"
   ]
  },
  {
   "cell_type": "markdown",
   "metadata": {},
   "source": [
    "For example, quantum circuit with two Grover operators is shown below."
   ]
  },
  {
   "cell_type": "code",
   "execution_count": 8,
   "metadata": {
    "scrolled": true
   },
   "outputs": [
    {
     "name": "stderr",
     "output_type": "stream",
     "text": [
      "/Users/yangbo/.pyenv/versions/anaconda3-5.1.0/lib/python3.6/site-packages/ipykernel_launcher.py:24: DeprecationWarning: The QuantumCircuit.cu3 method is deprecated as of 0.16.0. It will be removed no earlier than 3 months after the release date. You should use the QuantumCircuit.cu method instead, where cu3(ϴ,φ,λ) = cu(ϴ,φ,λ,0).\n",
      "/Users/yangbo/.pyenv/versions/anaconda3-5.1.0/lib/python3.6/site-packages/qiskit/visualization/matplotlib.py:291: DeprecationWarning: style option/s (usepiformat, cregbundle, compress) is/are not supported\n",
      "  set_style(current_style, style)\n"
     ]
    },
    {
     "data": {
      "image/png": "[encoded data removed]",
      "text/plain": [
       "<Figure size 1604.58x2371.88 with 1 Axes>"
      ]
     },
     "execution_count": 8,
     "metadata": {},
     "output_type": "execute_result"
    }
   ],
   "source": [
    "qc_list = create_grover_circuit([2], nbit, b_max)\n",
    "my_style = {'usepiformat': True, 'cregbundle': True,'compress': True }\n",
    "qc_list[0].draw(output=\"mpl\", style=my_style, plot_barriers=False )"
   ]
  },
  {
   "cell_type": "markdown",
   "metadata": {},
   "source": [
    "We also need a helper function to simultaneously run the quantum circuits that are returned by the above functions, as below. "
   ]
  },
  {
   "cell_type": "code",
   "execution_count": 9,
   "metadata": {},
   "outputs": [],
   "source": [
    "# OK\n",
    "def run_grover(qc_list, number_grover_list, shots_list, backend, noise_model=None):\n",
    "    \"\"\"\n",
    "        Run the quantum circuits returned by create_grover_circuit()\n",
    "            qc_list: list of quantum circuits\n",
    "            numebr_grover_list: list of number of Grover operators\n",
    "            shots_list:  list of number of shots\n",
    "            backend: name of backends\n",
    "        \n",
    "        Return:\n",
    "            hit_list: list of count of obserbving \"1\" for qc_list\n",
    "    \"\"\"\n",
    "    counts_list = []\n",
    "    for k in range(len(number_grover_list)):\n",
    "        t1 = time.time()\n",
    "        print(k,\"th round with\", number_grover_list[k],\"oracles\")\n",
    "        job = execute(qc_list[k], backend=backend, shots=shots_list[k], noise_model=noise_model)\n",
    "        lapse = 0\n",
    "        interval = 0.00001\n",
    "        time.sleep(interval)\n",
    "        while job.status().name != 'DONE':\n",
    "            time.sleep(interval)\n",
    "            lapse += 1\n",
    "        counts_list.append(job.result().get_counts(qc_list[k]))\n",
    "        t2 = time.time()\n",
    "        print(t2 - t1, \"s\")\n",
    "    return counts_list"
   ]
  },
  {
   "cell_type": "code",
   "execution_count": 10,
   "metadata": {},
   "outputs": [],
   "source": [
    "def make_hit_list(counts_list):\n",
    "    hit_list = []\n",
    "    for k in range(len(counts_list)):\n",
    "        hits = counts_list[k].get(\"0\"*(nbit+1), 0)\n",
    "        hit_list.append(hits)\n",
    "    return hit_list"
   ]
  },
  {
   "cell_type": "markdown",
   "metadata": {},
   "source": [
    "## Testing the algorithm with simulators\n",
    "\n",
    "Let us run the algorithm with simulators"
   ]
  },
  {
   "cell_type": "code",
   "execution_count": 11,
   "metadata": {},
   "outputs": [],
   "source": [
    "#setting the number of shots and Grover operators.\n",
    "\n",
    "# number_grover_list = [0, 1, 2, 4, 8, 16, 32] # , 64, 128, 256]  # list of number of Grover operators\n",
    "number_grover_list = [i for i in range(100)]\n",
    "shots_list = [100] * len(number_grover_list) # list of number of shots\n",
    "if len(shots_list) != len(number_grover_list):\n",
    "    raise Exception(\n",
    "        'The length of shots_list should be equal to the length of number_grover_list.'\n",
    "    )\n",
    "\n",
    "backend = Aer.get_backend('qasm_simulator')"
   ]
  },
  {
   "cell_type": "code",
   "execution_count": 12,
   "metadata": {},
   "outputs": [],
   "source": [
    "noise_model = NoiseModel()\n",
    "for qi in range(nbit+1):\n",
    "    if qi >= 0:\n",
    "        read_err = ReadoutError([[0.93, 0.07],[0.07,0.93]])\n",
    "        noise_model.add_readout_error(read_err, [qi])"
   ]
  },
  {
   "cell_type": "markdown",
   "metadata": {},
   "source": [
    "Finally, we can run the algorithm as below: "
   ]
  },
  {
   "cell_type": "code",
   "execution_count": null,
   "metadata": {},
   "outputs": [],
   "source": [
    "qc_list = create_grover_circuit(number_grover_list, nbit,b_max)  # list of Grover circuits"
   ]
  },
  {
   "cell_type": "code",
   "execution_count": null,
   "metadata": {},
   "outputs": [],
   "source": [
    "counts_list = run_grover(qc_list, number_grover_list, shots_list, backend, noise_model=noise_model)  # list of number of grover operators"
   ]
  },
  {
   "cell_type": "code",
   "execution_count": null,
   "metadata": {},
   "outputs": [],
   "source": [
    "import pickle\n",
    "with open(\"raw_result_p007_q007_piover100.pkl\", \"wb\") as f:\n",
    "    pickle.dump(counts_list, f)"
   ]
  },
  {
   "cell_type": "code",
   "execution_count": null,
   "metadata": {},
   "outputs": [],
   "source": [
    "import pickle\n",
    "with open(\"raw_result_p007_q007_piover100.pkl\", \"rb\") as f:\n",
    "    counts_list = pickle.load(f)"
   ]
  },
  {
   "cell_type": "code",
   "execution_count": null,
   "metadata": {
    "scrolled": true
   },
   "outputs": [],
   "source": [
    "hit_list = make_hit_list(counts_list)\n",
    "print(hit_list)"
   ]
  },
  {
   "cell_type": "code",
   "execution_count": null,
   "metadata": {},
   "outputs": [],
   "source": [
    "divide = 100\n",
    "plt.plot(number_grover_list, hit_list, marker=\"o\")\n",
    "plt.plot(np.linspace(0,number_grover_list[-1], divide), divide * np.cos(2 * np.linspace(0,number_grover_list[-1], divide) * np.arccos(np.sqrt(discretizedResult))) ** 2)"
   ]
  },
  {
   "cell_type": "code",
   "execution_count": null,
   "metadata": {},
   "outputs": [],
   "source": [
    "shots = 8192\n",
    "qr = QuantumRegister(nbit+1)\n",
    "mit_pattern = [[i] for i in range(nbit+1)]\n",
    "meas_calibs, state_labels = tensored_meas_cal(mit_pattern=mit_pattern, qr=qr, circlabel='mcal')\n",
    "job = execute(meas_calibs, backend=Aer.get_backend('qasm_simulator'), shots=shots, noise_model=noise_model)\n",
    "cal_results = job.result()\n",
    "meas_fitter = TensoredMeasFitter(cal_results, mit_pattern=mit_pattern)"
   ]
  },
  {
   "cell_type": "code",
   "execution_count": null,
   "metadata": {
    "scrolled": true
   },
   "outputs": [],
   "source": [
    "meas_filter = InvSGS(nbit+1, meas_fitter.cal_matrices, mit_pattern)\n",
    "mit_counts_list = []\n",
    "for counts in counts_list:\n",
    "    x_tilde = meas_filter.apply(counts)\n",
    "    mit_counts_list.append(x_tilde)\n",
    "mit_hit_list = make_hit_list(mit_counts_list)"
   ]
  },
  {
   "cell_type": "code",
   "execution_count": null,
   "metadata": {
    "scrolled": true
   },
   "outputs": [],
   "source": [
    "meas_filter = InvSSGS(nbit+1, meas_fitter.cal_matrices, mit_pattern)\n",
    "x_tilde_S_list = [] # K = 0\n",
    "for counts in counts_list:\n",
    "    x_tilde = meas_filter.apply(counts)\n",
    "    x_tilde_S_list.append(x_tilde)\n",
    "mit_hit_S_list = make_hit_list(x_tilde_S_list)\n",
    "print(mit_hit_S_list)"
   ]
  },
  {
   "cell_type": "code",
   "execution_count": null,
   "metadata": {
    "tags": [
     "outputPrepend"
    ]
   },
   "outputs": [],
   "source": [
    "meas_filter = InvSLM0SGS(nbit+1, meas_fitter.cal_matrices, mit_pattern)\n",
    "x_tilde_S_lm_0_list = [] # K = 0\n",
    "for counts in counts_list:\n",
    "    x_tilde = meas_filter.apply(counts)\n",
    "    x_tilde_S_lm_0_list.append(x_tilde)\n",
    "mit_hit_S_lm_0_list = make_hit_list(x_tilde_S_lm_0_list)\n",
    "print(mit_hit_S_lm_0_list)"
   ]
  },
  {
   "cell_type": "code",
   "execution_count": null,
   "metadata": {},
   "outputs": [],
   "source": [
    "import pickle\n",
    "with open(\"hit_list_p007_q007_piover100.pkl\", \"wb\") as f:\n",
    "    pickle.dump(hit_list, f)"
   ]
  },
  {
   "cell_type": "code",
   "execution_count": null,
   "metadata": {},
   "outputs": [],
   "source": [
    "import pickle\n",
    "with open(\"mit_hit_list_p007_q007_piover100.pkl\", \"wb\")as f:\n",
    "    pickle.dump(mit_hit_list, f)"
   ]
  },
  {
   "cell_type": "code",
   "execution_count": null,
   "metadata": {},
   "outputs": [],
   "source": [
    "import pickle\n",
    "with open(\"mit_hit_S_list_p007_q007_piover100.pkl\", \"wb\")as f:\n",
    "    pickle.dump(mit_hit_S_list, f)"
   ]
  },
  {
   "cell_type": "code",
   "execution_count": null,
   "metadata": {},
   "outputs": [],
   "source": [
    "import pickle\n",
    "with open(\"mit_hit_S_lm_0_list_p007_q007_piover100.pkl\", \"wb\")as f:\n",
    "    pickle.dump(mit_hit_S_lm_0_list, f)"
   ]
  },
  {
   "cell_type": "code",
   "execution_count": null,
   "metadata": {},
   "outputs": [],
   "source": [
    "divide = 100\n",
    "number_grover_list = [i for i in range(100)]\n",
    "plt.plot(np.linspace(0,number_grover_list[-1], divide), 100 * np.cos(2 * np.linspace(0,number_grover_list[-1], divide) * np.arccos(np.sqrt(discretizedResult))) ** 2, label=\"theoretical curve\", color=\"blue\")\n",
    "plt.plot(number_grover_list, hit_list, marker=\"o\", label=\"results with readout error\", color=\"green\")\n",
    "plt.plot(number_grover_list, mit_hit_list, marker=\"x\", label=\"mitigated results\", color=\"orange\")\n",
    "plt.plot(number_grover_list, mit_hit_S_list, marker=\"*\", label=\"mitigated results (+S)\", color=\"red\")\n",
    "plt.plot(number_grover_list, mit_hit_S_lm_0_list, marker=\"v\", label=\"mitigated results (+S +LM0)\", color=\"purple\")\n",
    "plt.legend(bbox_to_anchor=(1.05, 1), loc='upper left', borderaxespad=0, fontsize=18)\n",
    "plt.title(\"7qubit, p(0->1): 0.07, p(1->0): 0.07\")\n",
    "plt.xlabel(\"number of grover iterations $m$\")\n",
    "plt.ylabel(\"number of shots for $|00...0>$\")"
   ]
  },
  {
   "cell_type": "code",
   "execution_count": null,
   "metadata": {},
   "outputs": [],
   "source": [
    "def CalcErrorCramérRao(M, shot_list, p0, number_grover_list):\n",
    "    \"\"\"\n",
    "        calculate Cramér-Rao lower bound\n",
    "            M: upper limit of the sum in Fisher information \n",
    "            shots_list:  list of number of shots\n",
    "            p0: the true parameter value to be estimated\n",
    "            numebr_grover_list: list of number of Grover operators        \n",
    "\n",
    "        Return:\n",
    "            square root of Cramér-Rao lower bound:  lower bound on the standard deviation of unbiased estimators\n",
    "    \"\"\"\n",
    "    FisherInfo = 0\n",
    "    for k in range(M + 1):\n",
    "        Nk = shot_list[k]\n",
    "        mk = number_grover_list[k]\n",
    "        FisherInfo += Nk / (p0 * (1 - p0)) * (2 * mk + 1)**2\n",
    "    return np.sqrt(1 / FisherInfo)\n",
    "\n",
    "\n",
    "def CalcNumberOracleCalls(M, shot_list, number_grover_list):\n",
    "    \"\"\"\n",
    "        calculate the total number of oracle calls\n",
    "            M: upper limit of the sum in Fisher information \n",
    "            shots_list:  list of number of shots\n",
    "            numebr_grover_list: list of number of Grover operators        \n",
    "\n",
    "        Return:\n",
    "            Norac: the total number of oracle calls\n",
    "    \"\"\"\n",
    "    Norac = 0\n",
    "    for k in range(M + 1):\n",
    "        Nk = shots_list[k]\n",
    "        mk = number_grover_list[k]\n",
    "        Norac += Nk * (2 * mk + 1)\n",
    "    return Norac\n",
    "\n",
    "def calculate_theta(hit_list, number_grover_list, shots_list):\n",
    "    \"\"\"\n",
    "        calculate optimal theta values\n",
    "            hit_list: list of count of obserbving \"1\" for qc_list\n",
    "            numebr_grover_list: list of number of Grover operators        \n",
    "            shots_list: list of number of shots\n",
    "\n",
    "        Return:\n",
    "            thetaCandidate_list: list of optimal theta\n",
    "    \"\"\"\n",
    "\n",
    "    small = 1.e-15  # small valued parameter to avoid zero division\n",
    "    confidenceLevel = 5  # confidence level to determine the search range\n",
    "\n",
    "    thetaCandidate_list = []\n",
    "    rangeMin = 0.0 + small\n",
    "    rangeMax = 1.0 - small\n",
    "    for igrover in range(len(number_grover_list)):\n",
    "\n",
    "        def loglikelihood(p): # search value\n",
    "            ret = np.zeros_like(p)\n",
    "            theta = np.arcsin(np.sqrt(p)) # search theta\n",
    "            for n in range(igrover + 1):\n",
    "                ihit = hit_list[n] # empirical value\n",
    "                arg = (2 * number_grover_list[n] + 1) * theta # search angle\n",
    "                ret = ret + 2 * ihit * np.log(np.abs(np.sin(arg))) + 2 * (\n",
    "                    shots_list[n] - ihit) * np.log(np.abs(np.cos(arg))) # search log likelihood\n",
    "            return -ret\n",
    "\n",
    "        searchRange = (rangeMin, rangeMax)\n",
    "        searchResult = optimize.brute(loglikelihood, [searchRange])\n",
    "        pCandidate = searchResult[0]\n",
    "        thetaCandidate_list.append(np.arcsin(np.sqrt(pCandidate)))\n",
    "        perror = CalcErrorCramérRao(igrover, shots_list, pCandidate, number_grover_list)\n",
    "        rangeMax = min(pCandidate+confidenceLevel*perror,1.0 - small)\n",
    "        rangeMin = max(pCandidate-confidenceLevel*perror,0.0 + small)\n",
    "    return thetaCandidate_list"
   ]
  },
  {
   "cell_type": "code",
   "execution_count": null,
   "metadata": {},
   "outputs": [],
   "source": [
    "sin_hit_list = [100 - h for h in hit_list]\n",
    "sin_mit_hit_list = [100 - h for h in mit_hit_list]\n",
    "sin_mit_hit_S_list = [100 - h for h in mit_hit_S_list]\n",
    "sin_mit_hit_S_lm_0_list = [100 - h for h in mit_hit_S_lm_0_list]\n",
    "\n",
    "thetaCandidate_list = calculate_theta(\n",
    "    sin_hit_list, number_grover_list, shots_list)  # list of estimated theta values\n",
    "thetaCandidate_mit_list = calculate_theta(\n",
    "    sin_mit_hit_list, number_grover_list, shots_list)  # list of estimated theta values\n",
    "thetaCandidate_mit_S_list = calculate_theta(\n",
    "    sin_mit_hit_S_list, number_grover_list, shots_list)  # list of estimated theta values\n",
    "thetaCandidate_mit_S_lm_0_list = calculate_theta(\n",
    "    sin_mit_hit_S_lm_0_list, number_grover_list, shots_list)  # list of estimated theta values\n",
    "\n",
    "error_list = np.abs(np.sin(thetaCandidate_list)**2 - discretizedResult)  # list of estimation errors\n",
    "error_mit_list = np.abs(np.sin(thetaCandidate_mit_list)**2 - discretizedResult)  # list of estimation errors\n",
    "error_mit_S_list = np.abs(np.sin(thetaCandidate_mit_S_list)**2 - discretizedResult)  # list of estimation errors\n",
    "error_mit_S_lm_0_list = np.abs(np.sin(thetaCandidate_mit_S_lm_0_list)**2 - discretizedResult)  # list of estimation errors\n",
    "OracleCall_list = []  # list of number of oracle calls\n",
    "ErrorCramérRao_list = []  # list of Cramér-Rao lower bound\n",
    "for i in range(len(number_grover_list)):\n",
    "    OracleCall_list.append(\n",
    "        CalcNumberOracleCalls(i, shots_list, number_grover_list))\n",
    "    ErrorCramérRao_list.append(\n",
    "        CalcErrorCramérRao(i, shots_list, discretizedResult, number_grover_list))\n",
    "\n",
    "p = plt.plot( OracleCall_list, ErrorCramérRao_list)\n",
    "p0 = plt.plot( OracleCall_list, error_list, 'o')\n",
    "p1 = plt.plot( OracleCall_list, error_mit_list, '*', color='C4')\n",
    "p2 = plt.plot( OracleCall_list, error_mit_S_list, 'x', color='C2')\n",
    "p3 = plt.plot( OracleCall_list, error_mit_S_lm_0_list, 'v', color='C3')\n",
    "\n",
    "plt.title(\"7qubit, p(0->1): 0.07, p(1->0): 0.07\")\n",
    "plt.xscale('log')\n",
    "plt.xlabel(\"Number of oracle calls\")\n",
    "plt.ylim(0.00000001, 1)\n",
    "plt.yscale('log')\n",
    "plt.ylabel(\"Estimation Error\")\n",
    "plt.legend((p[0], p0[0], p1[0], p2[0], p3[0]), (\"Cramér-Rao\", \"with readout error\", \"mitigated\", \"mitigated (+S)\", \"mitigated (+S +LM)\"))\n",
    "plt.show()"
   ]
  },
  {
   "cell_type": "code",
   "execution_count": null,
   "metadata": {},
   "outputs": [],
   "source": []
  }
 ],
 "metadata": {
  "interpreter": {
   "hash": "aa391fd65487bb82282c7f61c43acd137d3ae737a2944950769740df15f1d9fd"
  },
  "kernelspec": {
   "display_name": "Python 3",
   "language": "python",
   "name": "python3"
  },
  "language_info": {
   "codemirror_mode": {
    "name": "ipython",
    "version": 3
   },
   "file_extension": ".py",
   "mimetype": "text/x-python",
   "name": "python",
   "nbconvert_exporter": "python",
   "pygments_lexer": "ipython3",
   "version": "3.6.13"
  }
 },
 "nbformat": 4,
 "nbformat_minor": 2
}
